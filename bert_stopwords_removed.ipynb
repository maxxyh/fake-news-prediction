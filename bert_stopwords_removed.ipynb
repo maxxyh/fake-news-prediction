{
 "cells": [
  {
   "attachments": {},
   "cell_type": "markdown",
   "metadata": {},
   "source": [
    "# BERT (Stopwords REMOVED)\n",
    "\n",
    "This version of BERT removed stopwords, and is using a max token length of 100 to keep runtimes sane"
   ]
  },
  {
   "cell_type": "code",
   "execution_count": 1,
   "metadata": {},
   "outputs": [
    {
     "name": "stderr",
     "output_type": "stream",
     "text": [
      "/Users/maxx/miniconda3/envs/py3.9/lib/python3.9/site-packages/tqdm/auto.py:21: TqdmWarning: IProgress not found. Please update jupyter and ipywidgets. See https://ipywidgets.readthedocs.io/en/stable/user_install.html\n",
      "  from .autonotebook import tqdm as notebook_tqdm\n"
     ]
    }
   ],
   "source": [
    "# following this tutorial: https://www.analyticsvidhya.com/blog/2020/10/simple-text-multi-classification-task-using-keras-bert/\n",
    "import re\n",
    "import tqdm\n",
    "from nltk.corpus import stopwords\n",
    "import nltk\n",
    "from tensorflow.keras import regularizers, initializers, optimizers, callbacks\n",
    "from tensorflow.keras.preprocessing.sequence import pad_sequences\n",
    "from tensorflow.keras.preprocessing.text import Tokenizer\n",
    "import tensorflow_addons as tfa\n",
    "import tensorflow as tf\n",
    "from keras.utils.np_utils import to_categorical\n",
    "from tensorflow.keras.layers import *\n",
    "from tensorflow.keras.models import Sequential\n",
    "import transformers\n",
    "import pandas as pd\n",
    "import numpy as np"
   ]
  },
  {
   "cell_type": "code",
   "execution_count": 2,
   "metadata": {},
   "outputs": [
    {
     "data": {
      "text/html": [
       "<div>\n",
       "<style scoped>\n",
       "    .dataframe tbody tr th:only-of-type {\n",
       "        vertical-align: middle;\n",
       "    }\n",
       "\n",
       "    .dataframe tbody tr th {\n",
       "        vertical-align: top;\n",
       "    }\n",
       "\n",
       "    .dataframe thead th {\n",
       "        text-align: right;\n",
       "    }\n",
       "</style>\n",
       "<table border=\"1\" class=\"dataframe\">\n",
       "  <thead>\n",
       "    <tr style=\"text-align: right;\">\n",
       "      <th></th>\n",
       "      <th>labels</th>\n",
       "      <th>text</th>\n",
       "    </tr>\n",
       "  </thead>\n",
       "  <tbody>\n",
       "    <tr>\n",
       "      <th>0</th>\n",
       "      <td>1</td>\n",
       "      <td>A little less than a decade ago, hockey fans w...</td>\n",
       "    </tr>\n",
       "    <tr>\n",
       "      <th>1</th>\n",
       "      <td>1</td>\n",
       "      <td>The writers of the HBO series The Sopranos too...</td>\n",
       "    </tr>\n",
       "    <tr>\n",
       "      <th>2</th>\n",
       "      <td>1</td>\n",
       "      <td>Despite claims from the TV news outlet to offe...</td>\n",
       "    </tr>\n",
       "    <tr>\n",
       "      <th>3</th>\n",
       "      <td>1</td>\n",
       "      <td>After receiving 'subpar' service and experienc...</td>\n",
       "    </tr>\n",
       "    <tr>\n",
       "      <th>4</th>\n",
       "      <td>1</td>\n",
       "      <td>After watching his beloved Seattle Mariners pr...</td>\n",
       "    </tr>\n",
       "  </tbody>\n",
       "</table>\n",
       "</div>"
      ],
      "text/plain": [
       "   labels                                               text\n",
       "0       1  A little less than a decade ago, hockey fans w...\n",
       "1       1  The writers of the HBO series The Sopranos too...\n",
       "2       1  Despite claims from the TV news outlet to offe...\n",
       "3       1  After receiving 'subpar' service and experienc...\n",
       "4       1  After watching his beloved Seattle Mariners pr..."
      ]
     },
     "execution_count": 2,
     "metadata": {},
     "output_type": "execute_result"
    }
   ],
   "source": [
    "# read data\n",
    "df = pd.read_csv(\"raw_data/fulltrain.csv\", names=[\"labels\", \"text\"])\n",
    "test_df = pd.read_csv(\"raw_data/balancedtest.csv\", names=[\"labels\", \"text\"])\n",
    "df.head()"
   ]
  },
  {
   "cell_type": "code",
   "execution_count": 3,
   "metadata": {},
   "outputs": [
    {
     "data": {
      "text/plain": [
       "3723     Sighing dejectedly Thursday morning as she wat...\n",
       "3666     Danny Kelvin, a 10-year-old Astros fan sufferi...\n",
       "14859    BREAKING: Caitlyn Jenner Hit With Vehicular Ma...\n",
       "14131    Business Owner Gets Payback After Ferguson Rac...\n",
       "Name: text, dtype: object"
      ]
     },
     "execution_count": 3,
     "metadata": {},
     "output_type": "execute_result"
    }
   ],
   "source": [
    "from sklearn.model_selection import train_test_split\n",
    "# transform y into 1 hot vectors\n",
    "y = pd.get_dummies(df[\"labels\"])\n",
    "y = np.array(y)\n",
    "y_test = pd.get_dummies(test_df[\"labels\"])\n",
    "y_test = np.array(y_test)\n",
    "\n",
    "X_test = test_df[\"text\"]\n",
    "X_train, X_val, y_train, y_val = train_test_split(df['text'],y, stratify=df['labels'])\n",
    "X_train.head(4)"
   ]
  },
  {
   "cell_type": "code",
   "execution_count": 4,
   "metadata": {},
   "outputs": [],
   "source": [
    "REPLACE_BY_SPACE_RE = re.compile('[/(){}\\[\\]\\|@,;]')\n",
    "BAD_SYMBOLS_RE = re.compile('[^0-9a-z #+_]')\n",
    "STOPWORDS = set(stopwords.words('english'))\n",
    "\n",
    "def clean_text(text):\n",
    "    \"\"\"\n",
    "        text: a string\n",
    "        \n",
    "        return: modified initial string\n",
    "    \"\"\"\n",
    "    text = str(text).replace(r'http[\\w:/\\.]+','') # removing urls\n",
    "    text = text.lower() # lowercase text\n",
    "    text = REPLACE_BY_SPACE_RE.sub(' ', text) # replace REPLACE_BY_SPACE_RE symbols by space in text\n",
    "    text = BAD_SYMBOLS_RE.sub('', text) # delete symbols which are in BAD_SYMBOLS_RE from text\n",
    "    text = ' '.join(word for word in text.split() if word not in STOPWORDS) # delete stopwors from text\n",
    "    return text\n",
    "    \n",
    "df['text'] = df['text'].apply(clean_text)"
   ]
  },
  {
   "cell_type": "code",
   "execution_count": 33,
   "metadata": {},
   "outputs": [
    {
     "data": {
      "image/png": "[encoded data removed]",
      "text/plain": [
       "<Figure size 640x480 with 1 Axes>"
      ]
     },
     "metadata": {},
     "output_type": "display_data"
    }
   ],
   "source": [
    "df['text'].apply(len).plot(ylabel=\"num tokens\", ylim=(0,100000))\n",
    "\n",
    "# we can choose roughly 40000 as a maxlen\n",
    "MAX_LEN = 512 # not in use"
   ]
  },
  {
   "cell_type": "code",
   "execution_count": 6,
   "metadata": {},
   "outputs": [
    {
     "name": "stdout",
     "output_type": "stream",
     "text": [
      "Metal device set to: Apple M1 Pro\n",
      "\n",
      "systemMemory: 16.00 GB\n",
      "maxCacheSize: 5.33 GB\n",
      "\n"
     ]
    },
    {
     "name": "stderr",
     "output_type": "stream",
     "text": [
      "2023-04-03 01:36:33.736259: I tensorflow/core/common_runtime/pluggable_device/pluggable_device_factory.cc:305] Could not identify NUMA node of platform GPU ID 0, defaulting to 0. Your kernel may not have been built with NUMA support.\n",
      "2023-04-03 01:36:33.736367: I tensorflow/core/common_runtime/pluggable_device/pluggable_device_factory.cc:271] Created TensorFlow device (/job:localhost/replica:0/task:0/device:GPU:0 with 0 MB memory) -> physical PluggableDevice (device: 0, name: METAL, pci bus id: <undefined>)\n"
     ]
    }
   ],
   "source": [
    "import tensorflow_hub as hub\n",
    "from bert import tokenization\n",
    "module_url = 'https://tfhub.dev/tensorflow/bert_en_uncased_L-12_H-768_A-12/2'\n",
    "bert_layer = hub.KerasLayer(module_url, trainable=True)"
   ]
  },
  {
   "cell_type": "code",
   "execution_count": 7,
   "metadata": {},
   "outputs": [],
   "source": [
    "vocab_file = bert_layer.resolved_object.vocab_file.asset_path.numpy()\n",
    "do_lower_case = bert_layer.resolved_object.do_lower_case.numpy()\n",
    "tokenizer = tokenization.FullTokenizer(vocab_file, do_lower_case)\n",
    "\n",
    "def bert_encode(texts, tokenizer, max_len=512):\n",
    "    all_tokens = []\n",
    "    all_masks = []\n",
    "    all_segments = []\n",
    "    \n",
    "    for text in texts:\n",
    "        text = tokenizer.tokenize(text)\n",
    "            \n",
    "        text = text[:max_len-2]\n",
    "        input_sequence = [\"[CLS]\"] + text + [\"[SEP]\"]\n",
    "        pad_len = max_len - len(input_sequence)\n",
    "        \n",
    "        tokens = tokenizer.convert_tokens_to_ids(input_sequence) + [0] * pad_len\n",
    "        pad_masks = [1] * len(input_sequence) + [0] * pad_len\n",
    "        segment_ids = [0] * max_len\n",
    "        \n",
    "        all_tokens.append(tokens)\n",
    "        all_masks.append(pad_masks)\n",
    "        all_segments.append(segment_ids)\n",
    "    \n",
    "    return np.array(all_tokens), np.array(all_masks), np.array(all_segments)"
   ]
  },
  {
   "cell_type": "code",
   "execution_count": 8,
   "metadata": {},
   "outputs": [],
   "source": [
    "# optimizer = Adam(\n",
    "#     learning_rate=5e-05, # this learning rate is for bert model , taken from huggingface website \n",
    "#     epsilon=1e-08,\n",
    "#     decay=0.01,\n",
    "#     clipnorm=1.0)\n",
    "\n",
    "def build_model(bert_layer, max_len=512):\n",
    "    input_word_ids = tf.keras.Input(shape=(max_len,), dtype=tf.int32, name=\"input_word_ids\")\n",
    "    input_mask = tf.keras.Input(shape=(max_len,), dtype=tf.int32, name=\"input_mask\")\n",
    "    segment_ids = tf.keras.Input(shape=(max_len,), dtype=tf.int32, name=\"segment_ids\")\n",
    "\n",
    "    pooled_output, sequence_output = bert_layer([input_word_ids, input_mask, segment_ids])\n",
    "    clf_output = sequence_output[:, 0, :]\n",
    "    net = tf.keras.layers.Dense(64, activation='relu')(clf_output)\n",
    "    net = tf.keras.layers.Dropout(0.2)(net)\n",
    "    net = tf.keras.layers.Dense(32, activation='relu')(net)\n",
    "    net = tf.keras.layers.Dropout(0.2)(net)\n",
    "    out = tf.keras.layers.Dense(4, activation='softmax')(net)\n",
    "    \n",
    "    model = tf.keras.models.Model(inputs=[input_word_ids, input_mask, segment_ids], outputs=out)\n",
    "    model.compile(tf.keras.optimizers.Adam(lr=1e-5), loss='categorical_crossentropy', metrics=[\n",
    "        \"CategoricalCrossentropy\",\n",
    "        tf.keras.metrics.Precision(), \n",
    "        tf.keras.metrics.Recall(), \n",
    "        tf.keras.metrics.AUC(),\n",
    "        tfa.metrics.F1Score(num_classes=4, average=\"micro\", name=\"f1_score_micro\"), \n",
    "        tfa.metrics.F1Score(num_classes=4, average=\"macro\", name=\"f1_score_macro\")\n",
    "    ])\n",
    "    \n",
    "    return model"
   ]
  },
  {
   "cell_type": "code",
   "execution_count": 9,
   "metadata": {},
   "outputs": [
    {
     "name": "stdout",
     "output_type": "stream",
     "text": [
      "Encoding train\n",
      "Encoding validation\n",
      "Encoding test\n",
      "Done encoding\n"
     ]
    }
   ],
   "source": [
    "max_len = 100\n",
    "print(\"Encoding train\")\n",
    "train_input = bert_encode(X_train, tokenizer, max_len=max_len)\n",
    "print(\"Encoding validation\")\n",
    "val_input = bert_encode(X_val, tokenizer, max_len=max_len)\n",
    "print(\"Encoding test\")\n",
    "test_input = bert_encode(X_test, tokenizer, max_len=max_len)\n",
    "print(\"Done encoding\")\n",
    "train_labels = y_train"
   ]
  },
  {
   "cell_type": "code",
   "execution_count": 10,
   "metadata": {},
   "outputs": [
    {
     "name": "stdout",
     "output_type": "stream",
     "text": [
      "Model: \"model\"\n",
      "__________________________________________________________________________________________________\n",
      " Layer (type)                   Output Shape         Param #     Connected to                     \n",
      "==================================================================================================\n",
      " input_word_ids (InputLayer)    [(None, 100)]        0           []                               \n",
      "                                                                                                  \n",
      " input_mask (InputLayer)        [(None, 100)]        0           []                               \n",
      "                                                                                                  \n",
      " segment_ids (InputLayer)       [(None, 100)]        0           []                               \n",
      "                                                                                                  \n",
      " keras_layer (KerasLayer)       [(None, 768),        109482241   ['input_word_ids[0][0]',         \n",
      "                                 (None, 100, 768)]                'input_mask[0][0]',             \n",
      "                                                                  'segment_ids[0][0]']            \n",
      "                                                                                                  \n",
      " tf.__operators__.getitem (Slic  (None, 768)         0           ['keras_layer[0][1]']            \n",
      " ingOpLambda)                                                                                     \n",
      "                                                                                                  \n",
      " dense (Dense)                  (None, 64)           49216       ['tf.__operators__.getitem[0][0]'\n",
      "                                                                 ]                                \n",
      "                                                                                                  \n",
      " dropout (Dropout)              (None, 64)           0           ['dense[0][0]']                  \n",
      "                                                                                                  \n",
      " dense_1 (Dense)                (None, 32)           2080        ['dropout[0][0]']                \n",
      "                                                                                                  \n",
      " dropout_1 (Dropout)            (None, 32)           0           ['dense_1[0][0]']                \n",
      "                                                                                                  \n",
      " dense_2 (Dense)                (None, 4)            132         ['dropout_1[0][0]']              \n",
      "                                                                                                  \n",
      "==================================================================================================\n",
      "Total params: 109,533,669\n",
      "Trainable params: 109,533,668\n",
      "Non-trainable params: 1\n",
      "__________________________________________________________________________________________________\n"
     ]
    },
    {
     "name": "stderr",
     "output_type": "stream",
     "text": [
      "/Users/maxx/miniconda3/envs/py3.9/lib/python3.9/site-packages/keras/optimizers/optimizer_v2/adam.py:110: UserWarning: The `lr` argument is deprecated, use `learning_rate` instead.\n",
      "  super(Adam, self).__init__(name, **kwargs)\n"
     ]
    }
   ],
   "source": [
    "model = build_model(bert_layer, max_len=max_len)\n",
    "model.summary()"
   ]
  },
  {
   "cell_type": "code",
   "execution_count": 11,
   "metadata": {},
   "outputs": [
    {
     "name": "stdout",
     "output_type": "stream",
     "text": [
      "Epoch 1/3\n"
     ]
    },
    {
     "name": "stderr",
     "output_type": "stream",
     "text": [
      "2023-04-03 01:39:36.677255: W tensorflow/core/platform/profile_utils/cpu_utils.cc:128] Failed to get CPU frequency: 0 Hz\n",
      "2023-04-03 01:39:42.553799: I tensorflow/core/grappler/optimizers/custom_graph_optimizer_registry.cc:113] Plugin optimizer for device_type GPU is enabled.\n"
     ]
    },
    {
     "name": "stdout",
     "output_type": "stream",
     "text": [
      "1145/1145 [==============================] - ETA: 0s - loss: 0.2025 - categorical_crossentropy: 0.2025 - precision: 0.9553 - recall: 0.9052 - auc: 0.9928 - f1_score_micro: 0.9285 - f1_score_macro: 0.9230"
     ]
    },
    {
     "name": "stderr",
     "output_type": "stream",
     "text": [
      "2023-04-03 03:32:37.154918: I tensorflow/core/grappler/optimizers/custom_graph_optimizer_registry.cc:113] Plugin optimizer for device_type GPU is enabled.\n"
     ]
    },
    {
     "name": "stdout",
     "output_type": "stream",
     "text": [
      "\n",
      "Epoch 1: val_f1_score_macro improved from inf to 0.97877, saving model to bert_model.h5\n",
      "1145/1145 [==============================] - 7536s 7s/step - loss: 0.2025 - categorical_crossentropy: 0.2025 - precision: 0.9553 - recall: 0.9052 - auc: 0.9928 - f1_score_micro: 0.9285 - f1_score_macro: 0.9230 - val_loss: 0.0600 - val_categorical_crossentropy: 0.0600 - val_precision: 0.9817 - val_recall: 0.9804 - val_auc: 0.9983 - val_f1_score_micro: 0.9809 - val_f1_score_macro: 0.9788\n",
      "Epoch 2/3\n",
      "1145/1145 [==============================] - ETA: 0s - loss: 0.0466 - categorical_crossentropy: 0.0466 - precision: 0.9861 - recall: 0.9848 - auc: 0.9992 - f1_score_micro: 0.9854 - f1_score_macro: 0.9844\n",
      "Epoch 2: val_f1_score_macro did not improve from 0.97877\n",
      "1145/1145 [==============================] - 7365s 6s/step - loss: 0.0466 - categorical_crossentropy: 0.0466 - precision: 0.9861 - recall: 0.9848 - auc: 0.9992 - f1_score_micro: 0.9854 - f1_score_macro: 0.9844 - val_loss: 0.0430 - val_categorical_crossentropy: 0.0430 - val_precision: 0.9854 - val_recall: 0.9848 - val_auc: 0.9990 - val_f1_score_micro: 0.9852 - val_f1_score_macro: 0.9840\n",
      "Epoch 3/3\n",
      "1145/1145 [==============================] - ETA: 0s - loss: 0.0241 - categorical_crossentropy: 0.0241 - precision: 0.9928 - recall: 0.9924 - auc: 0.9997 - f1_score_micro: 0.9925 - f1_score_macro: 0.9919\n",
      "Epoch 3: val_f1_score_macro did not improve from 0.97877\n",
      "1145/1145 [==============================] - 7232s 6s/step - loss: 0.0241 - categorical_crossentropy: 0.0241 - precision: 0.9928 - recall: 0.9924 - auc: 0.9997 - f1_score_micro: 0.9925 - f1_score_macro: 0.9919 - val_loss: 0.0369 - val_categorical_crossentropy: 0.0369 - val_precision: 0.9889 - val_recall: 0.9886 - val_auc: 0.9990 - val_f1_score_micro: 0.9887 - val_f1_score_macro: 0.9878\n"
     ]
    }
   ],
   "source": [
    "checkpoint = tf.keras.callbacks.ModelCheckpoint('bert_model.h5', monitor='val_f1_score_macro', save_best_only=True, verbose=1)\n",
    "earlystopping = tf.keras.callbacks.EarlyStopping(monitor='val_f1_score_macro', patience=5, verbose=1)\n",
    "\n",
    "train_history = model.fit(\n",
    "    train_input, train_labels, \n",
    "    epochs=3,\n",
    "    callbacks=[checkpoint, earlystopping],\n",
    "    batch_size=32,\n",
    "    verbose=1,\n",
    "    validation_data=[val_input, y_val]\n",
    ")"
   ]
  },
  {
   "cell_type": "code",
   "execution_count": 12,
   "metadata": {},
   "outputs": [
    {
     "name": "stderr",
     "output_type": "stream",
     "text": [
      "WARNING:absl:Found untraced functions such as restored_function_body, restored_function_body, restored_function_body, restored_function_body, restored_function_body while saving (showing 5 of 378). These functions will not be directly callable after loading.\n"
     ]
    },
    {
     "name": "stdout",
     "output_type": "stream",
     "text": [
      "INFO:tensorflow:Assets written to: bert_model_2/assets\n"
     ]
    },
    {
     "name": "stderr",
     "output_type": "stream",
     "text": [
      "INFO:tensorflow:Assets written to: bert_model_2/assets\n"
     ]
    }
   ],
   "source": [
    "model.save('bert_model_2')"
   ]
  },
  {
   "cell_type": "code",
   "execution_count": 14,
   "metadata": {},
   "outputs": [
    {
     "name": "stdout",
     "output_type": "stream",
     "text": [
      "382/382 [==============================] - 768s 2s/step - loss: 0.0369 - categorical_crossentropy: 0.0369 - precision: 0.9889 - recall: 0.9886 - auc: 0.9990 - f1_score_micro: 0.9887 - f1_score_macro: 0.9878\n",
      "Test loss: 0.036921847611665726\n",
      "Test categorical_accuracy: 0.036921847611665726\n",
      "Test precision: 0.9889435172080994\n",
      "Test recall: 0.9886196255683899\n",
      "Test auc: 0.9990195631980896\n",
      "Test F1 (micro): 0.9887014627456665\n",
      "Test F1 (macro): 0.987841010093689\n"
     ]
    }
   ],
   "source": [
    "results = model.evaluate(val_input, y_val, batch_size=32)\n",
    "print('Test loss:', results[0])\n",
    "print('Test categorical_accuracy:', results[1])\n",
    "print('Test precision:', results[2])\n",
    "print('Test recall:', results[3])\n",
    "print('Test auc:', results[4])\n",
    "print('Test F1 (micro):', results[5])\n",
    "print('Test F1 (macro):', results[6])"
   ]
  },
  {
   "cell_type": "code",
   "execution_count": 15,
   "metadata": {},
   "outputs": [],
   "source": [
    "from sklearn.metrics import classification_report, confusion_matrix \n",
    "import seaborn as sns\n",
    "from PIL import Image \n",
    "from tqdm.notebook import tqdm\n",
    "import matplotlib.pyplot as plt\n",
    "\n",
    "def draw_confusion_matrix(true, preds):\n",
    "    conf_matx = confusion_matrix(true, preds)\n",
    "    sns.heatmap(\n",
    "        conf_matx, \n",
    "        annot=True, \n",
    "        annot_kws={\"size\": 12},\n",
    "        fmt='g', \n",
    "        cbar=False, \n",
    "        cmap=\"viridis\"\n",
    "    )\n",
    "    plt.show()"
   ]
  },
  {
   "cell_type": "code",
   "execution_count": 16,
   "metadata": {},
   "outputs": [
    {
     "name": "stdout",
     "output_type": "stream",
     "text": [
      "START predict\n"
     ]
    },
    {
     "name": "stderr",
     "output_type": "stream",
     "text": [
      "2023-04-03 10:16:39.746708: I tensorflow/core/grappler/optimizers/custom_graph_optimizer_registry.cc:113] Plugin optimizer for device_type GPU is enabled.\n"
     ]
    },
    {
     "name": "stdout",
     "output_type": "stream",
     "text": [
      "94/94 [==============================] - 188s 2s/step\n",
      "DONE predict\n",
      "START evaluate\n",
      "94/94 [==============================] - 187s 2s/step - loss: 2.2375 - categorical_crossentropy: 2.2375 - precision: 0.6446 - recall: 0.6397 - auc: 0.8042 - f1_score_micro: 0.6433 - f1_score_macro: 0.6008\n",
      "Test loss: 2.2374730110168457\n",
      "Test categorical_accuracy: 2.2374730110168457\n",
      "Test precision: 0.6446086764335632\n",
      "Test recall: 0.6396666765213013\n",
      "Test auc: 0.8041684031486511\n",
      "Test F1 (micro): 0.6433333158493042\n",
      "Test F1 (macro): 0.6007864475250244\n"
     ]
    },
    {
     "data": {
      "image/png": "[encoded data removed]",
      "text/plain": [
       "<Figure size 640x480 with 1 Axes>"
      ]
     },
     "metadata": {},
     "output_type": "display_data"
    }
   ],
   "source": [
    "\n",
    "# predict\n",
    "print(\"START predict\")\n",
    "test_predictions = model.predict(test_input)\n",
    "test_result = np.argmax(test_predictions, axis=1)\n",
    "print(\"DONE predict\")\n",
    "\n",
    "# evaluate\n",
    "print(\"START evaluate\")\n",
    "test_results = model.evaluate(test_input, y_test)\n",
    "print('Test loss:', test_results[0])\n",
    "print('Test categorical_accuracy:', test_results[1])\n",
    "print('Test precision:', test_results[2])\n",
    "print('Test recall:', test_results[3])\n",
    "print('Test auc:', test_results[4])\n",
    "print('Test F1 (micro):', test_results[5])\n",
    "print('Test F1 (macro):', test_results[6])\n",
    "\n",
    "draw_confusion_matrix(np.argmax(y_test, axis=1), test_result)\n"
   ]
  },
  {
   "cell_type": "code",
   "execution_count": null,
   "metadata": {},
   "outputs": [],
   "source": []
  }
 ],
 "metadata": {
  "kernelspec": {
   "display_name": "py3.9",
   "language": "python",
   "name": "python3"
  },
  "language_info": {
   "codemirror_mode": {
    "name": "ipython",
    "version": 3
   },
   "file_extension": ".py",
   "mimetype": "text/x-python",
   "name": "python",
   "nbconvert_exporter": "python",
   "pygments_lexer": "ipython3",
   "version": "3.9.16"
  },
  "orig_nbformat": 4,
  "vscode": {
   "interpreter": {
    "hash": "88ace0eea4c792d508c4d602a6fdf94fed43df5734ea4818099b45b52cf5d77b"
   }
  }
 },
 "nbformat": 4,
 "nbformat_minor": 2
}
