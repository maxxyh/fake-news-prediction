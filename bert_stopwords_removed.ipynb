{
 "cells": [
  {
   "attachments": {},
   "cell_type": "markdown",
   "metadata": {},
   "source": [
    "# BERT (Stopwords REMOVED)\n",
    "\n",
    "This version of BERT removed stopwords, and is using a max token length of 100 to keep runtimes sane"
   ]
  },
  {
   "cell_type": "code",
   "execution_count": 1,
   "metadata": {},
   "outputs": [
    {
     "name": "stderr",
     "output_type": "stream",
     "text": [
      "/Users/maxx/miniconda3/envs/py3.9/lib/python3.9/site-packages/tqdm/auto.py:21: TqdmWarning: IProgress not found. Please update jupyter and ipywidgets. See https://ipywidgets.readthedocs.io/en/stable/user_install.html\n",
      "  from .autonotebook import tqdm as notebook_tqdm\n"
     ]
    }
   ],
   "source": [
    "# following this tutorial: https://www.analyticsvidhya.com/blog/2020/10/simple-text-multi-classification-task-using-keras-bert/\n",
    "# Check this out as well: https://www.tensorflow.org/text/tutorials/classify_text_with_bert\n",
    "\n",
    "import re\n",
    "import tqdm\n",
    "from nltk.corpus import stopwords\n",
    "import nltk\n",
    "from tensorflow.keras import regularizers, initializers, optimizers, callbacks\n",
    "from tensorflow.keras.preprocessing.sequence import pad_sequences\n",
    "from tensorflow.keras.preprocessing.text import Tokenizer\n",
    "import tensorflow_addons as tfa\n",
    "import tensorflow as tf\n",
    "from keras.utils.np_utils import to_categorical\n",
    "from tensorflow.keras.layers import *\n",
    "from tensorflow.keras.models import Sequential\n",
    "import transformers\n",
    "import pandas as pd\n",
    "import numpy as np\n",
    "\n",
    "from imblearn.over_sampling import RandomOverSampler, SMOTE\n",
    "from imblearn.under_sampling import RandomUnderSampler, NearMiss\n",
    "from collections import Counter"
   ]
  },
  {
   "cell_type": "code",
   "execution_count": 2,
   "metadata": {},
   "outputs": [
    {
     "data": {
      "text/html": [
       "<div>\n",
       "<style scoped>\n",
       "    .dataframe tbody tr th:only-of-type {\n",
       "        vertical-align: middle;\n",
       "    }\n",
       "\n",
       "    .dataframe tbody tr th {\n",
       "        vertical-align: top;\n",
       "    }\n",
       "\n",
       "    .dataframe thead th {\n",
       "        text-align: right;\n",
       "    }\n",
       "</style>\n",
       "<table border=\"1\" class=\"dataframe\">\n",
       "  <thead>\n",
       "    <tr style=\"text-align: right;\">\n",
       "      <th></th>\n",
       "      <th>labels</th>\n",
       "      <th>text</th>\n",
       "    </tr>\n",
       "  </thead>\n",
       "  <tbody>\n",
       "    <tr>\n",
       "      <th>0</th>\n",
       "      <td>1</td>\n",
       "      <td>A little less than a decade ago, hockey fans w...</td>\n",
       "    </tr>\n",
       "    <tr>\n",
       "      <th>1</th>\n",
       "      <td>1</td>\n",
       "      <td>The writers of the HBO series The Sopranos too...</td>\n",
       "    </tr>\n",
       "    <tr>\n",
       "      <th>2</th>\n",
       "      <td>1</td>\n",
       "      <td>Despite claims from the TV news outlet to offe...</td>\n",
       "    </tr>\n",
       "    <tr>\n",
       "      <th>3</th>\n",
       "      <td>1</td>\n",
       "      <td>After receiving 'subpar' service and experienc...</td>\n",
       "    </tr>\n",
       "    <tr>\n",
       "      <th>4</th>\n",
       "      <td>1</td>\n",
       "      <td>After watching his beloved Seattle Mariners pr...</td>\n",
       "    </tr>\n",
       "  </tbody>\n",
       "</table>\n",
       "</div>"
      ],
      "text/plain": [
       "   labels                                               text\n",
       "0       1  A little less than a decade ago, hockey fans w...\n",
       "1       1  The writers of the HBO series The Sopranos too...\n",
       "2       1  Despite claims from the TV news outlet to offe...\n",
       "3       1  After receiving 'subpar' service and experienc...\n",
       "4       1  After watching his beloved Seattle Mariners pr..."
      ]
     },
     "execution_count": 2,
     "metadata": {},
     "output_type": "execute_result"
    }
   ],
   "source": [
    "# read data\n",
    "df = pd.read_csv(\"raw_data/fulltrain.csv\", names=[\"labels\", \"text\"])\n",
    "test_df = pd.read_csv(\"raw_data/balancedtest.csv\", names=[\"labels\", \"text\"])\n",
    "df.head()"
   ]
  },
  {
   "cell_type": "code",
   "execution_count": 4,
   "metadata": {},
   "outputs": [],
   "source": [
    "REPLACE_BY_SPACE_RE = re.compile('[/(){}\\[\\]\\|@,;]')\n",
    "BAD_SYMBOLS_RE = re.compile('[^0-9a-z #+_]')\n",
    "STOPWORDS = set(stopwords.words('english'))\n",
    "\n",
    "def clean_text(text):\n",
    "    \"\"\"\n",
    "        text: a string\n",
    "        \n",
    "        return: modified initial string\n",
    "    \"\"\"\n",
    "    text = str(text).replace(r'http[\\w:/\\.]+','') # removing urls\n",
    "    text = text.lower() # lowercase text\n",
    "    text = REPLACE_BY_SPACE_RE.sub(' ', text) # replace REPLACE_BY_SPACE_RE symbols by space in text\n",
    "    text = BAD_SYMBOLS_RE.sub('', text) # delete symbols which are in BAD_SYMBOLS_RE from text\n",
    "    text = ' '.join(word for word in text.split() if word not in STOPWORDS) # delete stopwors from text\n",
    "    return text\n",
    "    \n",
    "df['text'] = df['text'].apply(clean_text)"
   ]
  },
  {
   "cell_type": "code",
   "execution_count": 20,
   "metadata": {},
   "outputs": [
    {
     "name": "stdout",
     "output_type": "stream",
     "text": [
      "(36640,) (36640, 4)\n",
      "(12214,) (12214, 4)\n"
     ]
    },
    {
     "data": {
      "text/plain": [
       "42050    copyright 2009 washington post first big laugh...\n",
       "15021    mother incredible message sons teacher lesson ...\n",
       "30248                 taxing rich fix deficitlearn liberty\n",
       "45620    european union thursday said agreed sign free ...\n",
       "38464    plan x darpas new project seeks make cyberwarf...\n",
       "                               ...                        \n",
       "44648    indonesian government buy 14 percent shares va...\n",
       "9523     republican vice presidential nominee sarah pal...\n",
       "34450    9 steps take prepare perfect storm civil unres...\n",
       "23426    earthquake near san francisco start shaking ca...\n",
       "11988    openair preacher brother sam hilson rescued 30...\n",
       "Name: text, Length: 36640, dtype: object"
      ]
     },
     "execution_count": 20,
     "metadata": {},
     "output_type": "execute_result"
    }
   ],
   "source": [
    "from sklearn.model_selection import train_test_split\n",
    "# transform y into 1 hot vectors\n",
    "y = pd.get_dummies(df[\"labels\"])\n",
    "y = np.array(y)\n",
    "y_test = pd.get_dummies(test_df[\"labels\"])\n",
    "y_test = np.array(y_test)\n",
    "\n",
    "X_test = test_df[\"text\"]\n",
    "X_train, X_val, y_train, y_val = train_test_split(df['text'],y, stratify=df['labels'])\n",
    "print(X_train.shape,y_train.shape)\n",
    "print(X_val.shape,y_val.shape)"
   ]
  },
  {
   "cell_type": "code",
   "execution_count": 33,
   "metadata": {},
   "outputs": [
    {
     "name": "stdout",
     "output_type": "stream",
     "text": [
      "(20828, 1)\n",
      "training:  [10535  5207 13402  7496]\n",
      "training rus:  [5207 5207 5207 5207]\n"
     ]
    },
    {
     "data": {
      "text/plain": [
       "array(['touting robust traffic par popular games representatives las vegas bellagio resort said thursday casino enjoying steady profits new slot machine explicitly guarantees players lose lose dollar machines 48 reportedly installed casinos main gaming floor several weeks ago feature large prominent placard bolted front panel unambiguously notifies players six different languages absolutely chance receiving kind payout incredibly pleased theres demand slot makes winning utterly impossible said casino representative kelly ambrose emphasizing slot machines traditionally offered longer odds others lose dollar first remove success gameplay entirely weve seen people genuinely excited inserting dollar bill losing inserting another dollar bill happy guests bellagio added ambrose according casino sources new machines features simple design consisting plain gray outer casing sidemounted handle pulled immediately informs player lost game flashing word loser screen sounding loud buzzer noticeably absent lose dollar slot revolving reels colorful icons payout tray bellagio officials confirmed due fact winning scenarios exist money ever disbursed lose players quickly prompted insert cash lighted slot bills reportedly accepts denominations high 100 bellagio representatives confirmed lose dollar slots almost always use typically several people standing nearby waiting play even slower weekday early morning periods new games also reportedly appeal wide demographic men women young old players alike feeding money machines walking away emptyhanded 100 percent time sometimes slot takes heat patient said leonard grant 54 bellagio guest told reporters undeterred despite lost approximately 750 four hours lose dollar machine quit might walking away jackpot next guys gonna get takes one lucky break added grant inserting another dollar bill game pulling handle damn think im getting close though feel new slot machines continue perform well bellagio reportedly move ahead similar gaming innovations including roulette wheel without ball totally blank craps table players simply dump chips leave',\n",
       "       'mcdonalds corporation ever dedicated providing inexpensive tasty convenient food much world possible open newest franchise mens washroom existing mcdonalds customers soon able enjoy delicious taste mcdonalds food take care hygienic needs time brandnew restaurant opens bathroom charlottesville va mcdonalds new restaurant decorated 50s rock n roll theme featuring indoor playland inaugurated tuesday ribboncutting ceremony held washroom featured guests include marching band director charlottesvilles chamber commerce special appearance ronald mcdonald eat hamburgers grinning delighted mcdonald said eat consumers cant afford far great taste mcdonalds said quinn reynolds vice president charge promotions mcdonalds whether theyre home job attending basic hygienic needs people easy access delicious mcdonalds food great addition said steve connolly charlottesville banker frequent mcdonalds customer tried new mcdonalds tuesday enjoying arch deluxe value meal go bathroom saw already three people line stalls wait might problem great pleasure another mcdonalds restaurant right ready serve hot tasty food service quick friendly washroom natural choice new location reynolds said people going people like mcdonalds food often young children accompanied parents going washroom mcdonalds always perfect place families little bit worried new restaurant cutting business said dave grobelkowski manager original restaurant people going ones whove bought stuff us anyway run supplies go bathroom borrow ideally restrooms everywhere would provide ready access mcdonalds food reynolds said ambitious scheme least five years road meanwhile plan open additional restaurant ladies room within months already drafting plans fourth restaurant along corridor leading dining room restrooms likely mac express window open walkin freezer original restaurant grimace friend noted mcdonald watch hamburglar',\n",
       "       'first quarter 2002 sales new us homes rose 53 percent among dockerswearing pictionaryplaying lameos commerce department reported monday lameos ken caryn worth neither enjoy attending rock concerts purchase dream home arlington va encouraging news us economy commerce secretary evans said three straight months homebuying statistics robust march housing starts peaking seasonally adjusted rate 166 million units mr mrs suburban dork scooping houses like theres tomorrow though housingindustry analysts cant understand thinking person would want saddled hefty mortgage consign depressing isolated whitebread existence say falling interest rates represent primary reason surge federal reserve repeatedly cut interest rates effort slow recession stimulate consumer spending took pains distance trend federal reserve board may stimulated homebuying interestrate cuts federal reserve chairman alan greenspan said doesnt mean us would ever want live splitlevel ranch soulless gated community near phoenix well obsess golf property values promise youll shoot ever comes according kiplingers senior writer peter akkaf addition buying homes lameos refinancing existing mortgages take advantage lower rates lameos across country making appointments financial institutions ask men ugly neckties women hairstyles 10 years style adjust mortgages slightly favorable rate akkaf said thats done return homes stare 1299 monet prints target listen andrea bocelli ministereos kind life asked recent warm temperatures could goosed market national realtors board president maggie zadora rolled eyes graph us home buyers lameos non lameos lameos god thats true thats sad zadora said like ooh mary 10 degrees warmer outside instead going something fun creative lets pile minivan search bland colonial dreams alan laurie butterfield glen burnie md among many lameos take advantage favorable buying conditions last month purchased first home threebedroom splitlevel featureless suburban subdivision near baltimore wed rented long figured probably could paid half mortgage said laurie 33 hasnt saturday night months interest rates us working steadily seemed like perfect time get house child way wanted move someplace lot space good public schools said alan 34 sporting tuckedin polo shirt embroidered companys logo also good investment neighborhood didnt even exist 10 years ago already housing values increased onethird 1996 estimates butterfields decision impressed money columnist william ross smart move alan laurie said ross facetiously tapping temple thanks tremendous savvy financial acumen brandnew place hang wind sock fabulous fun chained mortgage next 30 years housingindustry experts say surge home buying indicates increased confidence us economy part lameos purchasing home act pessimist said frank nothaft chief economist freddie mac act dweeb sure renting costs time owning want spend weekends cleaning leaf gutters fixing garagedoor opener want happy life way short people loosen',\n",
       "       ...,\n",
       "       'must said date night suburban married couple evening manhattan endure car chases unwanted attention thugs guns superior recent movies kind marital action comedy saying much better bounty hunter hear morgans quite good presence tina fey steve carell main roles may promise something since rather usual mismatched nicelooking pair romantic comedy corn muffins accomplished professional funny people especially television thats part problem date night sets stars afloat busy conventional story hoping proven talents maybe reputations keep picture sinking doesnt entirely treading water 90 minutes great accomplishment though fey shows occasional flashes smart anxious sarcasm drives liz lemon showbiz tumult 30 rock though cant look carells face without inferring antic cluelessness michael scott office performers constrained drab formula demanded longform bigscreen entertainment claire phil foster real estate agent accountant two kids house new jersey fey carell shoulder laughkilling burden ordinary likability means cant smart witty weird flurry outtakes accompanying end credits suggests much livelier movie might allowed improvise everything written script without regard plot twists character arcs creaky hollywood machinery keeps running frantically one set piece next date night dutifully directed shawn levy night museum among much else hectic halfbaked screenplay josh klausner last next shrek movies moments pleasant mischief come courtesy supporting players either turn carell fey straight men else briefly rouse competitive comic life surprising always relief see kristen wiig movie like one nothing shocking encountering mark wahlberg without shirt claire phils contrasting reactions spectacle pectorals elicit laughs wahlberg speaks hebrew hardly fail hilarious even encounter james franco mila kunis pair wouldbe alphabet city outlaws show advance plot blessed moments derail entirely plot cares fosters worried marriage gone stale theyve turned boring impulsively head city arriving superchic restaurant without reservation hijack another couples table mistaken couple pair bad guys jimmi simpson common work bad guys scrambling retrieve flash drive sensitive information means guns pointed windshields shatter lot noise distract audience uneven dialogue scattershot marital foolery would permit brief discourse state verbal humor modern screen comedy well never mind let say date night like many films type often relies words catchphrases inflections signify generally accepted notion funniness rather know actually funny example word vagina intrinsically humorous properties uttered believing sufficient make thing sarcastic rhetorical question seriously really become almost universal lazy substitute traditional double take habit trying make line retroactively uproarious admitting really wasnt funny begin idea said ha ha know im trying say date night untypically tries go meta sub straightforwardly schticky archly selfconscious also end sweet sincere impossible feat carell fey might able pull permitted try production notes date night produced directed shawn levy written josh klausner director photography dean semler music christophe beck production designer david gropman costumes marlene stewart released 20th century fox running time 1 hour 28 minutes steve carell phil foster tina fey claire foster mark wahlberg holbrooke grant taraji p henson detective arroyo kristen wiig haley sullivan james franco taste mila kunis whippit jimmi simpson armstrong common collins date night rated pg13 sexual references naughty words gunshots perfectly innocuous',\n",
       "       'xinhua writer fu yunwei beijing oct 27 xinhua ambitious stimulus measures impressive gdp growth policy coordination china played prominent role fighting global financial crisis international monetary funds deputy managing director takatoshi kato says chinas role kato beijing third international tax dialogue itd global conference opened monday exclusive interview xinhua meeting praised chinas effective stimulus measures hoped china could maintain reform initiatives make success china adopted ambitious stimulus package little bit ahead g20 countries last november kato said talking chinas efforts fighting crisis way china set good precedent countries follow suit terms extent content package said sense imf commends much ambitious undertaking part chinese authorities stressed kato third quarter chinas gdp growth rose 89 percent according kato figure encouraging sense strong growth supported strong investment robust consumption hope trend maintained 2010 said kato pointed chinese authorities encouraged private consumption compared investment exports several policy actions certainly contributing direction significant budget appropriations social safety net kato said imf recognized china made progress reforming foreign exchange rate management market infrastructure like development stock market hope reform initiatives continue months ahead said china rebalancing kato noted global rebalancing means countries substantial current account deficits savings must increased part countries significant current account surpluses efforts increase domestic demand increasingly important chinese prime minister wen jiabao well leaders affirmed several times chinese authorities intention encourage private consumption noted think intention consistent global rebalancing agenda kato also said china contribute rebalancing initiatives increasing households purchasing power making investment non tradable sector profitable rise g20 rise g20 kato said amid deepest crisis since second world war policy coordination cooperation among players vital global economy background g20 framework become prominent imf think recovery process slow given nature recovery critical g20 play role policy coordination global economy solid footing said kato china prominent member g20 chinas role critical process added kato also noted g20 framework make voices lowincome countries heard many ways sure g20 leaders looking effective ways represent low income nations pittsburgh summit september g20 leaders agreed least 5percentage point shift imf quota shares dynamic emerging lowincome countries imf members said one testament voices emerging lowincome countries increasingly strengthened said imf world bank extent trying represent views lowincome countries universal membership',\n",
       "       'noticed celebrity marie osmond seems everywhere days brother donny singing together las vegas shes losing pounds nutrisystem shes fainting dancing stars open myriad quilt magazines see face inside osmond turns 50 october designs fabric quilting treasures also markets home sewing machines janome company recently issued challenge quilters offering 17 000 prizes sponsoring ebay auction 10 finalist quilts proceeds going childrens miracle network charity osmond cofounded 1980s top three winners dean deerfield midland texas made crazy quilt titled little bit country firstplace prize included special edition sewing machine 750 storage organization products 750 assorted marie osmond quilting treasures fabric products well porcelain doll designed osmond coordinating quilted table runner total package valued 9 000 natalie mouw wheaton ill created victory garden win second place sewing machine 500 storage products 500 fabric doll package valued 2 499 gretchen stumme rochester ny entered quilt titled maries stars third place received sewing machine 250 storage products 250 fabric doll package valued 1 800 osmond says news release avid quilter chose final 10 quilts hundreds received posted online asked people vote web site wwwmarieosmondcom voters chose three favorites 10 offered ebay deerfield says crazy quilting one favorite techniques made four identical quilt blocks rotated found arrangement liked 30inch square quilt bordered prairie points embellished freshwater pearls amethyst crystals vintage lace embroidery work deerfield hand although stitched together blocks attached border machine says already owns multiple machines two made janome yet shes thrilled receive latest 11000 model first prize according national surveys quilters really dedicated art usually one sewing machine makes deerfield one serious quilt maker sherida warner writes grand junction daily sentinel email sheridawarner gjsentinelcom'],\n",
       "      dtype=object)"
      ]
     },
     "execution_count": 33,
     "metadata": {},
     "output_type": "execute_result"
    }
   ],
   "source": [
    "# Randomly under sample the majority class\n",
    "rus = RandomUnderSampler(random_state=42)\n",
    "X_train_rus, y_train_rus= rus.fit_resample(X_train.values.reshape(-1,1), y_train)\n",
    "# Check the number of records after under sampling\n",
    "print(X_train_rus.shape)\n",
    "print('training: ', y_train.sum(axis=0))\n",
    "print('training rus: ', y_train_rus.sum(axis=0))\n",
    "X_train_rus = X_train_rus.reshape(X_train_rus.shape[0],)"
   ]
  },
  {
   "cell_type": "code",
   "execution_count": 33,
   "metadata": {},
   "outputs": [
    {
     "data": {
      "image/png": "[encoded data removed]",
      "text/plain": [
       "<Figure size 640x480 with 1 Axes>"
      ]
     },
     "metadata": {},
     "output_type": "display_data"
    }
   ],
   "source": [
    "df['text'].apply(len).plot(ylabel=\"num tokens\", ylim=(0,100000))\n",
    "\n",
    "# we can choose roughly 40000 as a maxlen\n",
    "MAX_LEN = 512 # not in use"
   ]
  },
  {
   "cell_type": "code",
   "execution_count": 34,
   "metadata": {},
   "outputs": [
    {
     "name": "stdout",
     "output_type": "stream",
     "text": [
      "Metal device set to: Apple M1 Pro\n",
      "\n",
      "systemMemory: 16.00 GB\n",
      "maxCacheSize: 5.33 GB\n",
      "\n"
     ]
    },
    {
     "name": "stderr",
     "output_type": "stream",
     "text": [
      "2023-04-06 03:18:11.300579: I tensorflow/core/common_runtime/pluggable_device/pluggable_device_factory.cc:305] Could not identify NUMA node of platform GPU ID 0, defaulting to 0. Your kernel may not have been built with NUMA support.\n",
      "2023-04-06 03:18:11.301084: I tensorflow/core/common_runtime/pluggable_device/pluggable_device_factory.cc:271] Created TensorFlow device (/job:localhost/replica:0/task:0/device:GPU:0 with 0 MB memory) -> physical PluggableDevice (device: 0, name: METAL, pci bus id: <undefined>)\n"
     ]
    }
   ],
   "source": [
    "import tensorflow_hub as hub\n",
    "from bert import tokenization\n",
    "module_url = 'https://tfhub.dev/tensorflow/bert_en_uncased_L-12_H-768_A-12/2'\n",
    "bert_layer = hub.KerasLayer(module_url, trainable=True)"
   ]
  },
  {
   "cell_type": "code",
   "execution_count": 35,
   "metadata": {},
   "outputs": [],
   "source": [
    "vocab_file = bert_layer.resolved_object.vocab_file.asset_path.numpy()\n",
    "do_lower_case = bert_layer.resolved_object.do_lower_case.numpy()\n",
    "tokenizer = tokenization.FullTokenizer(vocab_file, do_lower_case)\n",
    "\n",
    "def bert_encode(texts, tokenizer, max_len=512):\n",
    "    all_tokens = []\n",
    "    all_masks = []\n",
    "    all_segments = []\n",
    "    \n",
    "    for text in texts:\n",
    "        text = tokenizer.tokenize(text)\n",
    "            \n",
    "        text = text[:max_len-2]\n",
    "        input_sequence = [\"[CLS]\"] + text + [\"[SEP]\"]\n",
    "        pad_len = max_len - len(input_sequence)\n",
    "        \n",
    "        tokens = tokenizer.convert_tokens_to_ids(input_sequence) + [0] * pad_len\n",
    "        pad_masks = [1] * len(input_sequence) + [0] * pad_len\n",
    "        segment_ids = [0] * max_len\n",
    "        \n",
    "        all_tokens.append(tokens)\n",
    "        all_masks.append(pad_masks)\n",
    "        all_segments.append(segment_ids)\n",
    "    \n",
    "    return np.array(all_tokens), np.array(all_masks), np.array(all_segments)"
   ]
  },
  {
   "cell_type": "code",
   "execution_count": 36,
   "metadata": {},
   "outputs": [],
   "source": [
    "# optimizer = Adam(\n",
    "#     learning_rate=5e-05, # this learning rate is for bert model , taken from huggingface website \n",
    "#     epsilon=1e-08,\n",
    "#     decay=0.01,\n",
    "#     clipnorm=1.0)\n",
    "\n",
    "def build_model(bert_layer, max_len=512):\n",
    "    input_word_ids = tf.keras.Input(shape=(max_len,), dtype=tf.int32, name=\"input_word_ids\")\n",
    "    input_mask = tf.keras.Input(shape=(max_len,), dtype=tf.int32, name=\"input_mask\")\n",
    "    segment_ids = tf.keras.Input(shape=(max_len,), dtype=tf.int32, name=\"segment_ids\")\n",
    "\n",
    "    pooled_output, sequence_output = bert_layer([input_word_ids, input_mask, segment_ids])\n",
    "    clf_output = sequence_output[:, 0, :]\n",
    "    net = tf.keras.layers.Dense(64, activation='relu')(clf_output)\n",
    "    net = tf.keras.layers.Dropout(0.2)(net)\n",
    "    net = tf.keras.layers.Dense(32, activation='relu')(net)\n",
    "    net = tf.keras.layers.Dropout(0.2)(net)\n",
    "    out = tf.keras.layers.Dense(4, activation='softmax')(net)\n",
    "    \n",
    "    model = tf.keras.models.Model(inputs=[input_word_ids, input_mask, segment_ids], outputs=out)\n",
    "    model.compile(tf.keras.optimizers.Adam(lr=1e-5), loss='categorical_crossentropy', metrics=[\n",
    "        \"CategoricalCrossentropy\",\n",
    "        tf.keras.metrics.Precision(), \n",
    "        tf.keras.metrics.Recall(), \n",
    "        tf.keras.metrics.AUC(),\n",
    "        tfa.metrics.F1Score(num_classes=4, average=\"micro\", name=\"f1_score_micro\"), \n",
    "        tfa.metrics.F1Score(num_classes=4, average=\"macro\", name=\"f1_score_macro\")\n",
    "    ])\n",
    "    \n",
    "    return model"
   ]
  },
  {
   "cell_type": "code",
   "execution_count": 37,
   "metadata": {},
   "outputs": [
    {
     "name": "stdout",
     "output_type": "stream",
     "text": [
      "Encoding train\n",
      "Encoding validation\n",
      "Encoding test\n",
      "Done encoding\n"
     ]
    }
   ],
   "source": [
    "max_len = 100\n",
    "print(\"Encoding train\")\n",
    "train_input = bert_encode(X_train_rus, tokenizer, max_len=max_len)\n",
    "print(\"Encoding validation\")\n",
    "val_input = bert_encode(X_val, tokenizer, max_len=max_len)\n",
    "print(\"Encoding test\")\n",
    "test_input = bert_encode(X_test, tokenizer, max_len=max_len)\n",
    "print(\"Done encoding\")\n",
    "train_labels = y_train_rus"
   ]
  },
  {
   "cell_type": "code",
   "execution_count": 38,
   "metadata": {},
   "outputs": [
    {
     "name": "stdout",
     "output_type": "stream",
     "text": [
      "Model: \"model\"\n",
      "__________________________________________________________________________________________________\n",
      " Layer (type)                   Output Shape         Param #     Connected to                     \n",
      "==================================================================================================\n",
      " input_word_ids (InputLayer)    [(None, 100)]        0           []                               \n",
      "                                                                                                  \n",
      " input_mask (InputLayer)        [(None, 100)]        0           []                               \n",
      "                                                                                                  \n",
      " segment_ids (InputLayer)       [(None, 100)]        0           []                               \n",
      "                                                                                                  \n",
      " keras_layer (KerasLayer)       [(None, 768),        109482241   ['input_word_ids[0][0]',         \n",
      "                                 (None, 100, 768)]                'input_mask[0][0]',             \n",
      "                                                                  'segment_ids[0][0]']            \n",
      "                                                                                                  \n",
      " tf.__operators__.getitem (Slic  (None, 768)         0           ['keras_layer[0][1]']            \n",
      " ingOpLambda)                                                                                     \n",
      "                                                                                                  \n",
      " dense (Dense)                  (None, 64)           49216       ['tf.__operators__.getitem[0][0]'\n",
      "                                                                 ]                                \n",
      "                                                                                                  \n",
      " dropout (Dropout)              (None, 64)           0           ['dense[0][0]']                  \n",
      "                                                                                                  \n",
      " dense_1 (Dense)                (None, 32)           2080        ['dropout[0][0]']                \n",
      "                                                                                                  \n",
      " dropout_1 (Dropout)            (None, 32)           0           ['dense_1[0][0]']                \n",
      "                                                                                                  \n",
      " dense_2 (Dense)                (None, 4)            132         ['dropout_1[0][0]']              \n",
      "                                                                                                  \n",
      "==================================================================================================\n",
      "Total params: 109,533,669\n",
      "Trainable params: 109,533,668\n",
      "Non-trainable params: 1\n",
      "__________________________________________________________________________________________________\n"
     ]
    },
    {
     "name": "stderr",
     "output_type": "stream",
     "text": [
      "/Users/maxx/miniconda3/envs/py3.9/lib/python3.9/site-packages/keras/optimizers/optimizer_v2/adam.py:110: UserWarning: The `lr` argument is deprecated, use `learning_rate` instead.\n",
      "  super(Adam, self).__init__(name, **kwargs)\n"
     ]
    }
   ],
   "source": [
    "model = build_model(bert_layer, max_len=max_len)\n",
    "model.summary()"
   ]
  },
  {
   "cell_type": "code",
   "execution_count": 39,
   "metadata": {},
   "outputs": [
    {
     "name": "stdout",
     "output_type": "stream",
     "text": [
      "Epoch 1/3\n"
     ]
    },
    {
     "name": "stderr",
     "output_type": "stream",
     "text": [
      "2023-04-06 03:20:04.179981: W tensorflow/core/platform/profile_utils/cpu_utils.cc:128] Failed to get CPU frequency: 0 Hz\n",
      "2023-04-06 03:20:10.154493: I tensorflow/core/grappler/optimizers/custom_graph_optimizer_registry.cc:113] Plugin optimizer for device_type GPU is enabled.\n"
     ]
    },
    {
     "name": "stdout",
     "output_type": "stream",
     "text": [
      "651/651 [==============================] - ETA: 0s - loss: 0.4746 - categorical_crossentropy: 0.4746 - precision: 0.8946 - recall: 0.7528 - auc: 0.9620 - f1_score_micro: 0.8180 - f1_score_macro: 0.8177 "
     ]
    },
    {
     "name": "stderr",
     "output_type": "stream",
     "text": [
      "2023-04-06 10:57:45.636089: I tensorflow/core/grappler/optimizers/custom_graph_optimizer_registry.cc:113] Plugin optimizer for device_type GPU is enabled.\n"
     ]
    },
    {
     "name": "stdout",
     "output_type": "stream",
     "text": [
      "\n",
      "Epoch 1: val_f1_score_macro improved from inf to 0.93200, saving model to bert_model.h5\n",
      "651/651 [==============================] - 28260s 43s/step - loss: 0.4746 - categorical_crossentropy: 0.4746 - precision: 0.8946 - recall: 0.7528 - auc: 0.9620 - f1_score_micro: 0.8180 - f1_score_macro: 0.8177 - val_loss: 0.1996 - val_categorical_crossentropy: 0.1996 - val_precision: 0.9401 - val_recall: 0.9338 - val_auc: 0.9919 - val_f1_score_micro: 0.9361 - val_f1_score_macro: 0.9320\n",
      "Epoch 2/3\n",
      "651/651 [==============================] - ETA: 0s - loss: 0.1240 - categorical_crossentropy: 0.1240 - precision: 0.9650 - recall: 0.9565 - auc: 0.9962 - f1_score_micro: 0.9599 - f1_score_macro: 0.9599\n",
      "Epoch 2: val_f1_score_macro did not improve from 0.93200\n",
      "651/651 [==============================] - 5223s 8s/step - loss: 0.1240 - categorical_crossentropy: 0.1240 - precision: 0.9650 - recall: 0.9565 - auc: 0.9962 - f1_score_micro: 0.9599 - f1_score_macro: 0.9599 - val_loss: 0.0982 - val_categorical_crossentropy: 0.0982 - val_precision: 0.9725 - val_recall: 0.9684 - val_auc: 0.9967 - val_f1_score_micro: 0.9700 - val_f1_score_macro: 0.9668\n",
      "Epoch 3/3\n",
      "651/651 [==============================] - ETA: 0s - loss: 0.0645 - categorical_crossentropy: 0.0645 - precision: 0.9802 - recall: 0.9777 - auc: 0.9988 - f1_score_micro: 0.9787 - f1_score_macro: 0.9787 \n",
      "Epoch 3: val_f1_score_macro did not improve from 0.93200\n",
      "651/651 [==============================] - 11295s 17s/step - loss: 0.0645 - categorical_crossentropy: 0.0645 - precision: 0.9802 - recall: 0.9777 - auc: 0.9988 - f1_score_micro: 0.9787 - f1_score_macro: 0.9787 - val_loss: 0.0925 - val_categorical_crossentropy: 0.0925 - val_precision: 0.9737 - val_recall: 0.9717 - val_auc: 0.9967 - val_f1_score_micro: 0.9727 - val_f1_score_macro: 0.9706\n"
     ]
    }
   ],
   "source": [
    "checkpoint = tf.keras.callbacks.ModelCheckpoint('bert_model.h5', monitor='val_f1_score_macro', save_best_only=True, verbose=1)\n",
    "earlystopping = tf.keras.callbacks.EarlyStopping(monitor='val_f1_score_macro', patience=5, verbose=1)\n",
    "\n",
    "train_history = model.fit(\n",
    "    train_input, train_labels, \n",
    "    epochs=3,\n",
    "    callbacks=[checkpoint, earlystopping],\n",
    "    batch_size=32,\n",
    "    verbose=1,\n",
    "    validation_data=[val_input, y_val]\n",
    ")"
   ]
  },
  {
   "cell_type": "code",
   "execution_count": 40,
   "metadata": {},
   "outputs": [
    {
     "name": "stderr",
     "output_type": "stream",
     "text": [
      "WARNING:absl:Found untraced functions such as restored_function_body, restored_function_body, restored_function_body, restored_function_body, restored_function_body while saving (showing 5 of 378). These functions will not be directly callable after loading.\n"
     ]
    },
    {
     "ename": "NotFoundError",
     "evalue": "/var/folders/68/c2vd8ndn12s0ky3brj493wzr0000gn/T/tfhub_modules/ce53fe6769d2ac3a260e92555120c54e1aecbea6/assets/vocab.txt; No such file or directory",
     "output_type": "error",
     "traceback": [
      "\u001b[0;31m---------------------------------------------------------------------------\u001b[0m",
      "\u001b[0;31mNotFoundError\u001b[0m                             Traceback (most recent call last)",
      "Cell \u001b[0;32mIn[40], line 1\u001b[0m\n\u001b[0;32m----> 1\u001b[0m model\u001b[39m.\u001b[39;49msave(\u001b[39m'\u001b[39;49m\u001b[39mbert_model_2\u001b[39;49m\u001b[39m'\u001b[39;49m)\n",
      "File \u001b[0;32m~/miniconda3/envs/py3.9/lib/python3.9/site-packages/keras/utils/traceback_utils.py:67\u001b[0m, in \u001b[0;36mfilter_traceback.<locals>.error_handler\u001b[0;34m(*args, **kwargs)\u001b[0m\n\u001b[1;32m     65\u001b[0m \u001b[39mexcept\u001b[39;00m \u001b[39mException\u001b[39;00m \u001b[39mas\u001b[39;00m e:  \u001b[39m# pylint: disable=broad-except\u001b[39;00m\n\u001b[1;32m     66\u001b[0m   filtered_tb \u001b[39m=\u001b[39m _process_traceback_frames(e\u001b[39m.\u001b[39m__traceback__)\n\u001b[0;32m---> 67\u001b[0m   \u001b[39mraise\u001b[39;00m e\u001b[39m.\u001b[39mwith_traceback(filtered_tb) \u001b[39mfrom\u001b[39;00m \u001b[39mNone\u001b[39m\n\u001b[1;32m     68\u001b[0m \u001b[39mfinally\u001b[39;00m:\n\u001b[1;32m     69\u001b[0m   \u001b[39mdel\u001b[39;00m filtered_tb\n",
      "File \u001b[0;32m~/miniconda3/envs/py3.9/lib/python3.9/site-packages/tensorflow/python/lib/io/file_io.py:579\u001b[0m, in \u001b[0;36mcopy_v2\u001b[0;34m(src, dst, overwrite)\u001b[0m\n\u001b[1;32m    514\u001b[0m \u001b[39m@tf_export\u001b[39m(\u001b[39m\"\u001b[39m\u001b[39mio.gfile.copy\u001b[39m\u001b[39m\"\u001b[39m)\n\u001b[1;32m    515\u001b[0m \u001b[39mdef\u001b[39;00m \u001b[39mcopy_v2\u001b[39m(src, dst, overwrite\u001b[39m=\u001b[39m\u001b[39mFalse\u001b[39;00m):\n\u001b[1;32m    516\u001b[0m \u001b[39m  \u001b[39m\u001b[39m\"\"\"Copies data from `src` to `dst`.\u001b[39;00m\n\u001b[1;32m    517\u001b[0m \n\u001b[1;32m    518\u001b[0m \u001b[39m  >>> with open(\"/tmp/x\", \"w\") as f:\u001b[39;00m\n\u001b[0;32m   (...)\u001b[0m\n\u001b[1;32m    577\u001b[0m \u001b[39m    errors.OpError: If the operation fails.\u001b[39;00m\n\u001b[1;32m    578\u001b[0m \u001b[39m  \"\"\"\u001b[39;00m\n\u001b[0;32m--> 579\u001b[0m   _pywrap_file_io\u001b[39m.\u001b[39;49mCopyFile(\n\u001b[1;32m    580\u001b[0m       compat\u001b[39m.\u001b[39;49mpath_to_bytes(src), compat\u001b[39m.\u001b[39;49mpath_to_bytes(dst), overwrite)\n",
      "\u001b[0;31mNotFoundError\u001b[0m: /var/folders/68/c2vd8ndn12s0ky3brj493wzr0000gn/T/tfhub_modules/ce53fe6769d2ac3a260e92555120c54e1aecbea6/assets/vocab.txt; No such file or directory"
     ]
    }
   ],
   "source": [
    "model.save('bert_model_2')"
   ]
  },
  {
   "cell_type": "code",
   "execution_count": 41,
   "metadata": {},
   "outputs": [
    {
     "name": "stdout",
     "output_type": "stream",
     "text": [
      "382/382 [==============================] - 826s 2s/step - loss: 0.0925 - categorical_crossentropy: 0.0925 - precision: 0.9737 - recall: 0.9717 - auc: 0.9967 - f1_score_micro: 0.9727 - f1_score_macro: 0.9706\n",
      "Test loss: 0.09253252297639847\n",
      "Test categorical_accuracy: 0.09253252297639847\n",
      "Test precision: 0.9736648201942444\n",
      "Test recall: 0.9716718196868896\n",
      "Test auc: 0.9966537356376648\n",
      "Test F1 (micro): 0.9727362394332886\n",
      "Test F1 (macro): 0.9706491827964783\n"
     ]
    }
   ],
   "source": [
    "results = model.evaluate(val_input, y_val, batch_size=32)\n",
    "print('Test loss:', results[0])\n",
    "print('Test categorical_accuracy:', results[1])\n",
    "print('Test precision:', results[2])\n",
    "print('Test recall:', results[3])\n",
    "print('Test auc:', results[4])\n",
    "print('Test F1 (micro):', results[5])\n",
    "print('Test F1 (macro):', results[6])"
   ]
  },
  {
   "cell_type": "code",
   "execution_count": 42,
   "metadata": {},
   "outputs": [],
   "source": [
    "from sklearn.metrics import classification_report, confusion_matrix \n",
    "import seaborn as sns\n",
    "from PIL import Image \n",
    "from tqdm.notebook import tqdm\n",
    "import matplotlib.pyplot as plt\n",
    "\n",
    "def draw_confusion_matrix(true, preds):\n",
    "    conf_matx = confusion_matrix(true, preds)\n",
    "    sns.heatmap(\n",
    "        conf_matx, \n",
    "        annot=True, \n",
    "        annot_kws={\"size\": 12},\n",
    "        fmt='g', \n",
    "        cbar=False, \n",
    "        cmap=\"viridis\"\n",
    "    )\n",
    "    plt.show()"
   ]
  },
  {
   "cell_type": "code",
   "execution_count": 43,
   "metadata": {},
   "outputs": [
    {
     "name": "stdout",
     "output_type": "stream",
     "text": [
      "START predict\n"
     ]
    },
    {
     "name": "stderr",
     "output_type": "stream",
     "text": [
      "2023-04-06 16:02:25.000275: I tensorflow/core/grappler/optimizers/custom_graph_optimizer_registry.cc:113] Plugin optimizer for device_type GPU is enabled.\n"
     ]
    },
    {
     "name": "stdout",
     "output_type": "stream",
     "text": [
      "94/94 [==============================] - 199s 2s/step\n",
      "DONE predict\n",
      "START evaluate\n",
      "94/94 [==============================] - 199s 2s/step - loss: 1.4252 - categorical_crossentropy: 1.4252 - precision: 0.5786 - recall: 0.5310 - auc: 0.8140 - f1_score_micro: 0.5587 - f1_score_macro: 0.5441\n",
      "Test loss: 1.4252047538757324\n",
      "Test categorical_accuracy: 1.4252047538757324\n",
      "Test precision: 0.5786414742469788\n",
      "Test recall: 0.531000018119812\n",
      "Test auc: 0.8139796257019043\n",
      "Test F1 (micro): 0.5586666464805603\n",
      "Test F1 (macro): 0.544059693813324\n"
     ]
    },
    {
     "data": {
      "image/png": "[encoded data removed]",
      "text/plain": [
       "<Figure size 640x480 with 1 Axes>"
      ]
     },
     "metadata": {},
     "output_type": "display_data"
    }
   ],
   "source": [
    "\n",
    "# predict\n",
    "print(\"START predict\")\n",
    "test_predictions = model.predict(test_input)\n",
    "test_result = np.argmax(test_predictions, axis=1)\n",
    "print(\"DONE predict\")\n",
    "\n",
    "# evaluate\n",
    "print(\"START evaluate\")\n",
    "test_results = model.evaluate(test_input, y_test)\n",
    "print('Test loss:', test_results[0])\n",
    "print('Test categorical_accuracy:', test_results[1])\n",
    "print('Test precision:', test_results[2])\n",
    "print('Test recall:', test_results[3])\n",
    "print('Test auc:', test_results[4])\n",
    "print('Test F1 (micro):', test_results[5])\n",
    "print('Test F1 (macro):', test_results[6])\n",
    "\n",
    "draw_confusion_matrix(np.argmax(y_test, axis=1), test_result)\n"
   ]
  },
  {
   "cell_type": "code",
   "execution_count": null,
   "metadata": {},
   "outputs": [],
   "source": []
  }
 ],
 "metadata": {
  "kernelspec": {
   "display_name": "py3.9",
   "language": "python",
   "name": "python3"
  },
  "language_info": {
   "codemirror_mode": {
    "name": "ipython",
    "version": 3
   },
   "file_extension": ".py",
   "mimetype": "text/x-python",
   "name": "python",
   "nbconvert_exporter": "python",
   "pygments_lexer": "ipython3",
   "version": "3.9.16"
  },
  "orig_nbformat": 4,
  "vscode": {
   "interpreter": {
    "hash": "88ace0eea4c792d508c4d602a6fdf94fed43df5734ea4818099b45b52cf5d77b"
   }
  }
 },
 "nbformat": 4,
 "nbformat_minor": 2
}
