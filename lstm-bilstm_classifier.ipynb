{
 "cells": [
  {
   "attachments": {},
   "cell_type": "markdown",
   "metadata": {},
   "source": [
    "# LSTM/Bi-LSTM Classifier\n",
    "Exploring both Keras Tokenizer and GloVe"
   ]
  },
  {
   "cell_type": "code",
   "execution_count": null,
   "metadata": {},
   "outputs": [],
   "source": [
    "# Following: https://medium.com/analytics-vidhya/multiclass-text-classification-using-deep-learning-f25b4b1010e5\n",
    "\n",
    "import re\n",
    "import tqdm\n",
    "from nltk.corpus import stopwords\n",
    "import nltk\n",
    "from tensorflow.keras import regularizers, initializers, optimizers, callbacks\n",
    "from keras.wrappers.scikit_learn import KerasClassifier\n",
    "from sklearn.model_selection import KFold\n",
    "from sklearn.model_selection import cross_val_score\n",
    "\n",
    "from tensorflow.keras.preprocessing.sequence import pad_sequences\n",
    "from tensorflow.keras.preprocessing.text import Tokenizer\n",
    "import tensorflow_addons as tfa\n",
    "import tensorflow as tf\n",
    "from keras.utils.np_utils import to_categorical\n",
    "from tensorflow.keras.layers import *\n",
    "from tensorflow.keras.models import Sequential\n",
    "import pandas as pd\n",
    "import numpy as np"
   ]
  },
  {
   "cell_type": "code",
   "execution_count": null,
   "metadata": {},
   "outputs": [],
   "source": [
    "from sklearn.metrics import classification_report, confusion_matrix \n",
    "import seaborn as sns\n",
    "from PIL import Image \n",
    "from tqdm.notebook import tqdm\n",
    "import matplotlib.pyplot as plt"
   ]
  },
  {
   "cell_type": "code",
   "execution_count": null,
   "metadata": {},
   "outputs": [],
   "source": [
    "def draw_confusion_matrix(true, preds):\n",
    "    conf_matx = confusion_matrix(true, preds)\n",
    "    sns.heatmap(\n",
    "        conf_matx, \n",
    "        annot=True, \n",
    "        annot_kws={\"size\": 12},\n",
    "        fmt='g', \n",
    "        cbar=False, \n",
    "        cmap=\"viridis\"\n",
    "    )\n",
    "    plt.show()"
   ]
  },
  {
   "cell_type": "code",
   "execution_count": null,
   "metadata": {},
   "outputs": [],
   "source": [
    "import numpy as np \n",
    "import pandas as pd\n",
    "import matplotlib.pyplot as plt\n",
    "import seaborn as sns\n",
    "from keras.preprocessing.text import Tokenizer\n",
    "from keras_preprocessing.sequence import pad_sequences\n",
    "from keras.models import Sequential\n",
    "from keras.layers import Dense, Embedding, LSTM, SpatialDropout1D, Bidirectional\n",
    "from sklearn.model_selection import train_test_split\n",
    "from keras.utils.np_utils import to_categorical\n",
    "from keras.callbacks import EarlyStopping\n",
    "from keras.layers import Dropout\n",
    "import tensorflow_addons as tfa\n",
    "import tensorflow as tf\n",
    "\n",
    "from imblearn.over_sampling import RandomOverSampler, SMOTE\n",
    "from imblearn.under_sampling import RandomUnderSampler, NearMiss\n",
    "from collections import Counter\n",
    "\n",
    "import re\n",
    "from nltk.corpus import stopwords\n",
    "from nltk import word_tokenize\n",
    "STOPWORDS = set(stopwords.words('english'))\n",
    "from bs4 import BeautifulSoup"
   ]
  },
  {
   "cell_type": "code",
   "execution_count": null,
   "metadata": {},
   "outputs": [
    {
     "name": "stdout",
     "output_type": "stream",
     "text": [
      "<class 'pandas.core.frame.DataFrame'>\n",
      "RangeIndex: 48854 entries, 0 to 48853\n",
      "Data columns (total 2 columns):\n",
      " #   Column  Non-Null Count  Dtype \n",
      "---  ------  --------------  ----- \n",
      " 0   labels  48854 non-null  int64 \n",
      " 1   text    48854 non-null  object\n",
      "dtypes: int64(1), object(1)\n",
      "memory usage: 763.5+ KB\n"
     ]
    }
   ],
   "source": [
    "# read data\n",
    "df = pd.read_csv(\"raw_data/fulltrain.csv\", names=[\"labels\", \"text\"])\n",
    "# load test set\n",
    "test_df = pd.read_csv(\"raw_data/balancedtest.csv\", names=[\"labels\", \"text\"])\n",
    "df.info()"
   ]
  },
  {
   "cell_type": "code",
   "execution_count": null,
   "metadata": {},
   "outputs": [
    {
     "data": {
      "text/plain": [
       "<Axes: ylabel='Frequency'>"
      ]
     },
     "metadata": {},
     "output_type": "display_data"
    },
    {
     "data": {
      "image/png": "[encoded data removed]",
      "text/plain": [
       "<Figure size 640x480 with 1 Axes>"
      ]
     },
     "metadata": {},
     "output_type": "display_data"
    }
   ],
   "source": [
    "df[\"labels\"].plot(kind=\"hist\")"
   ]
  },
  {
   "cell_type": "code",
   "execution_count": null,
   "metadata": {},
   "outputs": [],
   "source": [
    "# Clean text\n",
    "REPLACE_BY_SPACE_RE = re.compile('[/(){}\\[\\]\\|@,;]')\n",
    "BAD_SYMBOLS_RE = re.compile('[^0-9a-z #+_]')\n",
    "STOPWORDS = set(stopwords.words('english'))\n",
    "\n",
    "def clean_text(text):\n",
    "    \"\"\"\n",
    "        text: a string\n",
    "        \n",
    "        return: modified initial string\n",
    "    \"\"\"\n",
    "    text = text.lower() # lowercase text\n",
    "    text = REPLACE_BY_SPACE_RE.sub(' ', text) # replace REPLACE_BY_SPACE_RE symbols by space in text. substitute the matched string in REPLACE_BY_SPACE_RE with space.\n",
    "    text = BAD_SYMBOLS_RE.sub('', text) # remove symbols which are in BAD_SYMBOLS_RE from text. substitute the matched string in BAD_SYMBOLS_RE with nothing. \n",
    "    text = text.replace('x', '')\n",
    "#    text = re.sub(r'\\W+', '', text)\n",
    "    text = ' '.join(word for word in text.split() if word not in STOPWORDS) # remove stopwords from text\n",
    "    return text\n",
    "\n",
    "df['text'] = df['text'].apply(clean_text)\n"
   ]
  },
  {
   "cell_type": "code",
   "execution_count": null,
   "metadata": {},
   "outputs": [
    {
     "name": "stdout",
     "output_type": "stream",
     "text": [
      "Found 259286 unique tokens.\n"
     ]
    }
   ],
   "source": [
    "# The maximum number of words to be used. (most frequent)\n",
    "MAX_NB_WORDS = 50000\n",
    "# Max number of words in each complaint.\n",
    "MAX_SEQUENCE_LENGTH = 250\n",
    "# This is fixed.\n",
    "EMBEDDING_DIM = 100\n",
    "\n",
    "GLOVE_DIR = f\"glove/glove.6B.{EMBEDDING_DIM}d.txt\"\n",
    "\n",
    "\n",
    "tokenizer = Tokenizer(num_words=MAX_NB_WORDS, filters='!\"#$%&()*+,-./:;<=>?@[\\]^_`{|}~', lower=True)\n",
    "tokenizer.fit_on_texts(df['text'].values)\n",
    "word_index = tokenizer.word_index\n",
    "print('Found %s unique tokens.' % len(word_index))"
   ]
  },
  {
   "cell_type": "code",
   "execution_count": null,
   "metadata": {},
   "outputs": [
    {
     "name": "stdout",
     "output_type": "stream",
     "text": [
      "Shape of data tensor: (48854, 250)\n",
      "Shape of test data tensor: (3000, 250)\n"
     ]
    }
   ],
   "source": [
    "X = tokenizer.texts_to_sequences(df['text'].values)\n",
    "X = pad_sequences(X, maxlen=MAX_SEQUENCE_LENGTH)\n",
    "print('Shape of data tensor:', X.shape)\n",
    "\n",
    "X_test = tokenizer.texts_to_sequences(test_df['text'].values)\n",
    "X_test = pad_sequences(X_test, maxlen=MAX_SEQUENCE_LENGTH)\n",
    "print('Shape of test data tensor:', X_test.shape)"
   ]
  },
  {
   "cell_type": "code",
   "execution_count": null,
   "metadata": {},
   "outputs": [
    {
     "name": "stdout",
     "output_type": "stream",
     "text": [
      "Shape of label tensor: (48854, 4)\n",
      "Shape of label tensor: (3000, 4)\n"
     ]
    }
   ],
   "source": [
    "Y = pd.get_dummies(df['labels']).values\n",
    "print('Shape of label tensor:', Y.shape)\n",
    "\n",
    "Y_test = pd.get_dummies(test_df['labels']).values\n",
    "print('Shape of label tensor:', Y_test.shape)"
   ]
  },
  {
   "cell_type": "code",
   "execution_count": null,
   "metadata": {},
   "outputs": [
    {
     "name": "stdout",
     "output_type": "stream",
     "text": [
      "(43968, 250) (43968, 4)\n",
      "(4886, 250) (4886, 4)\n"
     ]
    }
   ],
   "source": [
    "X_train, X_val, Y_train, Y_val = train_test_split(X,Y, test_size = 0.10, random_state = 42)\n",
    "print(X_train.shape,Y_train.shape)\n",
    "print(X_val.shape,Y_val.shape)"
   ]
  },
  {
   "cell_type": "code",
   "execution_count": null,
   "metadata": {},
   "outputs": [
    {
     "name": "stdout",
     "output_type": "stream",
     "text": [
      "training:  [12671  6244 16085  8968]\n",
      "training ros:  [16085 16085 16085 16085]\n"
     ]
    }
   ],
   "source": [
    "# Randomly over sample the minority class\n",
    "ros = RandomOverSampler(random_state=42)\n",
    "X_train_ros, Y_train_ros= ros.fit_resample(X_train, Y_train)\n",
    "# Check the number of records after over sampling\n",
    "print('training: ', Y_train.sum(axis=0))\n",
    "print('training ros: ', Y_train_ros.sum(axis=0))"
   ]
  },
  {
   "cell_type": "code",
   "execution_count": null,
   "metadata": {},
   "outputs": [
    {
     "name": "stdout",
     "output_type": "stream",
     "text": [
      "training:  [12671  6244 16085  8968]\n",
      "training rus:  [6244 6244 6244 6244]\n"
     ]
    }
   ],
   "source": [
    "# Randomly under sample the majority class\n",
    "rus = RandomUnderSampler(random_state=42)\n",
    "X_train_rus, Y_train_rus= rus.fit_resample(X_train, Y_train)\n",
    "# Check the number of records after under sampling\n",
    "print('training: ', Y_train.sum(axis=0))\n",
    "print('training rus: ', Y_train_rus.sum(axis=0))"
   ]
  },
  {
   "cell_type": "code",
   "execution_count": null,
   "metadata": {},
   "outputs": [
    {
     "name": "stderr",
     "output_type": "stream",
     "text": [
      "/Users/maxx/miniconda3/envs/tensor2.9/lib/python3.10/site-packages/imblearn/under_sampling/_prototype_selection/_nearmiss.py:203: UserWarning: The number of the samples to be selected is larger than the number of samples available. The balancing ratio cannot be ensure and all samples will be returned.\n",
      "  warnings.warn(\n",
      "/Users/maxx/miniconda3/envs/tensor2.9/lib/python3.10/site-packages/imblearn/under_sampling/_prototype_selection/_nearmiss.py:203: UserWarning: The number of the samples to be selected is larger than the number of samples available. The balancing ratio cannot be ensure and all samples will be returned.\n",
      "  warnings.warn(\n"
     ]
    },
    {
     "name": "stdout",
     "output_type": "stream",
     "text": [
      "training:  [12671  6244 16085  8968]\n",
      "training nearmiss:  [2339 6244 4098 1703]\n"
     ]
    },
    {
     "name": "stderr",
     "output_type": "stream",
     "text": [
      "/Users/maxx/miniconda3/envs/tensor2.9/lib/python3.10/site-packages/imblearn/under_sampling/_prototype_selection/_nearmiss.py:203: UserWarning: The number of the samples to be selected is larger than the number of samples available. The balancing ratio cannot be ensure and all samples will be returned.\n",
      "  warnings.warn(\n"
     ]
    }
   ],
   "source": [
    "# Under sample the majority class\n",
    "nearmiss = NearMiss(version=3)\n",
    "X_train_nearmiss, Y_train_nearmiss= nearmiss.fit_resample(X_train, Y_train)\n",
    "# Check the number of records after over sampling\n",
    "print('training: ', Y_train.sum(axis=0))\n",
    "print('training nearmiss: ', Y_train_nearmiss.sum(axis=0))"
   ]
  },
  {
   "cell_type": "code",
   "execution_count": null,
   "metadata": {},
   "outputs": [
    {
     "name": "stdout",
     "output_type": "stream",
     "text": [
      "Loading Glove from: glove/glove.6B.100d.txt\n",
      "Done.\n",
      " Proceeding with Embedding Matrix...\n",
      "Completed!\n"
     ]
    }
   ],
   "source": [
    "# create embedding matrix\n",
    "embeddings_index = {}\n",
    "f = open(GLOVE_DIR, encoding='utf8')\n",
    "print(f\"Loading Glove from: {GLOVE_DIR}\")\n",
    "for line in f:\n",
    "    values = line.split()\n",
    "    word = values[0]\n",
    "    embeddings_index[word] = np.asarray(values[1:], dtype='float32')\n",
    "f.close()\n",
    "print(\"Done.\\n Proceeding with Embedding Matrix...\")\n",
    "embedding_matrix = np.random.random((len(word_index) + 1, EMBEDDING_DIM))\n",
    "for word, i in tokenizer.word_index.items():\n",
    "    embedding_vector = embeddings_index.get(word)\n",
    "    if embedding_vector is not None:\n",
    "        embedding_matrix[i] = embedding_vector\n",
    "print(\"Completed!\")"
   ]
  },
  {
   "cell_type": "code",
   "execution_count": null,
   "metadata": {},
   "outputs": [
    {
     "name": "stdout",
     "output_type": "stream",
     "text": [
      "Model: \"sequential_3\"\n",
      "_________________________________________________________________\n",
      " Layer (type)                Output Shape              Param #   \n",
      "=================================================================\n",
      " embeddings (Embedding)      (None, 250, 100)          25928700  \n",
      "                                                                 \n",
      " spatial_dropout1d_3 (Spatia  (None, 250, 100)         0         \n",
      " lDropout1D)                                                     \n",
      "                                                                 \n",
      " bidirectional_1 (Bidirectio  (None, 200)              160800    \n",
      " nal)                                                            \n",
      "                                                                 \n",
      " dense_6 (Dense)             (None, 100)               20100     \n",
      "                                                                 \n",
      " dropout_3 (Dropout)         (None, 100)               0         \n",
      "                                                                 \n",
      " dense_7 (Dense)             (None, 4)                 404       \n",
      "                                                                 \n",
      "=================================================================\n",
      "Total params: 26,110,004\n",
      "Trainable params: 181,304\n",
      "Non-trainable params: 25,928,700\n",
      "_________________________________________________________________\n",
      "None\n"
     ]
    }
   ],
   "source": [
    "use_glove = True # True for GloVe, False for Keras Tokenizer\n",
    "use_bi_lstm = True # True for Bi-LSTM, False for LSTM\n",
    "\n",
    "model = Sequential() \n",
    "if use_glove: \n",
    "    model.add(Embedding(len(tokenizer.word_index) + 1,\n",
    "        EMBEDDING_DIM,\n",
    "        weights = [embedding_matrix],\n",
    "        input_length = MAX_SEQUENCE_LENGTH,\n",
    "        trainable=False,\n",
    "        name = 'embeddings'))\n",
    "else: \n",
    "    model.add(Embedding(MAX_NB_WORDS, EMBEDDING_DIM, input_length=X.shape[1])) \n",
    "model.add(SpatialDropout1D(0.2))\n",
    "if use_bi_lstm: \n",
    "    model.add(Bidirectional(LSTM(100))),\n",
    "else: \n",
    "    model.add(LSTM(100, dropout=0.2))\n",
    "model.add(Dense(100, activation='relu')),\n",
    "model.add(Dropout(0.2))\n",
    "model.add(Dense(4, activation='softmax'))\n",
    "model.compile(loss='categorical_crossentropy', optimizer='adam', metrics=[\n",
    "    \"categorical_accuracy\", \n",
    "    tf.keras.metrics.Precision(), \n",
    "    tf.keras.metrics.Recall(), \n",
    "    tf.keras.metrics.AUC(),\n",
    "    tfa.metrics.F1Score(num_classes=4, average=\"micro\", name=\"f1_score_micro\"), \n",
    "    tfa.metrics.F1Score(num_classes=4, average=\"macro\", name=\"f1_score_macro\")\n",
    "])\n",
    "print(model.summary())"
   ]
  },
  {
   "cell_type": "code",
   "execution_count": null,
   "metadata": {},
   "outputs": [
    {
     "name": "stdout",
     "output_type": "stream",
     "text": [
      "Epoch 1/5\n",
      "203/203 [==============================] - 30s 147ms/step - loss: 0.0712 - categorical_accuracy: 0.9750 - precision_3: 0.9782 - recall_3: 0.9727 - auc_3: 0.9986 - f1_score_micro: 0.9750 - f1_score_macro: 0.9441 - val_loss: 2.3890 - val_categorical_accuracy: 0.5129 - val_precision_3: 0.5192 - val_recall_3: 0.5073 - val_auc_3: 0.7479 - val_f1_score_micro: 0.5129 - val_f1_score_macro: 0.1695\n",
      "Epoch 2/5\n",
      "203/203 [==============================] - 29s 144ms/step - loss: 0.0649 - categorical_accuracy: 0.9771 - precision_3: 0.9797 - recall_3: 0.9746 - auc_3: 0.9989 - f1_score_micro: 0.9771 - f1_score_macro: 0.9515 - val_loss: 2.2625 - val_categorical_accuracy: 0.5149 - val_precision_3: 0.5201 - val_recall_3: 0.5038 - val_auc_3: 0.7329 - val_f1_score_micro: 0.5149 - val_f1_score_macro: 0.1700\n",
      "Epoch 3/5\n",
      "203/203 [==============================] - 32s 157ms/step - loss: 0.0624 - categorical_accuracy: 0.9792 - precision_3: 0.9809 - recall_3: 0.9778 - auc_3: 0.9990 - f1_score_micro: 0.9792 - f1_score_macro: 0.9608 - val_loss: 2.1992 - val_categorical_accuracy: 0.5226 - val_precision_3: 0.5299 - val_recall_3: 0.5115 - val_auc_3: 0.7594 - val_f1_score_micro: 0.5226 - val_f1_score_macro: 0.1716\n",
      "Epoch 4/5\n",
      "203/203 [==============================] - 34s 165ms/step - loss: 0.0466 - categorical_accuracy: 0.9837 - precision_3: 0.9851 - recall_3: 0.9825 - auc_3: 0.9995 - f1_score_micro: 0.9837 - f1_score_macro: 0.9654 - val_loss: 2.4263 - val_categorical_accuracy: 0.5288 - val_precision_3: 0.5430 - val_recall_3: 0.5219 - val_auc_3: 0.7510 - val_f1_score_micro: 0.5288 - val_f1_score_macro: 0.1730\n"
     ]
    }
   ],
   "source": [
    "epochs = 5\n",
    "batch_size = 64\n",
    "\n",
    "history = model.fit(X_train_nearmiss, Y_train_nearmiss, epochs=epochs, batch_size=batch_size,validation_split=0.1,callbacks=[EarlyStopping(monitor='val_f1_score_macro', patience=3, min_delta=0.0001)])"
   ]
  },
  {
   "cell_type": "code",
   "execution_count": null,
   "metadata": {},
   "outputs": [
    {
     "name": "stdout",
     "output_type": "stream",
     "text": [
      "77/77 [==============================] - 7s 89ms/step - loss: 0.4577 - categorical_accuracy: 0.8749 - precision_3: 0.8801 - recall_3: 0.8711 - auc_3: 0.9709 - f1_score_micro: 0.8749 - f1_score_macro: 0.8582\n",
      "Eval loss: 0.45769357681274414\n",
      "Eval categorical_accuracy: 0.8749488592147827\n",
      "Eval precision: 0.8800661563873291\n",
      "Eval recall: 0.8710601925849915\n",
      "Eval auc: 0.9708582162857056\n",
      "Eval F1 (micro): 0.8749489188194275\n",
      "Eval F1 (macro): 0.8581573963165283\n"
     ]
    }
   ],
   "source": [
    "results = model.evaluate(X_val, Y_val, batch_size=64)\n",
    "print('Eval loss:', results[0])\n",
    "print('Eval categorical_accuracy:', results[1])\n",
    "print('Eval precision:', results[2])\n",
    "print('Eval recall:', results[3])\n",
    "print('Eval auc:', results[4])\n",
    "print('Eval F1 (micro):', results[5])\n",
    "print('Eval F1 (macro):', results[6])"
   ]
  },
  {
   "cell_type": "code",
   "execution_count": null,
   "metadata": {},
   "outputs": [
    {
     "name": "stdout",
     "output_type": "stream",
     "text": [
      "START predict\n",
      "94/94 [==============================] - 7s 68ms/step\n",
      "DONE predict\n",
      "START evaluate\n",
      "94/94 [==============================] - 8s 85ms/step - loss: 1.7922 - categorical_accuracy: 0.5930 - precision_3: 0.6004 - recall_3: 0.5790 - auc_3: 0.8044 - f1_score_micro: 0.5930 - f1_score_macro: 0.5942\n",
      "Test loss: 1.7922228574752808\n",
      "Test categorical_accuracy: 0.5929999947547913\n",
      "Test precision: 0.6004148125648499\n",
      "Test recall: 0.5789999961853027\n",
      "Test auc: 0.8043859601020813\n",
      "Test F1 (micro): 0.5929999947547913\n",
      "Test F1 (macro): 0.5942159295082092\n"
     ]
    },
    {
     "data": {
      "image/png": "[encoded data removed]",
      "text/plain": [
       "<Figure size 640x480 with 1 Axes>"
      ]
     },
     "metadata": {},
     "output_type": "display_data"
    }
   ],
   "source": [
    "# predict\n",
    "print(\"START predict\")\n",
    "test_predictions = model.predict(X_test)\n",
    "test_result = np.argmax(test_predictions, axis=1)\n",
    "print(\"DONE predict\")\n",
    "\n",
    "# evaluate\n",
    "print(\"START evaluate\")\n",
    "test_results = model.evaluate(X_test, Y_test)\n",
    "print('Test loss:', test_results[0])\n",
    "print('Test categorical_accuracy:', test_results[1])\n",
    "print('Test precision:', test_results[2])\n",
    "print('Test recall:', test_results[3])\n",
    "print('Test auc:', test_results[4])\n",
    "print('Test F1 (micro):', test_results[5])\n",
    "print('Test F1 (macro):', test_results[6])\n",
    "\n",
    "draw_confusion_matrix(np.argmax(Y_test, axis=1), test_result)"
   ]
  },
  {
   "cell_type": "code",
   "execution_count": null,
   "metadata": {},
   "outputs": [
    {
     "name": "stderr",
     "output_type": "stream",
     "text": [
      "WARNING:absl:Found untraced functions such as lstm_cell_6_layer_call_fn, lstm_cell_6_layer_call_and_return_conditional_losses, lstm_cell_7_layer_call_fn, lstm_cell_7_layer_call_and_return_conditional_losses while saving (showing 4 of 4). These functions will not be directly callable after loading.\n"
     ]
    },
    {
     "name": "stdout",
     "output_type": "stream",
     "text": [
      "INFO:tensorflow:Assets written to: bi-lstm_model_best/assets\n"
     ]
    },
    {
     "name": "stderr",
     "output_type": "stream",
     "text": [
      "INFO:tensorflow:Assets written to: bi-lstm_model_best/assets\n"
     ]
    }
   ],
   "source": [
    "model.save(\"bi-lstm_model_best\")"
   ]
  }
 ],
 "metadata": {
  "language_info": {
   "name": "python"
  },
  "orig_nbformat": 4
 },
 "nbformat": 4,
 "nbformat_minor": 2
}
