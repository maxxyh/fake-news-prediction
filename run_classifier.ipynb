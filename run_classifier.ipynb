{
 "cells": [
  {
   "cell_type": "code",
   "execution_count": 89,
   "metadata": {},
   "outputs": [],
   "source": [
    "import re\n",
    "import tqdm\n",
    "from nltk.corpus import stopwords\n",
    "import nltk\n",
    "from tensorflow.keras import regularizers, initializers, optimizers, callbacks\n",
    "from tensorflow.keras.preprocessing.sequence import pad_sequences\n",
    "from tensorflow.keras.preprocessing.text import Tokenizer\n",
    "import tensorflow_addons as tfa\n",
    "import tensorflow as tf\n",
    "from keras.utils.np_utils import to_categorical\n",
    "from tensorflow.keras.layers import *\n",
    "from tensorflow.keras.models import Sequential\n",
    "import pandas as pd\n",
    "import numpy as np"
   ]
  },
  {
   "cell_type": "code",
   "execution_count": 90,
   "metadata": {},
   "outputs": [
    {
     "data": {
      "text/html": [
       "<div>\n",
       "<style scoped>\n",
       "    .dataframe tbody tr th:only-of-type {\n",
       "        vertical-align: middle;\n",
       "    }\n",
       "\n",
       "    .dataframe tbody tr th {\n",
       "        vertical-align: top;\n",
       "    }\n",
       "\n",
       "    .dataframe thead th {\n",
       "        text-align: right;\n",
       "    }\n",
       "</style>\n",
       "<table border=\"1\" class=\"dataframe\">\n",
       "  <thead>\n",
       "    <tr style=\"text-align: right;\">\n",
       "      <th></th>\n",
       "      <th>labels</th>\n",
       "      <th>text</th>\n",
       "    </tr>\n",
       "  </thead>\n",
       "  <tbody>\n",
       "    <tr>\n",
       "      <th>0</th>\n",
       "      <td>1</td>\n",
       "      <td>A little less than a decade ago, hockey fans w...</td>\n",
       "    </tr>\n",
       "    <tr>\n",
       "      <th>1</th>\n",
       "      <td>1</td>\n",
       "      <td>The writers of the HBO series The Sopranos too...</td>\n",
       "    </tr>\n",
       "    <tr>\n",
       "      <th>2</th>\n",
       "      <td>1</td>\n",
       "      <td>Despite claims from the TV news outlet to offe...</td>\n",
       "    </tr>\n",
       "    <tr>\n",
       "      <th>3</th>\n",
       "      <td>1</td>\n",
       "      <td>After receiving 'subpar' service and experienc...</td>\n",
       "    </tr>\n",
       "    <tr>\n",
       "      <th>4</th>\n",
       "      <td>1</td>\n",
       "      <td>After watching his beloved Seattle Mariners pr...</td>\n",
       "    </tr>\n",
       "  </tbody>\n",
       "</table>\n",
       "</div>"
      ],
      "text/plain": [
       "   labels                                               text\n",
       "0       1  A little less than a decade ago, hockey fans w...\n",
       "1       1  The writers of the HBO series The Sopranos too...\n",
       "2       1  Despite claims from the TV news outlet to offe...\n",
       "3       1  After receiving 'subpar' service and experienc...\n",
       "4       1  After watching his beloved Seattle Mariners pr..."
      ]
     },
     "execution_count": 90,
     "metadata": {},
     "output_type": "execute_result"
    }
   ],
   "source": [
    "# read data\n",
    "df = pd.read_csv(\"raw_data/fulltrain.csv\", names=[\"labels\", \"text\"])\n",
    "df.head()"
   ]
  },
  {
   "cell_type": "code",
   "execution_count": 91,
   "metadata": {},
   "outputs": [
    {
     "name": "stdout",
     "output_type": "stream",
     "text": [
      "<class 'pandas.core.frame.DataFrame'>\n",
      "RangeIndex: 48854 entries, 0 to 48853\n",
      "Data columns (total 2 columns):\n",
      " #   Column  Non-Null Count  Dtype \n",
      "---  ------  --------------  ----- \n",
      " 0   labels  48854 non-null  int64 \n",
      " 1   text    48854 non-null  object\n",
      "dtypes: int64(1), object(1)\n",
      "memory usage: 763.5+ KB\n"
     ]
    }
   ],
   "source": [
    "df.info()"
   ]
  },
  {
   "cell_type": "code",
   "execution_count": 92,
   "metadata": {},
   "outputs": [],
   "source": [
    "# create x and y\n",
    "x = df[\"text\"]\n",
    "\n",
    "# transform y into one hot vectors\n",
    "y = pd.get_dummies(df[\"labels\"])\n",
    "y = np.array(y)"
   ]
  },
  {
   "cell_type": "code",
   "execution_count": 93,
   "metadata": {},
   "outputs": [
    {
     "data": {
      "text/plain": [
       "array([[1, 0, 0, 0],\n",
       "       [1, 0, 0, 0],\n",
       "       [1, 0, 0, 0],\n",
       "       ...,\n",
       "       [0, 0, 0, 1],\n",
       "       [0, 0, 0, 1],\n",
       "       [0, 0, 0, 1]], dtype=uint8)"
      ]
     },
     "execution_count": 93,
     "metadata": {},
     "output_type": "execute_result"
    }
   ],
   "source": [
    "y"
   ]
  },
  {
   "cell_type": "code",
   "execution_count": 94,
   "metadata": {},
   "outputs": [],
   "source": [
    "# set constants\n",
    "MAX_NB_WORDS = 100000 # max number of words for tokenizer TODO: double check with this dataset\n",
    "MAX_SEQUENCE_LENGTH = 1000 # max length of each sentences, including padding TODO: double check for this dataset supposed to be 131926\n",
    "VALIDATION_SPLIT = 0.2 # 20% of data for validation (not used in training)\n",
    "EMBEDDING_DIM = 300 # embedding dimensions for word vectors\n",
    "GLOVE_DIR = f\"glove/glove.6B.{EMBEDDING_DIM}d.txt\"\n"
   ]
  },
  {
   "cell_type": "code",
   "execution_count": 29,
   "metadata": {},
   "outputs": [
    {
     "name": "stdout",
     "output_type": "stream",
     "text": [
      "131926\n"
     ]
    }
   ],
   "source": [
    "# find the max number of tokens in a single row: answer = 131926 \n",
    "# Don't run if not needed\n",
    "recalculate = False\n",
    "if recalculate: \n",
    "    maxLen = 0\n",
    "    for sentence in x: \n",
    "        tokens = nltk.word_tokenize(sentence)\n",
    "        maxLen = max(maxLen, len(tokens))\n",
    "    print(maxLen)"
   ]
  },
  {
   "cell_type": "code",
   "execution_count": 95,
   "metadata": {},
   "outputs": [],
   "source": [
    "# sentence cleaning\n",
    "def clean_text(text, remove_stopwords = True):\n",
    "    output = \"\"\n",
    "    text = str(text).replace(r'http[\\w:/\\.]+','') # removing urls\n",
    "    text = str(text).replace(r'[^\\.\\w\\s]','') #remove everything but characters and punctuation\n",
    "    text = str(text).replace(r'\\.\\.+','.') #replace multiple periods with a single one\n",
    "    text = str(text).replace(r'\\.',' . ') # replace periods with a single one\n",
    "    text = str(text).replace(r'\\s\\s+',' ') #replace multiple white space with a single one\n",
    "    text = str(text).replace(\"\\n\", \"\") #removing line breaks\n",
    "    text = re.sub(r'[^\\w\\s]','',text).lower() #lower texts\n",
    "    if remove_stopwords:\n",
    "        text = text.split(\" \")\n",
    "\n",
    "    for word in text:\n",
    "        if word not in stopwords.words(\"english\"):\n",
    "            output = f\"{output} {word}\"\n",
    "    return output.strip()"
   ]
  },
  {
   "cell_type": "code",
   "execution_count": 96,
   "metadata": {},
   "outputs": [
    {
     "data": {
      "text/plain": [
       "'quick brown fox help create chicken'"
      ]
     },
     "execution_count": 96,
     "metadata": {},
     "output_type": "execute_result"
    }
   ],
   "source": [
    "clean_text(\"the quick brown fox.. Help me so! create in my. chicken\")"
   ]
  },
  {
   "cell_type": "code",
   "execution_count": 97,
   "metadata": {},
   "outputs": [
    {
     "name": "stderr",
     "output_type": "stream",
     "text": [
      "[nltk_data] Downloading package stopwords to /Users/maxx/nltk_data...\n",
      "[nltk_data]   Package stopwords is already up-to-date!\n"
     ]
    },
    {
     "data": {
      "text/plain": [
       "True"
      ]
     },
     "execution_count": 97,
     "metadata": {},
     "output_type": "execute_result"
    }
   ],
   "source": [
    "# download stopwords\n",
    "nltk.download('stopwords')"
   ]
  },
  {
   "cell_type": "code",
   "execution_count": 100,
   "metadata": {},
   "outputs": [],
   "source": [
    "# remove stopwords from x\n",
    "\n",
    "import os \n",
    "# check if \"texts_cleaned.csv\" exists\n",
    "if not os.path.exists(\"texts_cleaned.csv\"):\n",
    "    texts = []\n",
    "    counter = 0\n",
    "    \n",
    "    print(f\"total of {len(x)} lines\")\n",
    "    output = pd.DataFrame()\n",
    "    for line in x: \n",
    "        texts.append(clean_text(line))\n",
    "\n",
    "        if len(texts) % 100 == 0: \n",
    "            counter += 100\n",
    "            print(f\"cleaned {counter} lines\")\n",
    "            \n",
    "            temp_df = pd.DataFrame({\"texts\": texts})\n",
    "            # concat with output dataframe\n",
    "            output = pd.concat([output, temp_df], ignore_index=True)\n",
    "            texts = []\n",
    "\n",
    "    output.to_csv(\"texts_cleaned.csv\", index=False)\n",
    "\n",
    "clean_text_df = pd.read_csv(\"texts_cleaned.csv\")\n",
    "texts = clean_text_df[\"texts\"]"
   ]
  },
  {
   "cell_type": "code",
   "execution_count": 101,
   "metadata": {},
   "outputs": [
    {
     "name": "stdout",
     "output_type": "stream",
     "text": [
      "Vocabulary size: 323792\n"
     ]
    }
   ],
   "source": [
    "# tokenize\n",
    "tokenizer = Tokenizer(num_words=MAX_NB_WORDS)\n",
    "tokenizer.fit_on_texts(texts)\n",
    "sequences = tokenizer.texts_to_sequences(texts)\n",
    "word_index = tokenizer.word_index\n",
    "print(f\"Vocabulary size: {len(word_index)}\")"
   ]
  },
  {
   "cell_type": "code",
   "execution_count": 102,
   "metadata": {},
   "outputs": [
    {
     "name": "stdout",
     "output_type": "stream",
     "text": [
      "Shape of data tensor: (48800, 1000)\n",
      "Shape of label tensor: (48854, 4)\n"
     ]
    }
   ],
   "source": [
    "# pad data so they are uniform\n",
    "\n",
    "data = pad_sequences(sequences, padding = 'post', maxlen = MAX_SEQUENCE_LENGTH)\n",
    "print(f\"Shape of data tensor: {data.shape}\")\n",
    "print(f\"Shape of label tensor: {y.shape}\")"
   ]
  },
  {
   "cell_type": "code",
   "execution_count": 103,
   "metadata": {},
   "outputs": [],
   "source": [
    "# shuffle data\n",
    "indices = np.arange(data.shape[0])\n",
    "np.random.shuffle(indices)\n",
    "data = data[indices]\n",
    "labels = y[indices]\n"
   ]
  },
  {
   "cell_type": "code",
   "execution_count": 104,
   "metadata": {},
   "outputs": [
    {
     "name": "stdout",
     "output_type": "stream",
     "text": [
      "Number of entries in each category:\n",
      "training:  [11302  5555 14278  7905]\n",
      "validation:  [2745 1387 3592 2036]\n"
     ]
    }
   ],
   "source": [
    "# split data\n",
    "num_validation_samples = int(VALIDATION_SPLIT*data.shape[0])\n",
    "x_train = data[: -num_validation_samples]\n",
    "y_train = labels[: -num_validation_samples]\n",
    "x_val = data[-num_validation_samples: ]\n",
    "y_val = labels[-num_validation_samples: ]\n",
    "print(\"Number of entries in each category:\")\n",
    "print('training: ', y_train.sum(axis=0))\n",
    "print('validation: ', y_val.sum(axis=0))"
   ]
  },
  {
   "cell_type": "code",
   "execution_count": 105,
   "metadata": {},
   "outputs": [
    {
     "name": "stdout",
     "output_type": "stream",
     "text": [
      "Loading Glove from: glove/glove.6B.300d.txt\n",
      "Done.\n",
      " Proceeding with Embedding Matrix...\n",
      "Completed!\n"
     ]
    }
   ],
   "source": [
    "# create embedding matrix\n",
    "embeddings_index = {}\n",
    "f = open(GLOVE_DIR, encoding='utf8')\n",
    "print(f\"Loading Glove from: {GLOVE_DIR}\")\n",
    "for line in f:\n",
    "    values = line.split()\n",
    "    word = values[0]\n",
    "    embeddings_index[word] = np.asarray(values[1:], dtype='float32')\n",
    "f.close()\n",
    "print(\"Done.\\n Proceeding with Embedding Matrix...\")\n",
    "embedding_matrix = np.random.random((len(word_index) + 1, EMBEDDING_DIM))\n",
    "for word, i in word_index.items():\n",
    "    embedding_vector = embeddings_index.get(word)\n",
    "    if embedding_vector is not None:\n",
    "        embedding_matrix[i] = embedding_vector\n",
    "print(\"Completed!\")"
   ]
  },
  {
   "cell_type": "code",
   "execution_count": 106,
   "metadata": {},
   "outputs": [],
   "source": [
    "# create model\n",
    "model = Sequential()\n",
    "model.add(Input(shape=(MAX_SEQUENCE_LENGTH,), dtype='int32'))\n",
    "model.add(Embedding(len(word_index) + 1,\n",
    "    EMBEDDING_DIM,\n",
    "    weights = [embedding_matrix],\n",
    "    input_length = MAX_SEQUENCE_LENGTH,\n",
    "    trainable=False,\n",
    "    name = 'embeddings'))\n",
    "model.add(LSTM(60, return_sequences=True,name='lstm_layer'))\n",
    "model.add(GlobalMaxPool1D())\n",
    "model.add(Dropout(0.1))\n",
    "model.add(Dense(50, activation=\"relu\"))\n",
    "model.add(Dropout(0.1))\n",
    "model.add(Dense(4, activation=\"softmax\"))"
   ]
  },
  {
   "cell_type": "code",
   "execution_count": 116,
   "metadata": {},
   "outputs": [],
   "source": [
    "model.compile(\n",
    "    optimizer=\"adam\", \n",
    "    loss=\"categorical_crossentropy\", \n",
    "    metrics = [\n",
    "        \"categorical_accuracy\", \n",
    "        tf.keras.metrics.Precision(), \n",
    "        tf.keras.metrics.Recall(), \n",
    "        tf.keras.metrics.AUC(),\n",
    "        tfa.metrics.F1Score(num_classes=4, average=\"micro\", name=\"f1_score_micro\"), \n",
    "        tfa.metrics.F1Score(num_classes=4, average=\"macro\", name=\"f1_score_macro\")\n",
    "    ]\n",
    ")"
   ]
  },
  {
   "cell_type": "code",
   "execution_count": 117,
   "metadata": {},
   "outputs": [
    {
     "name": "stdout",
     "output_type": "stream",
     "text": [
      "Epoch 1/10\n"
     ]
    },
    {
     "name": "stderr",
     "output_type": "stream",
     "text": [
      "2023-03-29 14:22:16.164936: I tensorflow/core/grappler/optimizers/custom_graph_optimizer_registry.cc:113] Plugin optimizer for device_type GPU is enabled.\n",
      "2023-03-29 14:22:16.999492: I tensorflow/core/grappler/optimizers/custom_graph_optimizer_registry.cc:113] Plugin optimizer for device_type GPU is enabled.\n",
      "2023-03-29 14:22:22.642972: I tensorflow/core/grappler/optimizers/custom_graph_optimizer_registry.cc:113] Plugin optimizer for device_type GPU is enabled.\n"
     ]
    },
    {
     "name": "stdout",
     "output_type": "stream",
     "text": [
      "305/305 [==============================] - ETA: 0s - loss: 0.5223 - categorical_accuracy: 0.8067 - precision_3: 0.8972 - recall_3: 0.7078 - auc_1: 0.9558 - f1_score_micro: 0.8067 - f1_score_macro: 0.7904"
     ]
    },
    {
     "name": "stderr",
     "output_type": "stream",
     "text": [
      "2023-03-29 14:25:00.884492: I tensorflow/core/grappler/optimizers/custom_graph_optimizer_registry.cc:113] Plugin optimizer for device_type GPU is enabled.\n",
      "2023-03-29 14:25:01.090791: I tensorflow/core/grappler/optimizers/custom_graph_optimizer_registry.cc:113] Plugin optimizer for device_type GPU is enabled.\n"
     ]
    },
    {
     "name": "stdout",
     "output_type": "stream",
     "text": [
      "305/305 [==============================] - 193s 554ms/step - loss: 0.5223 - categorical_accuracy: 0.8067 - precision_3: 0.8972 - recall_3: 0.7078 - auc_1: 0.9558 - f1_score_micro: 0.8067 - f1_score_macro: 0.7904 - val_loss: 0.2149 - val_categorical_accuracy: 0.9253 - val_precision_3: 0.9384 - val_recall_3: 0.9159 - val_auc_1: 0.9916 - val_f1_score_micro: 0.9253 - val_f1_score_macro: 0.9191\n",
      "Epoch 2/10\n",
      "305/305 [==============================] - 162s 529ms/step - loss: 0.1941 - categorical_accuracy: 0.9332 - precision_3: 0.9422 - recall_3: 0.9248 - auc_1: 0.9930 - f1_score_micro: 0.9332 - f1_score_macro: 0.9272 - val_loss: 0.1599 - val_categorical_accuracy: 0.9452 - val_precision_3: 0.9525 - val_recall_3: 0.9382 - val_auc_1: 0.9949 - val_f1_score_micro: 0.9452 - val_f1_score_macro: 0.9404\n",
      "Epoch 3/10\n",
      "305/305 [==============================] - 162s 530ms/step - loss: 0.1306 - categorical_accuracy: 0.9546 - precision_3: 0.9597 - recall_3: 0.9497 - auc_1: 0.9966 - f1_score_micro: 0.9546 - f1_score_macro: 0.9510 - val_loss: 0.1207 - val_categorical_accuracy: 0.9581 - val_precision_3: 0.9642 - val_recall_3: 0.9541 - val_auc_1: 0.9968 - val_f1_score_micro: 0.9581 - val_f1_score_macro: 0.9550\n",
      "Epoch 4/10\n",
      "305/305 [==============================] - 160s 524ms/step - loss: 0.0995 - categorical_accuracy: 0.9655 - precision_3: 0.9693 - recall_3: 0.9625 - auc_1: 0.9978 - f1_score_micro: 0.9655 - f1_score_macro: 0.9626 - val_loss: 0.1136 - val_categorical_accuracy: 0.9595 - val_precision_3: 0.9644 - val_recall_3: 0.9558 - val_auc_1: 0.9971 - val_f1_score_micro: 0.9595 - val_f1_score_macro: 0.9556\n",
      "Epoch 5/10\n",
      "305/305 [==============================] - 161s 526ms/step - loss: 0.0767 - categorical_accuracy: 0.9743 - precision_3: 0.9769 - recall_3: 0.9720 - auc_1: 0.9985 - f1_score_micro: 0.9743 - f1_score_macro: 0.9724 - val_loss: 0.1173 - val_categorical_accuracy: 0.9588 - val_precision_3: 0.9616 - val_recall_3: 0.9573 - val_auc_1: 0.9967 - val_f1_score_micro: 0.9588 - val_f1_score_macro: 0.9560\n",
      "Epoch 6/10\n",
      "305/305 [==============================] - 161s 529ms/step - loss: 0.0579 - categorical_accuracy: 0.9805 - precision_3: 0.9826 - recall_3: 0.9789 - auc_1: 0.9992 - f1_score_micro: 0.9805 - f1_score_macro: 0.9790 - val_loss: 0.1001 - val_categorical_accuracy: 0.9654 - val_precision_3: 0.9687 - val_recall_3: 0.9640 - val_auc_1: 0.9972 - val_f1_score_micro: 0.9654 - val_f1_score_macro: 0.9626\n",
      "Epoch 7/10\n",
      "305/305 [==============================] - 162s 530ms/step - loss: 0.0471 - categorical_accuracy: 0.9845 - precision_3: 0.9857 - recall_3: 0.9831 - auc_1: 0.9993 - f1_score_micro: 0.9845 - f1_score_macro: 0.9834 - val_loss: 0.1001 - val_categorical_accuracy: 0.9671 - val_precision_3: 0.9696 - val_recall_3: 0.9660 - val_auc_1: 0.9972 - val_f1_score_micro: 0.9671 - val_f1_score_macro: 0.9655\n",
      "Epoch 8/10\n",
      "305/305 [==============================] - 161s 528ms/step - loss: 0.0383 - categorical_accuracy: 0.9874 - precision_3: 0.9885 - recall_3: 0.9865 - auc_1: 0.9995 - f1_score_micro: 0.9874 - f1_score_macro: 0.9864 - val_loss: 0.1170 - val_categorical_accuracy: 0.9621 - val_precision_3: 0.9644 - val_recall_3: 0.9611 - val_auc_1: 0.9964 - val_f1_score_micro: 0.9621 - val_f1_score_macro: 0.9602\n",
      "Epoch 9/10\n",
      "305/305 [==============================] - 164s 538ms/step - loss: 0.0318 - categorical_accuracy: 0.9892 - precision_3: 0.9900 - recall_3: 0.9883 - auc_1: 0.9997 - f1_score_micro: 0.9892 - f1_score_macro: 0.9884 - val_loss: 0.0995 - val_categorical_accuracy: 0.9683 - val_precision_3: 0.9703 - val_recall_3: 0.9671 - val_auc_1: 0.9971 - val_f1_score_micro: 0.9683 - val_f1_score_macro: 0.9661\n",
      "Epoch 10/10\n",
      "305/305 [==============================] - 165s 542ms/step - loss: 0.0244 - categorical_accuracy: 0.9923 - precision_3: 0.9928 - recall_3: 0.9919 - auc_1: 0.9998 - f1_score_micro: 0.9923 - f1_score_macro: 0.9916 - val_loss: 0.1064 - val_categorical_accuracy: 0.9701 - val_precision_3: 0.9706 - val_recall_3: 0.9693 - val_auc_1: 0.9961 - val_f1_score_micro: 0.9701 - val_f1_score_macro: 0.9681\n"
     ]
    }
   ],
   "source": [
    "history = model.fit(x_train, y_train, epochs = 10, batch_size=128, validation_data=(x_val, y_val))"
   ]
  },
  {
   "cell_type": "code",
   "execution_count": 118,
   "metadata": {},
   "outputs": [
    {
     "name": "stderr",
     "output_type": "stream",
     "text": [
      "WARNING:absl:Found untraced functions such as lstm_cell_2_layer_call_fn, lstm_cell_2_layer_call_and_return_conditional_losses while saving (showing 2 of 2). These functions will not be directly callable after loading.\n"
     ]
    },
    {
     "name": "stdout",
     "output_type": "stream",
     "text": [
      "INFO:tensorflow:Assets written to: lstm_model/assets\n"
     ]
    },
    {
     "name": "stderr",
     "output_type": "stream",
     "text": [
      "INFO:tensorflow:Assets written to: lstm_model/assets\n"
     ]
    }
   ],
   "source": [
    "model.save('lstm_model')"
   ]
  },
  {
   "cell_type": "code",
   "execution_count": 119,
   "metadata": {},
   "outputs": [
    {
     "name": "stdout",
     "output_type": "stream",
     "text": [
      "77/77 [==============================] - 18s 233ms/step - loss: 0.1064 - categorical_accuracy: 0.9701 - precision_3: 0.9706 - recall_3: 0.9693 - auc_1: 0.9961 - f1_score_micro: 0.9701 - f1_score_macro: 0.9681\n",
      "Test loss: 0.10643189400434494\n",
      "Test categorical_accuracy: 0.9700819849967957\n",
      "Test precision: 0.9705550670623779\n",
      "Test recall: 0.9692623019218445\n",
      "Test auc: 0.9960734844207764\n",
      "Test F1 (micro): 0.9700820446014404\n",
      "Test F1 (macro): 0.9680694341659546\n"
     ]
    }
   ],
   "source": [
    "results = model.evaluate(x_val, y_val, batch_size=128)\n",
    "print('Test loss:', results[0])\n",
    "print('Test categorical_accuracy:', results[1])\n",
    "print('Test precision:', results[2])\n",
    "print('Test recall:', results[3])\n",
    "print('Test auc:', results[4])\n",
    "print('Test F1 (micro):', results[5])\n",
    "print('Test F1 (macro):', results[6])"
   ]
  },
  {
   "cell_type": "code",
   "execution_count": 121,
   "metadata": {},
   "outputs": [
    {
     "name": "stderr",
     "output_type": "stream",
     "text": [
      "2023-03-29 14:52:15.882738: I tensorflow/core/grappler/optimizers/custom_graph_optimizer_registry.cc:113] Plugin optimizer for device_type GPU is enabled.\n",
      "2023-03-29 14:52:15.964143: I tensorflow/core/grappler/optimizers/custom_graph_optimizer_registry.cc:113] Plugin optimizer for device_type GPU is enabled.\n"
     ]
    },
    {
     "name": "stdout",
     "output_type": "stream",
     "text": [
      "77/77 [==============================] - 25s 267ms/step\n"
     ]
    }
   ],
   "source": [
    "predictions = model.predict(x_val, batch_size=128)\n",
    "result = np.argmax(predictions, axis=1)"
   ]
  },
  {
   "cell_type": "code",
   "execution_count": 122,
   "metadata": {},
   "outputs": [
    {
     "data": {
      "text/plain": [
       "(9760,)"
      ]
     },
     "execution_count": 122,
     "metadata": {},
     "output_type": "execute_result"
    }
   ],
   "source": [
    "result.shape"
   ]
  },
  {
   "cell_type": "code",
   "execution_count": 123,
   "metadata": {},
   "outputs": [
    {
     "data": {
      "text/plain": [
       "(9760, 1000)"
      ]
     },
     "execution_count": 123,
     "metadata": {},
     "output_type": "execute_result"
    }
   ],
   "source": [
    "x_val.shape"
   ]
  },
  {
   "cell_type": "code",
   "execution_count": 132,
   "metadata": {},
   "outputs": [],
   "source": [
    "from sklearn.metrics import classification_report, confusion_matrix \n",
    "import seaborn as sns\n",
    "from PIL import Image \n",
    "from tqdm.notebook import tqdm\n",
    "import matplotlib.pyplot as plt"
   ]
  },
  {
   "cell_type": "code",
   "execution_count": 133,
   "metadata": {},
   "outputs": [],
   "source": [
    "def draw_confusion_matrix(true, preds):\n",
    "    conf_matx = confusion_matrix(true, preds)\n",
    "    sns.heatmap(\n",
    "        conf_matx, \n",
    "        annot=True, \n",
    "        annot_kws={\"size\": 12},\n",
    "        fmt='g', \n",
    "        cbar=False, \n",
    "        cmap=\"viridis\"\n",
    "    )\n",
    "    plt.show()"
   ]
  },
  {
   "cell_type": "code",
   "execution_count": 135,
   "metadata": {},
   "outputs": [
    {
     "data": {
      "image/png": "[encoded data removed]",
      "text/plain": [
       "<Figure size 640x480 with 1 Axes>"
      ]
     },
     "metadata": {},
     "output_type": "display_data"
    }
   ],
   "source": [
    "draw_confusion_matrix(np.argmax(y_val, axis=1), result)"
   ]
  },
  {
   "cell_type": "code",
   "execution_count": 138,
   "metadata": {},
   "outputs": [
    {
     "name": "stdout",
     "output_type": "stream",
     "text": [
      "START Cleaning text\n",
      "DONE Cleaning text\n",
      "START tokenize\n",
      "DONE tokenize\n",
      "START predict\n",
      "94/94 [==============================] - 24s 253ms/step\n",
      "DONE predict\n",
      "START evaluate\n",
      "24/24 [==============================] - 10s 408ms/step - loss: 3.6042 - categorical_accuracy: 0.3613 - precision_3: 0.3646 - recall_3: 0.3513 - auc_1: 0.6033 - f1_score_micro: 0.3613 - f1_score_macro: 0.2872\n",
      "Test loss: 3.6042470932006836\n",
      "Test categorical_accuracy: 0.36133334040641785\n",
      "Test precision: 0.3645797371864319\n",
      "Test recall: 0.3513333201408386\n",
      "Test auc: 0.6032506227493286\n",
      "Test F1 (micro): 0.36133334040641785\n",
      "Test F1 (macro): 0.2871997058391571\n"
     ]
    },
    {
     "data": {
      "image/png": "[encoded data removed]",
      "text/plain": [
       "<Figure size 640x480 with 1 Axes>"
      ]
     },
     "metadata": {},
     "output_type": "display_data"
    }
   ],
   "source": [
    "# test on balanced test.csv\n",
    "test_df = pd.read_csv(\"raw_data/balancedtest.csv\", names=[\"labels\", \"text\"])\n",
    "\n",
    "# clean text\n",
    "print(\"START Cleaning text\")\n",
    "test_df['cleaned_text'] = test_df['text'].apply(clean_text)\n",
    "print(\"DONE Cleaning text\")\n",
    "\n",
    "# split into x_test and y_test\n",
    "x_test = test_df['cleaned_text']\n",
    "\n",
    "# transform y into one hot vectors\n",
    "y_test = pd.get_dummies(test_df[\"labels\"])\n",
    "y_test = np.array(y_test)\n",
    "\n",
    "# tokenize\n",
    "print(\"START tokenize\")\n",
    "test_tokenizer = Tokenizer(num_words=MAX_NB_WORDS)\n",
    "test_tokenizer.fit_on_texts(x_test)\n",
    "test_sequences = test_tokenizer.texts_to_sequences(x_test)\n",
    "word_index = test_tokenizer.word_index\n",
    "test_data_padded = pad_sequences(test_sequences, padding = 'post', maxlen = MAX_SEQUENCE_LENGTH)\n",
    "print(\"DONE tokenize\")\n",
    "\n"
   ]
  },
  {
   "cell_type": "code",
   "execution_count": 140,
   "metadata": {},
   "outputs": [
    {
     "name": "stdout",
     "output_type": "stream",
     "text": [
      "START predict\n",
      "94/94 [==============================] - 20s 208ms/step\n",
      "DONE predict\n",
      "START evaluate\n",
      "94/94 [==============================] - 25s 264ms/step - loss: 5.1981 - categorical_accuracy: 0.3357 - precision_3: 0.3377 - recall_3: 0.3300 - auc_1: 0.5816 - f1_score_micro: 0.3357 - f1_score_macro: 0.3201\n",
      "Test loss: 5.198129653930664\n",
      "Test categorical_accuracy: 0.3356666564941406\n",
      "Test precision: 0.3376534879207611\n",
      "Test recall: 0.32999998331069946\n",
      "Test auc: 0.5815756320953369\n",
      "Test F1 (micro): 0.3356666564941406\n",
      "Test F1 (macro): 0.320085346698761\n"
     ]
    },
    {
     "data": {
      "image/png": "[encoded data removed]",
      "text/plain": [
       "<Figure size 640x480 with 1 Axes>"
      ]
     },
     "metadata": {},
     "output_type": "display_data"
    }
   ],
   "source": [
    "# predict\n",
    "print(\"START predict\")\n",
    "test_predictions = model.predict(test_data_padded)\n",
    "test_result = np.argmax(test_predictions, axis=1)\n",
    "print(\"DONE predict\")\n",
    "\n",
    "# evaluate\n",
    "print(\"START evaluate\")\n",
    "test_results = model.evaluate(test_data_padded, y_test)\n",
    "print('Test loss:', test_results[0])\n",
    "print('Test categorical_accuracy:', test_results[1])\n",
    "print('Test precision:', test_results[2])\n",
    "print('Test recall:', test_results[3])\n",
    "print('Test auc:', test_results[4])\n",
    "print('Test F1 (micro):', test_results[5])\n",
    "print('Test F1 (macro):', test_results[6])\n",
    "\n",
    "draw_confusion_matrix(np.argmax(y_test, axis=1), test_result)"
   ]
  },
  {
   "cell_type": "code",
   "execution_count": null,
   "metadata": {},
   "outputs": [],
   "source": []
  }
 ],
 "metadata": {
  "kernelspec": {
   "display_name": "Python 3 (ipykernel)",
   "language": "python",
   "name": "python3"
  },
  "language_info": {
   "codemirror_mode": {
    "name": "ipython",
    "version": 3
   },
   "file_extension": ".py",
   "mimetype": "text/x-python",
   "name": "python",
   "nbconvert_exporter": "python",
   "pygments_lexer": "ipython3",
   "version": "3.10.9"
  }
 },
 "nbformat": 4,
 "nbformat_minor": 2
}
