{
 "cells": [
  {
   "attachments": {},
   "cell_type": "markdown",
   "metadata": {},
   "source": [
    "# Deep Learning Models with GloVe Word embeddings\n",
    "\n",
    "Generally, all the following models use **stop word removal** and **GloVe embeddings**, with a max token length of 10000 (just following the tutorial below, a bit arbitrary). This is input as an `Embedding` layer in Keras\n",
    "\n",
    "For LSTM/Bi-LSTM, refer to Option 5 for best performing models."
   ]
  },
  {
   "cell_type": "code",
   "execution_count": 1,
   "metadata": {},
   "outputs": [],
   "source": [
    "# Following: https://medium.com/analytics-vidhya/multiclass-text-classification-using-deep-learning-f25b4b1010e5\n",
    "\n",
    "import re\n",
    "import tqdm\n",
    "from nltk.corpus import stopwords\n",
    "import nltk\n",
    "from tensorflow.keras import regularizers, initializers, optimizers, callbacks\n",
    "from keras.wrappers.scikit_learn import KerasClassifier\n",
    "from sklearn.model_selection import KFold\n",
    "from sklearn.model_selection import cross_val_score\n",
    "\n",
    "from tensorflow.keras.preprocessing.sequence import pad_sequences\n",
    "from tensorflow.keras.preprocessing.text import Tokenizer\n",
    "import tensorflow_addons as tfa\n",
    "import tensorflow as tf\n",
    "from keras.utils.np_utils import to_categorical\n",
    "from tensorflow.keras.layers import *\n",
    "from tensorflow.keras.models import Sequential\n",
    "import pandas as pd\n",
    "import numpy as np"
   ]
  },
  {
   "cell_type": "code",
   "execution_count": 2,
   "metadata": {},
   "outputs": [],
   "source": [
    "from sklearn.metrics import classification_report, confusion_matrix \n",
    "import seaborn as sns\n",
    "from PIL import Image \n",
    "from tqdm.notebook import tqdm\n",
    "import matplotlib.pyplot as plt"
   ]
  },
  {
   "cell_type": "code",
   "execution_count": 3,
   "metadata": {},
   "outputs": [],
   "source": [
    "def draw_confusion_matrix(true, preds):\n",
    "    conf_matx = confusion_matrix(true, preds)\n",
    "    sns.heatmap(\n",
    "        conf_matx, \n",
    "        annot=True, \n",
    "        annot_kws={\"size\": 12},\n",
    "        fmt='g', \n",
    "        cbar=False, \n",
    "        cmap=\"viridis\"\n",
    "    )\n",
    "    plt.show()"
   ]
  },
  {
   "cell_type": "code",
   "execution_count": 4,
   "metadata": {},
   "outputs": [
    {
     "name": "stdout",
     "output_type": "stream",
     "text": [
      "<class 'pandas.core.frame.DataFrame'>\n",
      "RangeIndex: 48854 entries, 0 to 48853\n",
      "Data columns (total 2 columns):\n",
      " #   Column  Non-Null Count  Dtype \n",
      "---  ------  --------------  ----- \n",
      " 0   labels  48854 non-null  int64 \n",
      " 1   text    48854 non-null  object\n",
      "dtypes: int64(1), object(1)\n",
      "memory usage: 763.5+ KB\n"
     ]
    }
   ],
   "source": [
    "# read data\n",
    "df = pd.read_csv(\"raw_data/fulltrain.csv\", names=[\"labels\", \"text\"])\n",
    "# load test set\n",
    "test_df = pd.read_csv(\"raw_data/balancedtest.csv\", names=[\"labels\", \"text\"])\n",
    "df.info()"
   ]
  },
  {
   "cell_type": "code",
   "execution_count": 5,
   "metadata": {},
   "outputs": [],
   "source": [
    "# set constants\n",
    "MAX_NB_WORDS = 100000 # max number of words for tokenizer TODO: double check with this dataset\n",
    "MAX_SEQUENCE_LENGTH = 1000 # max length of each sentences, including padding TODO: double check for this dataset supposed to be 131926\n",
    "VALIDATION_SPLIT = 0.2 # 20% of data for validation (not used in training)\n",
    "EMBEDDING_DIM = 300 # embedding dimensions for word vectors\n",
    "GLOVE_DIR = f\"glove/glove.6B.{EMBEDDING_DIM}d.txt\"\n"
   ]
  },
  {
   "cell_type": "code",
   "execution_count": 6,
   "metadata": {},
   "outputs": [],
   "source": [
    "# find the max number of tokens in a single row: answer = 131926 \n",
    "# Don't run if not needed\n",
    "recalculate = False\n",
    "if recalculate: \n",
    "    maxLen = 0\n",
    "    for sentence in x: \n",
    "        tokens = nltk.word_tokenize(sentence)\n",
    "        maxLen = max(maxLen, len(tokens))\n",
    "    print(maxLen)"
   ]
  },
  {
   "cell_type": "code",
   "execution_count": 7,
   "metadata": {},
   "outputs": [],
   "source": [
    "# sentence cleaning\n",
    "def clean_text(text, remove_stopwords = True):\n",
    "    output = \"\"\n",
    "    text = str(text).replace(r'http[\\w:/\\.]+','') # removing urls\n",
    "    text = str(text).replace(r'[^\\.\\w\\s]','') #remove everything but characters and punctuation\n",
    "    text = str(text).replace(r'\\.\\.+','.') #replace multiple periods with a single one\n",
    "    text = str(text).replace(r'\\.',' . ') # replace periods with a single one\n",
    "    text = str(text).replace(r'\\s\\s+',' ') #replace multiple white space with a single one\n",
    "    text = str(text).replace(\"\\n\", \"\") #removing line breaks\n",
    "    text = re.sub(r'[^\\w\\s]','',text).lower() #lower texts\n",
    "    if remove_stopwords:\n",
    "        text = text.split(\" \")\n",
    "\n",
    "    for word in text:\n",
    "        if word not in stopwords.words(\"english\"):\n",
    "            output = f\"{output} {word}\"\n",
    "    return output.strip()"
   ]
  },
  {
   "cell_type": "code",
   "execution_count": 8,
   "metadata": {},
   "outputs": [
    {
     "data": {
      "text/plain": [
       "0        little less decade ago hockey fans blessed sla...\n",
       "1        writers hbo series sopranos took another darin...\n",
       "2        despite claims tv news outlet offer nonstop ne...\n",
       "3        receiving subpar service experiencing unusuall...\n",
       "4        watching beloved seattle mariners prevail san ...\n",
       "                               ...                        \n",
       "48795    president yingjeou assured paraguay tuesday mo...\n",
       "48796    taiwan may file complaint world trade organiza...\n",
       "48797    20 legislators opposition democratic progressi...\n",
       "48798    taiwan may file complaint world trade organiza...\n",
       "48799    taiwan confederation trade unions tctu said th...\n",
       "Name: texts, Length: 48800, dtype: object"
      ]
     },
     "execution_count": 8,
     "metadata": {},
     "output_type": "execute_result"
    }
   ],
   "source": [
    "# remove stopwords from x\n",
    "\n",
    "import os \n",
    "# check if \"texts_cleaned.csv\" exists\n",
    "if not os.path.exists(\"texts_cleaned.csv\"):\n",
    "    texts = []\n",
    "    counter = 0\n",
    "    \n",
    "    print(f\"total of {len(x)} lines\")\n",
    "    output = pd.DataFrame()\n",
    "    for line in x: \n",
    "        texts.append(clean_text(line))\n",
    "\n",
    "        if len(texts) % 100 == 0: \n",
    "            counter += 100\n",
    "            print(f\"cleaned {counter} lines\")\n",
    "            \n",
    "            temp_df = pd.DataFrame({\"texts\": texts})\n",
    "            # concat with output dataframe\n",
    "            output = pd.concat([output, temp_df], ignore_index=True)\n",
    "            texts = []\n",
    "\n",
    "    output.to_csv(\"texts_cleaned.csv\", index=False)\n",
    "\n",
    "clean_text_df = pd.read_csv(\"texts_cleaned.csv\")\n",
    "texts = clean_text_df[\"texts\"]\n",
    "test_df['cleaned_text'] = test_df['text'].apply(clean_text)\n",
    "texts\n"
   ]
  },
  {
   "cell_type": "code",
   "execution_count": 9,
   "metadata": {},
   "outputs": [
    {
     "data": {
      "text/plain": [
       "array([[1, 0, 0, 0],\n",
       "       [1, 0, 0, 0],\n",
       "       [1, 0, 0, 0],\n",
       "       ...,\n",
       "       [0, 0, 0, 1],\n",
       "       [0, 0, 0, 1],\n",
       "       [0, 0, 0, 1]], dtype=uint8)"
      ]
     },
     "execution_count": 9,
     "metadata": {},
     "output_type": "execute_result"
    }
   ],
   "source": [
    "# split into X_test and y_test\n",
    "X_test = test_df['cleaned_text']\n",
    "\n",
    "# transform y_test into one hot vectors\n",
    "y_test = pd.get_dummies(test_df[\"labels\"])\n",
    "y_test = np.array(y_test)\n",
    "\n",
    "# transform y into one hot vectors\n",
    "y = pd.get_dummies(df[\"labels\"])\n",
    "y = np.array(y)\n",
    "y"
   ]
  },
  {
   "cell_type": "code",
   "execution_count": 10,
   "metadata": {},
   "outputs": [
    {
     "name": "stdout",
     "output_type": "stream",
     "text": [
      "Vocabulary size: 323792\n",
      "START tokenize test\n",
      "DONE tokenize test\n"
     ]
    }
   ],
   "source": [
    "# tokenize train\n",
    "tokenizer = Tokenizer(num_words=MAX_NB_WORDS)\n",
    "tokenizer.fit_on_texts(texts)\n",
    "sequences = tokenizer.texts_to_sequences(texts)\n",
    "word_index = tokenizer.word_index\n",
    "print(f\"Vocabulary size: {len(word_index)}\")\n",
    "\n",
    "# tokenize test\n",
    "print(\"START tokenize test\")\n",
    "test_tokenizer = Tokenizer(num_words=MAX_NB_WORDS)\n",
    "test_tokenizer.fit_on_texts(X_test)\n",
    "test_sequences = test_tokenizer.texts_to_sequences(X_test)\n",
    "test_word_index = test_tokenizer.word_index\n",
    "print(\"DONE tokenize test\")\n"
   ]
  },
  {
   "cell_type": "code",
   "execution_count": 11,
   "metadata": {},
   "outputs": [
    {
     "name": "stdout",
     "output_type": "stream",
     "text": [
      "Shape of train data tensor: (48800, 1000)\n",
      "Shape of train label tensor: (48854, 4)\n",
      "Shape of test data tensor: (3000, 1000)\n",
      "Shape of test label tensor: (3000, 4)\n"
     ]
    }
   ],
   "source": [
    "# pad data so they are uniform\n",
    "X_test = pad_sequences(test_sequences, padding = 'post', maxlen = MAX_SEQUENCE_LENGTH)\n",
    "data = pad_sequences(sequences, padding = 'post', maxlen = MAX_SEQUENCE_LENGTH)\n",
    "print(f\"Shape of train data tensor: {data.shape}\")\n",
    "print(f\"Shape of train label tensor: {y.shape}\")\n",
    "print(f\"Shape of test data tensor: {X_test.shape}\")\n",
    "print(f\"Shape of test label tensor: {y_test.shape}\")"
   ]
  },
  {
   "cell_type": "code",
   "execution_count": 12,
   "metadata": {},
   "outputs": [],
   "source": [
    "# shuffle train data\n",
    "indices = np.arange(data.shape[0])\n",
    "np.random.shuffle(indices)\n",
    "data = data[indices]\n",
    "labels = y[indices]\n"
   ]
  },
  {
   "cell_type": "code",
   "execution_count": 13,
   "metadata": {},
   "outputs": [
    {
     "name": "stdout",
     "output_type": "stream",
     "text": [
      "Number of entries in each category:\n",
      "training:  [11304  5563 14174  7999]\n",
      "validation:  [2743 1379 3696 1942]\n"
     ]
    }
   ],
   "source": [
    "# split train data\n",
    "num_validation_samples = int(VALIDATION_SPLIT*data.shape[0])\n",
    "X_train = data[: -num_validation_samples]\n",
    "y_train = labels[: -num_validation_samples]\n",
    "X_val = data[-num_validation_samples: ]\n",
    "y_val = labels[-num_validation_samples: ]\n",
    "print(\"Number of entries in each category:\")\n",
    "print('training: ', y_train.sum(axis=0))\n",
    "print('validation: ', y_val.sum(axis=0))"
   ]
  },
  {
   "cell_type": "code",
   "execution_count": 14,
   "metadata": {},
   "outputs": [
    {
     "name": "stdout",
     "output_type": "stream",
     "text": [
      "Loading Glove from: glove/glove.6B.300d.txt\n",
      "Done.\n",
      " Proceeding with Embedding Matrix...\n",
      "Completed!\n"
     ]
    }
   ],
   "source": [
    "# create embedding matrix\n",
    "embeddings_index = {}\n",
    "f = open(GLOVE_DIR, encoding='utf8')\n",
    "print(f\"Loading Glove from: {GLOVE_DIR}\")\n",
    "for line in f:\n",
    "    values = line.split()\n",
    "    word = values[0]\n",
    "    embeddings_index[word] = np.asarray(values[1:], dtype='float32')\n",
    "f.close()\n",
    "print(\"Done.\\n Proceeding with Embedding Matrix...\")\n",
    "embedding_matrix = np.random.random((len(word_index) + 1, EMBEDDING_DIM))\n",
    "for word, i in word_index.items():\n",
    "    embedding_vector = embeddings_index.get(word)\n",
    "    if embedding_vector is not None:\n",
    "        embedding_matrix[i] = embedding_vector\n",
    "print(\"Completed!\")"
   ]
  },
  {
   "cell_type": "code",
   "execution_count": 40,
   "metadata": {},
   "outputs": [
    {
     "name": "stderr",
     "output_type": "stream",
     "text": [
      "/Users/maxx/miniconda3/envs/tensor2.9/lib/python3.10/site-packages/IPython/core/interactiveshell.py:3460: FutureWarning: arrays to stack must be passed as a \"sequence\" type such as list or tuple. Support for non-sequence iterables such as generators is deprecated as of NumPy 1.16 and will raise an error in the future.\n",
      "  exec(code_obj, self.user_global_ns, self.user_ns)\n"
     ]
    }
   ],
   "source": [
    "# def load_glove(word_index):\n",
    "#     def get_coefs(word,*arr): return word, np.asarray(arr, dtype='float32')[:EMBEDDING_DIM]\n",
    "#     embeddings_index = dict(get_coefs(*o.split(\" \")) for o in   open(GLOVE_DIR))\n",
    "#     all_embs = np.stack(embeddings_index.values())\n",
    "#     emb_mean,emb_std = -0.005838499,0.48782197\n",
    "#     embed_size = all_embs.shape[1]\n",
    "#     nb_words = min(MAX_NB_WORDS, len(word_index)+1)\n",
    "#     embedding_matrix = np.random.normal(emb_mean, emb_std, (nb_words, embed_size))\n",
    "#     for word, i in word_index.items():\n",
    "#         if i >= MAX_NB_WORDS: continue\n",
    "#         embedding_vector = embeddings_index.get(word)\n",
    "#         if embedding_vector is not None:\n",
    "#             embedding_matrix[i] = embedding_vector\n",
    "#         else:\n",
    "#             embedding_vector = embeddings_index.get(word.capitalize())\n",
    "#             if embedding_vector is not None:\n",
    "#                 embedding_matrix[i] = embedding_vector\n",
    "#     return embedding_matrix\n",
    "# embedding_matrix = load_glove(tokenizer.word_index)"
   ]
  },
  {
   "cell_type": "code",
   "execution_count": null,
   "metadata": {},
   "outputs": [],
   "source": [
    "# class Embeddings():\n",
    "#     \"\"\"\n",
    "#     A class to read the word embedding file and to create the word embedding matrix\n",
    "#     \"\"\"\n",
    "\n",
    "#     def __init__(self, path, vector_dimension):\n",
    "#         self.path = path \n",
    "#         self.vector_dimension = vector_dimension\n",
    "    \n",
    "#     @staticmethod\n",
    "#     def get_coefs(word, *arr): \n",
    "#         return word, np.asarray(arr, dtype='float32')\n",
    "\n",
    "#     def get_embedding_index(self):\n",
    "#         embeddings_index = dict(self.get_coefs(*o.split(\" \")) for o in open(self.path, errors='ignore'))\n",
    "#         return embeddings_index\n",
    "\n",
    "#     def create_embedding_matrix(self, tokenizer, max_features):\n",
    "#         \"\"\"\n",
    "#         A method to create the embedding matrix\n",
    "#         \"\"\"\n",
    "#         model_embed = self.get_embedding_index()\n",
    "\n",
    "#         embedding_matrix = np.zeros((max_features + 1, self.vector_dimension))\n",
    "#         for word, index in tokenizer.word_index.items():\n",
    "#             if index > max_features:\n",
    "#                 break\n",
    "#             else:\n",
    "#                 try:\n",
    "#                     embedding_matrix[index] = model_embed[word]\n",
    "#                 except:\n",
    "#                     continue\n",
    "#         return embedding_matrix"
   ]
  },
  {
   "attachments": {},
   "cell_type": "markdown",
   "metadata": {},
   "source": [
    "# Option 1: Basic Neural Network (Not working)"
   ]
  },
  {
   "cell_type": "code",
   "execution_count": 58,
   "metadata": {},
   "outputs": [
    {
     "name": "stderr",
     "output_type": "stream",
     "text": [
      "/var/folders/68/c2vd8ndn12s0ky3brj493wzr0000gn/T/ipykernel_28933/3687624663.py:27: DeprecationWarning: KerasClassifier is deprecated, use Sci-Keras (https://github.com/adriangb/scikeras) instead. See https://www.adriangb.com/scikeras/stable/migration.html for help migrating.\n",
      "  estimator = KerasClassifier(build_fn=baseline_model, epochs=10, batch_size=5, verbose=1)\n"
     ]
    }
   ],
   "source": [
    "# following tutorial: https://machinelearningmastery.com/multi-class-classification-tutorial-keras-deep-learning-library/\n",
    "\n",
    "# define baseline model\n",
    "def baseline_model():\n",
    "    # create model\n",
    "    model = Sequential()\n",
    "    model.add(Input(shape=(MAX_SEQUENCE_LENGTH,), dtype='int32'))\n",
    "    model.add(Embedding(len(word_index) + 1,\n",
    "        EMBEDDING_DIM,\n",
    "        weights = [embedding_matrix],\n",
    "        input_length = MAX_SEQUENCE_LENGTH,\n",
    "        trainable=False,\n",
    "        name = 'embeddings'))\n",
    "    model.add(GlobalMaxPool1D()) # TODO CHECK\n",
    "    model.add(Dense(8, input_dim=MAX_SEQUENCE_LENGTH, activation='relu'))\n",
    "    model.add(Dense(4, activation='softmax'))\n",
    "    # Compile model\n",
    "    model.compile(loss='categorical_crossentropy', optimizer='adam', metrics=[\n",
    "         \"categorical_accuracy\", \n",
    "        tf.keras.metrics.Precision(), \n",
    "        tf.keras.metrics.Recall(), \n",
    "        tf.keras.metrics.AUC(),\n",
    "        tfa.metrics.F1Score(num_classes=4, average=\"micro\", name=\"f1_score_micro\"), \n",
    "        tfa.metrics.F1Score(num_classes=4, average=\"macro\", name=\"f1_score_macro\")\n",
    "    ])\n",
    "    return model\n",
    "estimator = KerasClassifier(build_fn=baseline_model, epochs=10, batch_size=5, verbose=1)"
   ]
  },
  {
   "cell_type": "code",
   "execution_count": 59,
   "metadata": {},
   "outputs": [],
   "source": [
    "kfold = KFold(n_splits=10, shuffle=True)"
   ]
  },
  {
   "cell_type": "code",
   "execution_count": null,
   "metadata": {},
   "outputs": [],
   "source": [
    "results = cross_val_score(estimator, X_train, y_train, cv=kfold, scoring=tfa.metrics.F1Score(num_classes=4, average=\"macro\", name=\"f1_score_macro\"))\n",
    "# print(\"Baseline: %.2f%% (%.2f%%)\" % (results.mean()*100, results.std()*100))\n",
    "print(results)"
   ]
  },
  {
   "attachments": {},
   "cell_type": "markdown",
   "metadata": {},
   "source": [
    "# Option 2: CNN (Working)\n",
    "\n",
    "Uses GloVe embeddings as loaded above."
   ]
  },
  {
   "cell_type": "code",
   "execution_count": 15,
   "metadata": {},
   "outputs": [
    {
     "name": "stdout",
     "output_type": "stream",
     "text": [
      "Metal device set to: Apple M1 Pro\n",
      "\n",
      "systemMemory: 16.00 GB\n",
      "maxCacheSize: 5.33 GB\n",
      "\n"
     ]
    },
    {
     "name": "stderr",
     "output_type": "stream",
     "text": [
      "2023-04-02 10:23:30.713079: I tensorflow/core/common_runtime/pluggable_device/pluggable_device_factory.cc:305] Could not identify NUMA node of platform GPU ID 0, defaulting to 0. Your kernel may not have been built with NUMA support.\n",
      "2023-04-02 10:23:30.713338: I tensorflow/core/common_runtime/pluggable_device/pluggable_device_factory.cc:271] Created TensorFlow device (/job:localhost/replica:0/task:0/device:GPU:0 with 0 MB memory) -> physical PluggableDevice (device: 0, name: METAL, pci bus id: <undefined>)\n"
     ]
    },
    {
     "name": "stdout",
     "output_type": "stream",
     "text": [
      "Model: \"sequential\"\n",
      "_________________________________________________________________\n",
      " Layer (type)                Output Shape              Param #   \n",
      "=================================================================\n",
      " embedding (Embedding)       (None, 1000, 300)         97137900  \n",
      "                                                                 \n",
      " conv1d (Conv1D)             (None, 996, 128)          192128    \n",
      "                                                                 \n",
      " global_max_pooling1d (Globa  (None, 128)              0         \n",
      " lMaxPooling1D)                                                  \n",
      "                                                                 \n",
      " dense (Dense)               (None, 10)                1290      \n",
      "                                                                 \n",
      " dropout (Dropout)           (None, 10)                0         \n",
      "                                                                 \n",
      " dense_1 (Dense)             (None, 4)                 44        \n",
      "                                                                 \n",
      "=================================================================\n",
      "Total params: 97,331,362\n",
      "Trainable params: 97,331,362\n",
      "Non-trainable params: 0\n",
      "_________________________________________________________________\n"
     ]
    }
   ],
   "source": [
    "model = Sequential()\n",
    "model.add(Embedding(len(word_index) + 1, EMBEDDING_DIM, input_length=MAX_SEQUENCE_LENGTH))\n",
    "model.add(Conv1D(filters=128, kernel_size=5, activation='relu'))\n",
    "model.add(GlobalMaxPooling1D())\n",
    "model.add(Dense(10, activation='relu'))\n",
    "model.add(Dropout(0.1))\n",
    "model.add(Dense(4, activation='softmax'))\n",
    "model.compile(optimizer=\"adam\", \n",
    "    loss=\"categorical_crossentropy\", \n",
    "    metrics = [\n",
    "        \"categorical_accuracy\", \n",
    "        tf.keras.metrics.Precision(), \n",
    "        tf.keras.metrics.Recall(), \n",
    "        tf.keras.metrics.AUC(),\n",
    "        tfa.metrics.F1Score(num_classes=4, average=\"micro\", name=\"f1_score_micro\"), \n",
    "        tfa.metrics.F1Score(num_classes=4, average=\"macro\", name=\"f1_score_macro\")\n",
    "    ]\n",
    ")\n",
    "model.summary()\n",
    "\n",
    "checkpoint_filepath = '/tmp/checkpoint'\n",
    "model_checkpoint_callback = tf.keras.callbacks.ModelCheckpoint(\n",
    "    filepath=checkpoint_filepath,\n",
    "    save_weights_only=True,\n",
    "    monitor='val_accuracy',\n",
    "    mode='max',\n",
    "    save_best_only=True)"
   ]
  },
  {
   "cell_type": "code",
   "execution_count": 17,
   "metadata": {},
   "outputs": [
    {
     "name": "stdout",
     "output_type": "stream",
     "text": [
      "Epoch 1/2\n",
      "3904/3904 [==============================] - ETA: 0s - loss: 0.1607 - categorical_accuracy: 0.9451 - precision: 0.9541 - recall: 0.9376 - auc: 0.9947 - f1_score_micro: 0.9451 - f1_score_macro: 0.9407"
     ]
    },
    {
     "name": "stderr",
     "output_type": "stream",
     "text": [
      "2023-04-02 10:35:34.208751: I tensorflow/core/grappler/optimizers/custom_graph_optimizer_registry.cc:113] Plugin optimizer for device_type GPU is enabled.\n"
     ]
    },
    {
     "name": "stdout",
     "output_type": "stream",
     "text": [
      "3904/3904 [==============================] - 702s 180ms/step - loss: 0.1607 - categorical_accuracy: 0.9451 - precision: 0.9541 - recall: 0.9376 - auc: 0.9947 - f1_score_micro: 0.9451 - f1_score_macro: 0.9407 - val_loss: 0.1003 - val_categorical_accuracy: 0.9649 - val_precision: 0.9688 - val_recall: 0.9620 - val_auc: 0.9979 - val_f1_score_micro: 0.9649 - val_f1_score_macro: 0.9619\n",
      "Epoch 2/2\n",
      "3904/3904 [==============================] - 651s 167ms/step - loss: 0.0190 - categorical_accuracy: 0.9942 - precision: 0.9946 - recall: 0.9939 - auc: 0.9997 - f1_score_micro: 0.9942 - f1_score_macro: 0.9936 - val_loss: 0.1222 - val_categorical_accuracy: 0.9625 - val_precision: 0.9636 - val_recall: 0.9609 - val_auc: 0.9959 - val_f1_score_micro: 0.9625 - val_f1_score_macro: 0.9595\n"
     ]
    }
   ],
   "source": [
    "history = model.fit(X_train, y_train, epochs = 2, batch_size=10, validation_data=[X_val, y_val])"
   ]
  },
  {
   "cell_type": "code",
   "execution_count": 18,
   "metadata": {},
   "outputs": [
    {
     "name": "stderr",
     "output_type": "stream",
     "text": [
      "WARNING:absl:Found untraced functions such as _jit_compiled_convolution_op while saving (showing 1 of 1). These functions will not be directly callable after loading.\n"
     ]
    },
    {
     "name": "stdout",
     "output_type": "stream",
     "text": [
      "INFO:tensorflow:Assets written to: cnn_model/assets\n"
     ]
    },
    {
     "name": "stderr",
     "output_type": "stream",
     "text": [
      "INFO:tensorflow:Assets written to: cnn_model/assets\n"
     ]
    }
   ],
   "source": [
    "model.save('cnn_model')"
   ]
  },
  {
   "cell_type": "code",
   "execution_count": 19,
   "metadata": {},
   "outputs": [
    {
     "name": "stdout",
     "output_type": "stream",
     "text": [
      "976/976 [==============================] - 29s 29ms/step - loss: 0.1222 - categorical_accuracy: 0.9625 - precision: 0.9636 - recall: 0.9609 - auc: 0.9959 - f1_score_micro: 0.9625 - f1_score_macro: 0.9595\n",
      "Test loss: 0.12224296480417252\n",
      "Test categorical_accuracy: 0.9624999761581421\n",
      "Test precision: 0.9636251330375671\n",
      "Test recall: 0.9608606696128845\n",
      "Test auc: 0.9959207773208618\n",
      "Test F1 (micro): 0.9624999761581421\n",
      "Test F1 (macro): 0.959509015083313\n"
     ]
    }
   ],
   "source": [
    "results = model.evaluate(X_val, y_val, batch_size=10)\n",
    "print('Test loss:', results[0])\n",
    "print('Test categorical_accuracy:', results[1])\n",
    "print('Test precision:', results[2])\n",
    "print('Test recall:', results[3])\n",
    "print('Test auc:', results[4])\n",
    "print('Test F1 (micro):', results[5])\n",
    "print('Test F1 (macro):', results[6])"
   ]
  },
  {
   "cell_type": "code",
   "execution_count": 20,
   "metadata": {},
   "outputs": [
    {
     "name": "stdout",
     "output_type": "stream",
     "text": [
      "START predict\n",
      " 1/94 [..............................] - ETA: 20s"
     ]
    },
    {
     "name": "stderr",
     "output_type": "stream",
     "text": [
      "2023-04-02 10:51:46.178287: I tensorflow/core/grappler/optimizers/custom_graph_optimizer_registry.cc:113] Plugin optimizer for device_type GPU is enabled.\n"
     ]
    },
    {
     "name": "stdout",
     "output_type": "stream",
     "text": [
      "94/94 [==============================] - 2s 15ms/step\n",
      "DONE predict\n",
      "START evaluate\n"
     ]
    },
    {
     "name": "stderr",
     "output_type": "stream",
     "text": [
      "2023-04-02 10:51:48.066956: I tensorflow/core/grappler/optimizers/custom_graph_optimizer_registry.cc:113] Plugin optimizer for device_type GPU is enabled.\n"
     ]
    },
    {
     "name": "stdout",
     "output_type": "stream",
     "text": [
      "94/94 [==============================] - 6s 47ms/step - loss: 3.4147 - categorical_accuracy: 0.3420 - precision: 0.3492 - recall: 0.3333 - auc: 0.5999 - f1_score_micro: 0.3420 - f1_score_macro: 0.3184\n",
      "Test loss: 3.414722204208374\n",
      "Test categorical_accuracy: 0.34200000762939453\n",
      "Test precision: 0.3491620421409607\n",
      "Test recall: 0.3333333432674408\n",
      "Test auc: 0.5998998284339905\n",
      "Test F1 (micro): 0.34200000762939453\n",
      "Test F1 (macro): 0.3184450566768646\n"
     ]
    },
    {
     "data": {
      "image/png": "[encoded data removed]",
      "text/plain": [
       "<Figure size 640x480 with 1 Axes>"
      ]
     },
     "metadata": {},
     "output_type": "display_data"
    }
   ],
   "source": [
    "# predict test\n",
    "print(\"START predict\")\n",
    "test_predictions = model.predict(X_test)\n",
    "test_result = np.argmax(test_predictions, axis=1)\n",
    "print(\"DONE predict\")\n",
    "\n",
    "# evaluate\n",
    "print(\"START evaluate\")\n",
    "test_results = model.evaluate(X_test, y_test)\n",
    "print('Test loss:', test_results[0])\n",
    "print('Test categorical_accuracy:', test_results[1])\n",
    "print('Test precision:', test_results[2])\n",
    "print('Test recall:', test_results[3])\n",
    "print('Test auc:', test_results[4])\n",
    "print('Test F1 (micro):', test_results[5])\n",
    "print('Test F1 (macro):', test_results[6])\n",
    "\n",
    "draw_confusion_matrix(np.argmax(y_test, axis=1), test_result)"
   ]
  },
  {
   "attachments": {},
   "cell_type": "markdown",
   "metadata": {},
   "source": [
    "# Option 3: LSTM (Working)"
   ]
  },
  {
   "cell_type": "code",
   "execution_count": null,
   "metadata": {},
   "outputs": [
    {
     "name": "stdout",
     "output_type": "stream",
     "text": [
      "Model: \"sequential_35\"\n",
      "_________________________________________________________________\n",
      " Layer (type)                Output Shape              Param #   \n",
      "=================================================================\n",
      " embeddings (Embedding)      (None, 1000, 300)         97137900  \n",
      "                                                                 \n",
      " lstm_layer (LSTM)           (None, 1000, 60)          86640     \n",
      "                                                                 \n",
      " global_max_pooling1d (Globa  (None, 60)               0         \n",
      " lMaxPooling1D)                                                  \n",
      "                                                                 \n",
      " dropout (Dropout)           (None, 60)                0         \n",
      "                                                                 \n",
      " dense_50 (Dense)            (None, 50)                3050      \n",
      "                                                                 \n",
      " dropout_1 (Dropout)         (None, 50)                0         \n",
      "                                                                 \n",
      " dense_51 (Dense)            (None, 4)                 204       \n",
      "                                                                 \n",
      "=================================================================\n",
      "Total params: 97,227,794\n",
      "Trainable params: 89,894\n",
      "Non-trainable params: 97,137,900\n",
      "_________________________________________________________________\n"
     ]
    }
   ],
   "source": [
    "# create model\n",
    "model = Sequential()\n",
    "model.add(Input(shape=(MAX_SEQUENCE_LENGTH,), dtype='int32'))\n",
    "model.add(Embedding(len(word_index) + 1,\n",
    "    EMBEDDING_DIM,\n",
    "    weights = [embedding_matrix],\n",
    "    input_length = MAX_SEQUENCE_LENGTH,\n",
    "    trainable=False,\n",
    "    name = 'embeddings'))\n",
    "model.add(LSTM(60, return_sequences=True,name='lstm_layer'))\n",
    "model.add(GlobalMaxPool1D())\n",
    "model.add(Dropout(0.1))\n",
    "model.add(Dense(50, activation=\"relu\"))\n",
    "model.add(Dropout(0.1))\n",
    "model.add(Dense(4, activation=\"softmax\"))\n",
    "\n",
    "model.summary()"
   ]
  },
  {
   "cell_type": "code",
   "execution_count": null,
   "metadata": {},
   "outputs": [],
   "source": [
    "model.compile(\n",
    "    optimizer=\"adam\", \n",
    "    loss=\"categorical_crossentropy\", \n",
    "    metrics = [\n",
    "        \"categorical_accuracy\", \n",
    "        tf.keras.metrics.Precision(), \n",
    "        tf.keras.metrics.Recall(), \n",
    "        tf.keras.metrics.AUC(),\n",
    "        tfa.metrics.F1Score(num_classes=4, average=\"micro\", name=\"f1_score_micro\"), \n",
    "        tfa.metrics.F1Score(num_classes=4, average=\"macro\", name=\"f1_score_macro\")\n",
    "    ]\n",
    ")"
   ]
  },
  {
   "cell_type": "code",
   "execution_count": null,
   "metadata": {},
   "outputs": [
    {
     "name": "stdout",
     "output_type": "stream",
     "text": [
      "Epoch 1/10\n"
     ]
    },
    {
     "name": "stderr",
     "output_type": "stream",
     "text": [
      "2023-03-29 14:22:16.164936: I tensorflow/core/grappler/optimizers/custom_graph_optimizer_registry.cc:113] Plugin optimizer for device_type GPU is enabled.\n",
      "2023-03-29 14:22:16.999492: I tensorflow/core/grappler/optimizers/custom_graph_optimizer_registry.cc:113] Plugin optimizer for device_type GPU is enabled.\n",
      "2023-03-29 14:22:22.642972: I tensorflow/core/grappler/optimizers/custom_graph_optimizer_registry.cc:113] Plugin optimizer for device_type GPU is enabled.\n"
     ]
    },
    {
     "name": "stdout",
     "output_type": "stream",
     "text": [
      "305/305 [==============================] - ETA: 0s - loss: 0.5223 - categorical_accuracy: 0.8067 - precision_3: 0.8972 - recall_3: 0.7078 - auc_1: 0.9558 - f1_score_micro: 0.8067 - f1_score_macro: 0.7904"
     ]
    },
    {
     "name": "stderr",
     "output_type": "stream",
     "text": [
      "2023-03-29 14:25:00.884492: I tensorflow/core/grappler/optimizers/custom_graph_optimizer_registry.cc:113] Plugin optimizer for device_type GPU is enabled.\n",
      "2023-03-29 14:25:01.090791: I tensorflow/core/grappler/optimizers/custom_graph_optimizer_registry.cc:113] Plugin optimizer for device_type GPU is enabled.\n"
     ]
    },
    {
     "name": "stdout",
     "output_type": "stream",
     "text": [
      "305/305 [==============================] - 193s 554ms/step - loss: 0.5223 - categorical_accuracy: 0.8067 - precision_3: 0.8972 - recall_3: 0.7078 - auc_1: 0.9558 - f1_score_micro: 0.8067 - f1_score_macro: 0.7904 - val_loss: 0.2149 - val_categorical_accuracy: 0.9253 - val_precision_3: 0.9384 - val_recall_3: 0.9159 - val_auc_1: 0.9916 - val_f1_score_micro: 0.9253 - val_f1_score_macro: 0.9191\n",
      "Epoch 2/10\n",
      "305/305 [==============================] - 162s 529ms/step - loss: 0.1941 - categorical_accuracy: 0.9332 - precision_3: 0.9422 - recall_3: 0.9248 - auc_1: 0.9930 - f1_score_micro: 0.9332 - f1_score_macro: 0.9272 - val_loss: 0.1599 - val_categorical_accuracy: 0.9452 - val_precision_3: 0.9525 - val_recall_3: 0.9382 - val_auc_1: 0.9949 - val_f1_score_micro: 0.9452 - val_f1_score_macro: 0.9404\n",
      "Epoch 3/10\n",
      "305/305 [==============================] - 162s 530ms/step - loss: 0.1306 - categorical_accuracy: 0.9546 - precision_3: 0.9597 - recall_3: 0.9497 - auc_1: 0.9966 - f1_score_micro: 0.9546 - f1_score_macro: 0.9510 - val_loss: 0.1207 - val_categorical_accuracy: 0.9581 - val_precision_3: 0.9642 - val_recall_3: 0.9541 - val_auc_1: 0.9968 - val_f1_score_micro: 0.9581 - val_f1_score_macro: 0.9550\n",
      "Epoch 4/10\n",
      "305/305 [==============================] - 160s 524ms/step - loss: 0.0995 - categorical_accuracy: 0.9655 - precision_3: 0.9693 - recall_3: 0.9625 - auc_1: 0.9978 - f1_score_micro: 0.9655 - f1_score_macro: 0.9626 - val_loss: 0.1136 - val_categorical_accuracy: 0.9595 - val_precision_3: 0.9644 - val_recall_3: 0.9558 - val_auc_1: 0.9971 - val_f1_score_micro: 0.9595 - val_f1_score_macro: 0.9556\n",
      "Epoch 5/10\n",
      "305/305 [==============================] - 161s 526ms/step - loss: 0.0767 - categorical_accuracy: 0.9743 - precision_3: 0.9769 - recall_3: 0.9720 - auc_1: 0.9985 - f1_score_micro: 0.9743 - f1_score_macro: 0.9724 - val_loss: 0.1173 - val_categorical_accuracy: 0.9588 - val_precision_3: 0.9616 - val_recall_3: 0.9573 - val_auc_1: 0.9967 - val_f1_score_micro: 0.9588 - val_f1_score_macro: 0.9560\n",
      "Epoch 6/10\n",
      "305/305 [==============================] - 161s 529ms/step - loss: 0.0579 - categorical_accuracy: 0.9805 - precision_3: 0.9826 - recall_3: 0.9789 - auc_1: 0.9992 - f1_score_micro: 0.9805 - f1_score_macro: 0.9790 - val_loss: 0.1001 - val_categorical_accuracy: 0.9654 - val_precision_3: 0.9687 - val_recall_3: 0.9640 - val_auc_1: 0.9972 - val_f1_score_micro: 0.9654 - val_f1_score_macro: 0.9626\n",
      "Epoch 7/10\n",
      "305/305 [==============================] - 162s 530ms/step - loss: 0.0471 - categorical_accuracy: 0.9845 - precision_3: 0.9857 - recall_3: 0.9831 - auc_1: 0.9993 - f1_score_micro: 0.9845 - f1_score_macro: 0.9834 - val_loss: 0.1001 - val_categorical_accuracy: 0.9671 - val_precision_3: 0.9696 - val_recall_3: 0.9660 - val_auc_1: 0.9972 - val_f1_score_micro: 0.9671 - val_f1_score_macro: 0.9655\n",
      "Epoch 8/10\n",
      "305/305 [==============================] - 161s 528ms/step - loss: 0.0383 - categorical_accuracy: 0.9874 - precision_3: 0.9885 - recall_3: 0.9865 - auc_1: 0.9995 - f1_score_micro: 0.9874 - f1_score_macro: 0.9864 - val_loss: 0.1170 - val_categorical_accuracy: 0.9621 - val_precision_3: 0.9644 - val_recall_3: 0.9611 - val_auc_1: 0.9964 - val_f1_score_micro: 0.9621 - val_f1_score_macro: 0.9602\n",
      "Epoch 9/10\n",
      "305/305 [==============================] - 164s 538ms/step - loss: 0.0318 - categorical_accuracy: 0.9892 - precision_3: 0.9900 - recall_3: 0.9883 - auc_1: 0.9997 - f1_score_micro: 0.9892 - f1_score_macro: 0.9884 - val_loss: 0.0995 - val_categorical_accuracy: 0.9683 - val_precision_3: 0.9703 - val_recall_3: 0.9671 - val_auc_1: 0.9971 - val_f1_score_micro: 0.9683 - val_f1_score_macro: 0.9661\n",
      "Epoch 10/10\n",
      "305/305 [==============================] - 165s 542ms/step - loss: 0.0244 - categorical_accuracy: 0.9923 - precision_3: 0.9928 - recall_3: 0.9919 - auc_1: 0.9998 - f1_score_micro: 0.9923 - f1_score_macro: 0.9916 - val_loss: 0.1064 - val_categorical_accuracy: 0.9701 - val_precision_3: 0.9706 - val_recall_3: 0.9693 - val_auc_1: 0.9961 - val_f1_score_micro: 0.9701 - val_f1_score_macro: 0.9681\n"
     ]
    }
   ],
   "source": [
    "history = model.fit(X_train, y_train, epochs = 10, batch_size=128, validation_data=(X_val, y_val))"
   ]
  },
  {
   "cell_type": "code",
   "execution_count": 118,
   "metadata": {},
   "outputs": [
    {
     "name": "stderr",
     "output_type": "stream",
     "text": [
      "WARNING:absl:Found untraced functions such as lstm_cell_2_layer_call_fn, lstm_cell_2_layer_call_and_return_conditional_losses while saving (showing 2 of 2). These functions will not be directly callable after loading.\n"
     ]
    },
    {
     "name": "stdout",
     "output_type": "stream",
     "text": [
      "INFO:tensorflow:Assets written to: lstm_model/assets\n"
     ]
    },
    {
     "name": "stderr",
     "output_type": "stream",
     "text": [
      "INFO:tensorflow:Assets written to: lstm_model/assets\n"
     ]
    }
   ],
   "source": [
    "model.save('lstm_model')"
   ]
  },
  {
   "cell_type": "code",
   "execution_count": null,
   "metadata": {},
   "outputs": [
    {
     "name": "stdout",
     "output_type": "stream",
     "text": [
      "77/77 [==============================] - 18s 233ms/step - loss: 0.1064 - categorical_accuracy: 0.9701 - precision_3: 0.9706 - recall_3: 0.9693 - auc_1: 0.9961 - f1_score_micro: 0.9701 - f1_score_macro: 0.9681\n",
      "Test loss: 0.10643189400434494\n",
      "Test categorical_accuracy: 0.9700819849967957\n",
      "Test precision: 0.9705550670623779\n",
      "Test recall: 0.9692623019218445\n",
      "Test auc: 0.9960734844207764\n",
      "Test F1 (micro): 0.9700820446014404\n",
      "Test F1 (macro): 0.9680694341659546\n"
     ]
    }
   ],
   "source": [
    "results = model.evaluate(X_val, y_val, batch_size=128)\n",
    "print('Test loss:', results[0])\n",
    "print('Test categorical_accuracy:', results[1])\n",
    "print('Test precision:', results[2])\n",
    "print('Test recall:', results[3])\n",
    "print('Test auc:', results[4])\n",
    "print('Test F1 (micro):', results[5])\n",
    "print('Test F1 (macro):', results[6])"
   ]
  },
  {
   "cell_type": "code",
   "execution_count": null,
   "metadata": {},
   "outputs": [
    {
     "name": "stdout",
     "output_type": "stream",
     "text": [
      "START predict\n",
      "94/94 [==============================] - 20s 208ms/step\n",
      "DONE predict\n",
      "START evaluate\n",
      "94/94 [==============================] - 25s 264ms/step - loss: 5.1981 - categorical_accuracy: 0.3357 - precision_3: 0.3377 - recall_3: 0.3300 - auc_1: 0.5816 - f1_score_micro: 0.3357 - f1_score_macro: 0.3201\n",
      "Test loss: 5.198129653930664\n",
      "Test categorical_accuracy: 0.3356666564941406\n",
      "Test precision: 0.3376534879207611\n",
      "Test recall: 0.32999998331069946\n",
      "Test auc: 0.5815756320953369\n",
      "Test F1 (micro): 0.3356666564941406\n",
      "Test F1 (macro): 0.320085346698761\n"
     ]
    },
    {
     "data": {
      "image/png": "[encoded data removed]",
      "text/plain": [
       "<Figure size 640x480 with 1 Axes>"
      ]
     },
     "metadata": {},
     "output_type": "display_data"
    }
   ],
   "source": [
    "# predict\n",
    "print(\"START predict\")\n",
    "test_predictions = model.predict(X_test)\n",
    "test_result = np.argmax(test_predictions, axis=1)\n",
    "print(\"DONE predict\")\n",
    "\n",
    "# evaluate\n",
    "print(\"START evaluate\")\n",
    "test_results = model.evaluate(X_test, y_test)\n",
    "print('Test loss:', test_results[0])\n",
    "print('Test categorical_accuracy:', test_results[1])\n",
    "print('Test precision:', test_results[2])\n",
    "print('Test recall:', test_results[3])\n",
    "print('Test auc:', test_results[4])\n",
    "print('Test F1 (micro):', test_results[5])\n",
    "print('Test F1 (macro):', test_results[6])\n",
    "\n",
    "draw_confusion_matrix(np.argmax(y_test, axis=1), test_result)"
   ]
  },
  {
   "attachments": {},
   "cell_type": "markdown",
   "metadata": {},
   "source": [
    "# Option 3: Bi-LSTM (Working)"
   ]
  },
  {
   "cell_type": "code",
   "execution_count": 15,
   "metadata": {},
   "outputs": [
    {
     "name": "stdout",
     "output_type": "stream",
     "text": [
      "Metal device set to: Apple M1 Pro\n",
      "\n",
      "systemMemory: 16.00 GB\n",
      "maxCacheSize: 5.33 GB\n",
      "\n"
     ]
    },
    {
     "name": "stderr",
     "output_type": "stream",
     "text": [
      "2023-04-02 17:59:26.567639: I tensorflow/core/common_runtime/pluggable_device/pluggable_device_factory.cc:305] Could not identify NUMA node of platform GPU ID 0, defaulting to 0. Your kernel may not have been built with NUMA support.\n",
      "2023-04-02 17:59:26.567758: I tensorflow/core/common_runtime/pluggable_device/pluggable_device_factory.cc:271] Created TensorFlow device (/job:localhost/replica:0/task:0/device:GPU:0 with 0 MB memory) -> physical PluggableDevice (device: 0, name: METAL, pci bus id: <undefined>)\n"
     ]
    },
    {
     "name": "stdout",
     "output_type": "stream",
     "text": [
      "Model: \"sequential\"\n",
      "_________________________________________________________________\n",
      " Layer (type)                Output Shape              Param #   \n",
      "=================================================================\n",
      " embeddings (Embedding)      (None, 1000, 300)         97137900  \n",
      "                                                                 \n",
      " bidirectional (Bidirectiona  (None, 1000, 512)        1140736   \n",
      " l)                                                              \n",
      "                                                                 \n",
      " bidirectional_1 (Bidirectio  (None, 300)              795600    \n",
      " nal)                                                            \n",
      "                                                                 \n",
      " dense (Dense)               (None, 128)               38528     \n",
      "                                                                 \n",
      " dropout (Dropout)           (None, 128)               0         \n",
      "                                                                 \n",
      " dense_1 (Dense)             (None, 50)                6450      \n",
      "                                                                 \n",
      " dropout_1 (Dropout)         (None, 50)                0         \n",
      "                                                                 \n",
      " dense_2 (Dense)             (None, 4)                 204       \n",
      "                                                                 \n",
      "=================================================================\n",
      "Total params: 99,119,418\n",
      "Trainable params: 1,981,518\n",
      "Non-trainable params: 97,137,900\n",
      "_________________________________________________________________\n"
     ]
    }
   ],
   "source": [
    "# create model\n",
    "model = Sequential()\n",
    "model.add(Embedding(len(word_index) + 1,\n",
    "    EMBEDDING_DIM,\n",
    "    weights = [embedding_matrix],\n",
    "    input_length = MAX_SEQUENCE_LENGTH,\n",
    "    trainable=False,\n",
    "    name = 'embeddings'))\n",
    "model.add(Bidirectional(LSTM(256, return_sequences=True)))\n",
    "model.add(Bidirectional(LSTM(150)))\n",
    "model.add(Dense(128, activation=\"relu\"))\n",
    "model.add(Dropout(0.1))\n",
    "model.add(Dense(50, activation=\"relu\"))\n",
    "model.add(Dropout(0.1))\n",
    "model.add(Dense(4, activation=\"softmax\"))\n",
    "model.summary()"
   ]
  },
  {
   "cell_type": "code",
   "execution_count": 16,
   "metadata": {},
   "outputs": [],
   "source": [
    "model.compile(\n",
    "    optimizer=\"adam\", \n",
    "    loss=\"categorical_crossentropy\", \n",
    "    metrics = [\n",
    "        \"categorical_accuracy\", \n",
    "        tf.keras.metrics.Precision(), \n",
    "        tf.keras.metrics.Recall(), \n",
    "        tf.keras.metrics.AUC(),\n",
    "        tfa.metrics.F1Score(num_classes=4, average=\"micro\", name=\"f1_score_micro\"), \n",
    "        tfa.metrics.F1Score(num_classes=4, average=\"macro\", name=\"f1_score_macro\")\n",
    "    ]\n",
    ")\n",
    "\n",
    "checkpoint_filepath = '/tmp/checkpoint'\n",
    "model_checkpoint_callback = tf.keras.callbacks.ModelCheckpoint(\n",
    "    filepath=checkpoint_filepath,\n",
    "    save_weights_only=True,\n",
    "    monitor='val_accuracy',\n",
    "    mode='max',\n",
    "    save_best_only=True)"
   ]
  },
  {
   "cell_type": "code",
   "execution_count": 17,
   "metadata": {},
   "outputs": [
    {
     "name": "stdout",
     "output_type": "stream",
     "text": [
      "Epoch 1/10\n"
     ]
    },
    {
     "name": "stderr",
     "output_type": "stream",
     "text": [
      "2023-04-02 17:59:27.589257: W tensorflow/core/platform/profile_utils/cpu_utils.cc:128] Failed to get CPU frequency: 0 Hz\n",
      "2023-04-02 17:59:29.940495: I tensorflow/core/grappler/optimizers/custom_graph_optimizer_registry.cc:113] Plugin optimizer for device_type GPU is enabled.\n",
      "2023-04-02 17:59:30.572443: I tensorflow/core/grappler/optimizers/custom_graph_optimizer_registry.cc:113] Plugin optimizer for device_type GPU is enabled.\n",
      "2023-04-02 17:59:30.592200: I tensorflow/core/grappler/optimizers/custom_graph_optimizer_registry.cc:113] Plugin optimizer for device_type GPU is enabled.\n",
      "2023-04-02 17:59:36.466556: I tensorflow/core/grappler/optimizers/custom_graph_optimizer_registry.cc:113] Plugin optimizer for device_type GPU is enabled.\n",
      "2023-04-02 17:59:36.535524: I tensorflow/core/grappler/optimizers/custom_graph_optimizer_registry.cc:113] Plugin optimizer for device_type GPU is enabled.\n",
      "2023-04-02 17:59:42.456743: I tensorflow/core/grappler/optimizers/custom_graph_optimizer_registry.cc:113] Plugin optimizer for device_type GPU is enabled.\n",
      "2023-04-02 17:59:42.480937: I tensorflow/core/grappler/optimizers/custom_graph_optimizer_registry.cc:113] Plugin optimizer for device_type GPU is enabled.\n",
      "2023-04-02 17:59:57.723075: I tensorflow/core/grappler/optimizers/custom_graph_optimizer_registry.cc:113] Plugin optimizer for device_type GPU is enabled.\n",
      "2023-04-02 17:59:57.840240: I tensorflow/core/grappler/optimizers/custom_graph_optimizer_registry.cc:113] Plugin optimizer for device_type GPU is enabled.\n"
     ]
    },
    {
     "name": "stdout",
     "output_type": "stream",
     "text": [
      "305/305 [==============================] - ETA: 0s - loss: 0.4820 - categorical_accuracy: 0.8232 - precision: 0.8714 - recall: 0.7789 - auc: 0.9598 - f1_score_micro: 0.8232 - f1_score_macro: 0.8116"
     ]
    },
    {
     "name": "stderr",
     "output_type": "stream",
     "text": [
      "2023-04-02 18:23:57.634973: I tensorflow/core/grappler/optimizers/custom_graph_optimizer_registry.cc:113] Plugin optimizer for device_type GPU is enabled.\n",
      "2023-04-02 18:23:57.967552: I tensorflow/core/grappler/optimizers/custom_graph_optimizer_registry.cc:113] Plugin optimizer for device_type GPU is enabled.\n",
      "2023-04-02 18:23:58.055536: I tensorflow/core/grappler/optimizers/custom_graph_optimizer_registry.cc:113] Plugin optimizer for device_type GPU is enabled.\n",
      "2023-04-02 18:24:04.406987: I tensorflow/core/grappler/optimizers/custom_graph_optimizer_registry.cc:113] Plugin optimizer for device_type GPU is enabled.\n",
      "2023-04-02 18:24:04.498745: I tensorflow/core/grappler/optimizers/custom_graph_optimizer_registry.cc:113] Plugin optimizer for device_type GPU is enabled.\n"
     ]
    },
    {
     "name": "stdout",
     "output_type": "stream",
     "text": [
      "WARNING:tensorflow:Can save best model only with val_accuracy available, skipping.\n",
      "305/305 [==============================] - 1548s 5s/step - loss: 0.4820 - categorical_accuracy: 0.8232 - precision: 0.8714 - recall: 0.7789 - auc: 0.9598 - f1_score_micro: 0.8232 - f1_score_macro: 0.8116 - val_loss: 0.3622 - val_categorical_accuracy: 0.8735 - val_precision: 0.8918 - val_recall: 0.8564 - val_auc: 0.9764 - val_f1_score_micro: 0.8735 - val_f1_score_macro: 0.8675\n",
      "Epoch 2/10\n",
      "305/305 [==============================] - ETA: 0s - loss: 0.2623 - categorical_accuracy: 0.9080 - precision: 0.9226 - recall: 0.8947 - auc: 0.9869 - f1_score_micro: 0.9080 - f1_score_macro: 0.9015WARNING:tensorflow:Can save best model only with val_accuracy available, skipping.\n",
      "305/305 [==============================] - 1533s 5s/step - loss: 0.2623 - categorical_accuracy: 0.9080 - precision: 0.9226 - recall: 0.8947 - auc: 0.9869 - f1_score_micro: 0.9080 - f1_score_macro: 0.9015 - val_loss: 0.2224 - val_categorical_accuracy: 0.9242 - val_precision: 0.9365 - val_recall: 0.9136 - val_auc: 0.9902 - val_f1_score_micro: 0.9242 - val_f1_score_macro: 0.9181\n",
      "Epoch 3/10\n",
      "305/305 [==============================] - ETA: 0s - loss: 0.1702 - categorical_accuracy: 0.9417 - precision: 0.9494 - recall: 0.9339 - auc: 0.9940 - f1_score_micro: 0.9417 - f1_score_macro: 0.9378WARNING:tensorflow:Can save best model only with val_accuracy available, skipping.\n",
      "305/305 [==============================] - 1444s 5s/step - loss: 0.1702 - categorical_accuracy: 0.9417 - precision: 0.9494 - recall: 0.9339 - auc: 0.9940 - f1_score_micro: 0.9417 - f1_score_macro: 0.9378 - val_loss: 0.1702 - val_categorical_accuracy: 0.9417 - val_precision: 0.9506 - val_recall: 0.9360 - val_auc: 0.9935 - val_f1_score_micro: 0.9417 - val_f1_score_macro: 0.9373\n",
      "Epoch 4/10\n",
      "305/305 [==============================] - ETA: 0s - loss: 0.1196 - categorical_accuracy: 0.9591 - precision: 0.9640 - recall: 0.9546 - auc: 0.9968 - f1_score_micro: 0.9591 - f1_score_macro: 0.9570WARNING:tensorflow:Can save best model only with val_accuracy available, skipping.\n",
      "305/305 [==============================] - 1476s 5s/step - loss: 0.1196 - categorical_accuracy: 0.9591 - precision: 0.9640 - recall: 0.9546 - auc: 0.9968 - f1_score_micro: 0.9591 - f1_score_macro: 0.9570 - val_loss: 0.1493 - val_categorical_accuracy: 0.9531 - val_precision: 0.9570 - val_recall: 0.9497 - val_auc: 0.9942 - val_f1_score_micro: 0.9531 - val_f1_score_macro: 0.9500\n",
      "Epoch 5/10\n",
      "305/305 [==============================] - ETA: 0s - loss: 0.1190 - categorical_accuracy: 0.9589 - precision: 0.9638 - recall: 0.9537 - auc: 0.9967 - f1_score_micro: 0.9589 - f1_score_macro: 0.9569WARNING:tensorflow:Can save best model only with val_accuracy available, skipping.\n",
      "305/305 [==============================] - 1570s 5s/step - loss: 0.1190 - categorical_accuracy: 0.9589 - precision: 0.9638 - recall: 0.9537 - auc: 0.9967 - f1_score_micro: 0.9589 - f1_score_macro: 0.9569 - val_loss: 0.1559 - val_categorical_accuracy: 0.9499 - val_precision: 0.9541 - val_recall: 0.9461 - val_auc: 0.9937 - val_f1_score_micro: 0.9499 - val_f1_score_macro: 0.9474\n",
      "Epoch 6/10\n",
      "305/305 [==============================] - ETA: 0s - loss: 0.0695 - categorical_accuracy: 0.9764 - precision: 0.9783 - recall: 0.9750 - auc: 0.9987 - f1_score_micro: 0.9764 - f1_score_macro: 0.9751WARNING:tensorflow:Can save best model only with val_accuracy available, skipping.\n",
      "305/305 [==============================] - 1196s 4s/step - loss: 0.0695 - categorical_accuracy: 0.9764 - precision: 0.9783 - recall: 0.9750 - auc: 0.9987 - f1_score_micro: 0.9764 - f1_score_macro: 0.9751 - val_loss: 0.1293 - val_categorical_accuracy: 0.9591 - val_precision: 0.9610 - val_recall: 0.9578 - val_auc: 0.9953 - val_f1_score_micro: 0.9591 - val_f1_score_macro: 0.9567\n",
      "Epoch 7/10\n",
      "305/305 [==============================] - ETA: 0s - loss: 0.0425 - categorical_accuracy: 0.9853 - precision: 0.9865 - recall: 0.9844 - auc: 0.9993 - f1_score_micro: 0.9853 - f1_score_macro: 0.9844WARNING:tensorflow:Can save best model only with val_accuracy available, skipping.\n",
      "305/305 [==============================] - 1565s 5s/step - loss: 0.0425 - categorical_accuracy: 0.9853 - precision: 0.9865 - recall: 0.9844 - auc: 0.9993 - f1_score_micro: 0.9853 - f1_score_macro: 0.9844 - val_loss: 0.1318 - val_categorical_accuracy: 0.9609 - val_precision: 0.9630 - val_recall: 0.9595 - val_auc: 0.9947 - val_f1_score_micro: 0.9609 - val_f1_score_macro: 0.9577\n",
      "Epoch 8/10\n",
      "305/305 [==============================] - ETA: 0s - loss: 0.0373 - categorical_accuracy: 0.9875 - precision: 0.9881 - recall: 0.9867 - auc: 0.9994 - f1_score_micro: 0.9875 - f1_score_macro: 0.9866WARNING:tensorflow:Can save best model only with val_accuracy available, skipping.\n",
      "305/305 [==============================] - 1520s 5s/step - loss: 0.0373 - categorical_accuracy: 0.9875 - precision: 0.9881 - recall: 0.9867 - auc: 0.9994 - f1_score_micro: 0.9875 - f1_score_macro: 0.9866 - val_loss: 0.1410 - val_categorical_accuracy: 0.9608 - val_precision: 0.9622 - val_recall: 0.9596 - val_auc: 0.9939 - val_f1_score_micro: 0.9608 - val_f1_score_macro: 0.9584\n",
      "Epoch 9/10\n",
      "305/305 [==============================] - ETA: 0s - loss: 0.0235 - categorical_accuracy: 0.9918 - precision: 0.9922 - recall: 0.9915 - auc: 0.9998 - f1_score_micro: 0.9918 - f1_score_macro: 0.9913WARNING:tensorflow:Can save best model only with val_accuracy available, skipping.\n",
      "305/305 [==============================] - 1510s 5s/step - loss: 0.0235 - categorical_accuracy: 0.9918 - precision: 0.9922 - recall: 0.9915 - auc: 0.9998 - f1_score_micro: 0.9918 - f1_score_macro: 0.9913 - val_loss: 0.1490 - val_categorical_accuracy: 0.9628 - val_precision: 0.9638 - val_recall: 0.9616 - val_auc: 0.9935 - val_f1_score_micro: 0.9628 - val_f1_score_macro: 0.9597\n",
      "Epoch 10/10\n",
      "305/305 [==============================] - ETA: 0s - loss: 0.0188 - categorical_accuracy: 0.9935 - precision: 0.9938 - recall: 0.9933 - auc: 0.9998 - f1_score_micro: 0.9935 - f1_score_macro: 0.9931WARNING:tensorflow:Can save best model only with val_accuracy available, skipping.\n",
      "305/305 [==============================] - 1360s 4s/step - loss: 0.0188 - categorical_accuracy: 0.9935 - precision: 0.9938 - recall: 0.9933 - auc: 0.9998 - f1_score_micro: 0.9935 - f1_score_macro: 0.9931 - val_loss: 0.1648 - val_categorical_accuracy: 0.9535 - val_precision: 0.9550 - val_recall: 0.9525 - val_auc: 0.9927 - val_f1_score_micro: 0.9535 - val_f1_score_macro: 0.9499\n"
     ]
    }
   ],
   "source": [
    "history = model.fit(X_train, y_train, epochs = 10, batch_size=128, validation_data=(X_val, y_val), callbacks=[model_checkpoint_callback])"
   ]
  },
  {
   "cell_type": "code",
   "execution_count": 18,
   "metadata": {},
   "outputs": [
    {
     "name": "stderr",
     "output_type": "stream",
     "text": [
      "WARNING:absl:Found untraced functions such as lstm_cell_1_layer_call_fn, lstm_cell_1_layer_call_and_return_conditional_losses, lstm_cell_2_layer_call_fn, lstm_cell_2_layer_call_and_return_conditional_losses, lstm_cell_4_layer_call_fn while saving (showing 5 of 8). These functions will not be directly callable after loading.\n"
     ]
    },
    {
     "name": "stdout",
     "output_type": "stream",
     "text": [
      "INFO:tensorflow:Assets written to: bi-lstm_model/assets\n"
     ]
    },
    {
     "name": "stderr",
     "output_type": "stream",
     "text": [
      "INFO:tensorflow:Assets written to: bi-lstm_model/assets\n"
     ]
    }
   ],
   "source": [
    "model.save('bi-lstm_model')"
   ]
  },
  {
   "cell_type": "code",
   "execution_count": 23,
   "metadata": {},
   "outputs": [
    {
     "name": "stdout",
     "output_type": "stream",
     "text": [
      "77/77 [==============================] - 60s 759ms/step - loss: 0.1648 - categorical_accuracy: 0.9535 - precision: 0.9550 - recall: 0.9525 - auc: 0.9927 - f1_score_micro: 0.9535 - f1_score_macro: 0.9499\n",
      "Eval loss: 0.1648164838552475\n",
      "Eval categorical_accuracy: 0.9534835815429688\n",
      "Eval precision: 0.9550031423568726\n",
      "Eval recall: 0.9524590373039246\n",
      "Eval auc: 0.9926600456237793\n",
      "Eval F1 (micro): 0.9534836411476135\n",
      "Eval F1 (macro): 0.9499143362045288\n"
     ]
    }
   ],
   "source": [
    "results = model.evaluate(X_val, y_val, batch_size=128)\n",
    "print('Eval loss:', results[0])\n",
    "print('Eval categorical_accuracy:', results[1])\n",
    "print('Eval precision:', results[2])\n",
    "print('Eval recall:', results[3])\n",
    "print('Eval auc:', results[4])\n",
    "print('Eval F1 (micro):', results[5])\n",
    "print('Eval F1 (macro):', results[6])"
   ]
  },
  {
   "cell_type": "code",
   "execution_count": 22,
   "metadata": {},
   "outputs": [
    {
     "name": "stdout",
     "output_type": "stream",
     "text": [
      "START predict\n",
      "94/94 [==============================] - 63s 660ms/step\n",
      "DONE predict\n",
      "START evaluate\n",
      "94/94 [==============================] - 64s 670ms/step - loss: 4.2114 - categorical_accuracy: 0.3977 - precision: 0.3992 - recall: 0.3967 - auc: 0.6337 - f1_score_micro: 0.3977 - f1_score_macro: 0.3567\n",
      "Test loss: 4.211350917816162\n",
      "Test categorical_accuracy: 0.39766666293144226\n",
      "Test precision: 0.3991949260234833\n",
      "Test recall: 0.39666667580604553\n",
      "Test auc: 0.6337157487869263\n",
      "Test F1 (micro): 0.39766669273376465\n",
      "Test F1 (macro): 0.35672515630722046\n"
     ]
    },
    {
     "data": {
      "image/png": "[encoded data removed]",
      "text/plain": [
       "<Figure size 640x480 with 1 Axes>"
      ]
     },
     "metadata": {},
     "output_type": "display_data"
    }
   ],
   "source": [
    "# predict\n",
    "print(\"START predict\")\n",
    "test_predictions = model.predict(X_test)\n",
    "test_result = np.argmax(test_predictions, axis=1)\n",
    "print(\"DONE predict\")\n",
    "\n",
    "# evaluate\n",
    "print(\"START evaluate\")\n",
    "test_results = model.evaluate(X_test, y_test)\n",
    "print('Test loss:', test_results[0])\n",
    "print('Test categorical_accuracy:', test_results[1])\n",
    "print('Test precision:', test_results[2])\n",
    "print('Test recall:', test_results[3])\n",
    "print('Test auc:', test_results[4])\n",
    "print('Test F1 (micro):', test_results[5])\n",
    "print('Test F1 (macro):', test_results[6])\n",
    "\n",
    "draw_confusion_matrix(np.argmax(y_test, axis=1), test_result)"
   ]
  },
  {
   "attachments": {},
   "cell_type": "markdown",
   "metadata": {},
   "source": [
    "# Option 5: Retry LSTM/Bi-LSTM"
   ]
  },
  {
   "cell_type": "code",
   "execution_count": 4,
   "metadata": {},
   "outputs": [],
   "source": [
    "import numpy as np \n",
    "import pandas as pd\n",
    "import matplotlib.pyplot as plt\n",
    "import seaborn as sns\n",
    "from keras.preprocessing.text import Tokenizer\n",
    "from keras_preprocessing.sequence import pad_sequences\n",
    "from keras.models import Sequential\n",
    "from keras.layers import Dense, Embedding, LSTM, SpatialDropout1D, Bidirectional\n",
    "from sklearn.model_selection import train_test_split\n",
    "from keras.utils.np_utils import to_categorical\n",
    "from keras.callbacks import EarlyStopping\n",
    "from keras.layers import Dropout\n",
    "import tensorflow_addons as tfa\n",
    "import tensorflow as tf\n",
    "\n",
    "from imblearn.over_sampling import RandomOverSampler, SMOTE\n",
    "from imblearn.under_sampling import RandomUnderSampler, NearMiss\n",
    "from collections import Counter\n",
    "\n",
    "import re\n",
    "from nltk.corpus import stopwords\n",
    "from nltk import word_tokenize\n",
    "STOPWORDS = set(stopwords.words('english'))\n",
    "from bs4 import BeautifulSoup"
   ]
  },
  {
   "cell_type": "code",
   "execution_count": 5,
   "metadata": {},
   "outputs": [
    {
     "name": "stdout",
     "output_type": "stream",
     "text": [
      "<class 'pandas.core.frame.DataFrame'>\n",
      "RangeIndex: 48854 entries, 0 to 48853\n",
      "Data columns (total 2 columns):\n",
      " #   Column  Non-Null Count  Dtype \n",
      "---  ------  --------------  ----- \n",
      " 0   labels  48854 non-null  int64 \n",
      " 1   text    48854 non-null  object\n",
      "dtypes: int64(1), object(1)\n",
      "memory usage: 763.5+ KB\n"
     ]
    }
   ],
   "source": [
    "# read data\n",
    "df = pd.read_csv(\"raw_data/fulltrain.csv\", names=[\"labels\", \"text\"])\n",
    "# load test set\n",
    "test_df = pd.read_csv(\"raw_data/balancedtest.csv\", names=[\"labels\", \"text\"])\n",
    "df.info()"
   ]
  },
  {
   "cell_type": "code",
   "execution_count": 6,
   "metadata": {},
   "outputs": [
    {
     "data": {
      "text/plain": [
       "<Axes: ylabel='Frequency'>"
      ]
     },
     "execution_count": 6,
     "metadata": {},
     "output_type": "execute_result"
    },
    {
     "data": {
      "image/png": "[encoded data removed]",
      "text/plain": [
       "<Figure size 640x480 with 1 Axes>"
      ]
     },
     "metadata": {},
     "output_type": "display_data"
    }
   ],
   "source": [
    "df[\"labels\"].plot(kind=\"hist\")"
   ]
  },
  {
   "cell_type": "code",
   "execution_count": 7,
   "metadata": {},
   "outputs": [],
   "source": [
    "# Clean text\n",
    "REPLACE_BY_SPACE_RE = re.compile('[/(){}\\[\\]\\|@,;]')\n",
    "BAD_SYMBOLS_RE = re.compile('[^0-9a-z #+_]')\n",
    "STOPWORDS = set(stopwords.words('english'))\n",
    "\n",
    "def clean_text(text):\n",
    "    \"\"\"\n",
    "        text: a string\n",
    "        \n",
    "        return: modified initial string\n",
    "    \"\"\"\n",
    "    text = text.lower() # lowercase text\n",
    "    text = REPLACE_BY_SPACE_RE.sub(' ', text) # replace REPLACE_BY_SPACE_RE symbols by space in text. substitute the matched string in REPLACE_BY_SPACE_RE with space.\n",
    "    text = BAD_SYMBOLS_RE.sub('', text) # remove symbols which are in BAD_SYMBOLS_RE from text. substitute the matched string in BAD_SYMBOLS_RE with nothing. \n",
    "    text = text.replace('x', '')\n",
    "#    text = re.sub(r'\\W+', '', text)\n",
    "    text = ' '.join(word for word in text.split() if word not in STOPWORDS) # remove stopwords from text\n",
    "    return text\n",
    "\n",
    "df['text'] = df['text'].apply(clean_text)\n"
   ]
  },
  {
   "cell_type": "code",
   "execution_count": 8,
   "metadata": {},
   "outputs": [
    {
     "name": "stderr",
     "output_type": "stream",
     "text": [
      "/var/folders/68/c2vd8ndn12s0ky3brj493wzr0000gn/T/ipykernel_89317/3439526795.py:1: FutureWarning: The default value of regex will change from True to False in a future version.\n",
      "  df['text'] = df['text'].str.replace('\\d+', '') # remove all numbers?\n"
     ]
    }
   ],
   "source": [
    "df['text'] = df['text'].str.replace('\\d+', '') # remove all numbers?"
   ]
  },
  {
   "cell_type": "code",
   "execution_count": 9,
   "metadata": {},
   "outputs": [
    {
     "name": "stdout",
     "output_type": "stream",
     "text": [
      "Found 286355 unique tokens.\n"
     ]
    }
   ],
   "source": [
    "# The maximum number of words to be used. (most frequent)\n",
    "MAX_NB_WORDS = 50000\n",
    "# Max number of words in each complaint.\n",
    "MAX_SEQUENCE_LENGTH = 250\n",
    "# This is fixed.\n",
    "EMBEDDING_DIM = 100\n",
    "\n",
    "GLOVE_DIR = f\"glove/glove.6B.{EMBEDDING_DIM}d.txt\"\n",
    "\n",
    "\n",
    "tokenizer = Tokenizer(num_words=MAX_NB_WORDS, filters='!\"#$%&()*+,-./:;<=>?@[\\]^_`{|}~', lower=True)\n",
    "tokenizer.fit_on_texts(df['text'].values)\n",
    "word_index = tokenizer.word_index\n",
    "print('Found %s unique tokens.' % len(word_index))"
   ]
  },
  {
   "cell_type": "code",
   "execution_count": 10,
   "metadata": {},
   "outputs": [
    {
     "name": "stdout",
     "output_type": "stream",
     "text": [
      "Shape of data tensor: (48854, 250)\n",
      "Shape of test data tensor: (3000, 250)\n"
     ]
    }
   ],
   "source": [
    "X = tokenizer.texts_to_sequences(df['text'].values)\n",
    "X = pad_sequences(X, maxlen=MAX_SEQUENCE_LENGTH)\n",
    "print('Shape of data tensor:', X.shape)\n",
    "\n",
    "X_test = tokenizer.texts_to_sequences(test_df['text'].values)\n",
    "X_test = pad_sequences(X_test, maxlen=MAX_SEQUENCE_LENGTH)\n",
    "print('Shape of test data tensor:', X_test.shape)"
   ]
  },
  {
   "cell_type": "code",
   "execution_count": 11,
   "metadata": {},
   "outputs": [
    {
     "name": "stdout",
     "output_type": "stream",
     "text": [
      "Shape of label tensor: (48854, 4)\n",
      "Shape of label tensor: (3000, 4)\n"
     ]
    }
   ],
   "source": [
    "Y = pd.get_dummies(df['labels']).values\n",
    "print('Shape of label tensor:', Y.shape)\n",
    "\n",
    "Y_test = pd.get_dummies(test_df['labels']).values\n",
    "print('Shape of label tensor:', Y_test.shape)"
   ]
  },
  {
   "cell_type": "code",
   "execution_count": 12,
   "metadata": {},
   "outputs": [
    {
     "name": "stdout",
     "output_type": "stream",
     "text": [
      "(43968, 250) (43968, 4)\n",
      "(4886, 250) (4886, 4)\n"
     ]
    }
   ],
   "source": [
    "X_train, X_val, Y_train, Y_val = train_test_split(X,Y, test_size = 0.10, random_state = 42)\n",
    "print(X_train.shape,Y_train.shape)\n",
    "print(X_val.shape,Y_val.shape)"
   ]
  },
  {
   "cell_type": "code",
   "execution_count": 13,
   "metadata": {},
   "outputs": [
    {
     "name": "stdout",
     "output_type": "stream",
     "text": [
      "training:  [12671  6244 16085  8968]\n",
      "training ros:  [16085 16085 16085 16085]\n"
     ]
    }
   ],
   "source": [
    "# Randomly over sample the minority class\n",
    "ros = RandomOverSampler(random_state=42)\n",
    "X_train_ros, Y_train_ros= ros.fit_resample(X_train, Y_train)\n",
    "# Check the number of records after over sampling\n",
    "print('training: ', Y_train.sum(axis=0))\n",
    "print('training ros: ', Y_train_ros.sum(axis=0))"
   ]
  },
  {
   "cell_type": "code",
   "execution_count": 14,
   "metadata": {},
   "outputs": [
    {
     "name": "stdout",
     "output_type": "stream",
     "text": [
      "training:  [12671  6244 16085  8968]\n",
      "training rus:  [6244 6244 6244 6244]\n"
     ]
    }
   ],
   "source": [
    "# Randomly under sample the majority class\n",
    "rus = RandomUnderSampler(random_state=42)\n",
    "X_train_rus, Y_train_rus= rus.fit_resample(X_train, Y_train)\n",
    "# Check the number of records after under sampling\n",
    "print('training: ', Y_train.sum(axis=0))\n",
    "print('training rus: ', Y_train_rus.sum(axis=0))"
   ]
  },
  {
   "cell_type": "code",
   "execution_count": 55,
   "metadata": {},
   "outputs": [
    {
     "name": "stdout",
     "output_type": "stream",
     "text": [
      "training:  [12671  6244 16085  8968]\n",
      "training nearmiss:  [6244 6244 6244 6244]\n"
     ]
    }
   ],
   "source": [
    "# Under sample the majority class\n",
    "nearmiss = NearMiss(version=1)\n",
    "X_train_nearmiss, Y_train_nearmiss= nearmiss.fit_resample(X_train, Y_train)\n",
    "# Check the number of records after over sampling\n",
    "print('training: ', Y_train.sum(axis=0))\n",
    "print('training nearmiss: ', Y_train_nearmiss.sum(axis=0))"
   ]
  },
  {
   "cell_type": "code",
   "execution_count": 16,
   "metadata": {},
   "outputs": [
    {
     "name": "stdout",
     "output_type": "stream",
     "text": [
      "Loading Glove from: glove/glove.6B.100d.txt\n",
      "Done.\n",
      " Proceeding with Embedding Matrix...\n",
      "Completed!\n"
     ]
    }
   ],
   "source": [
    "# create embedding matrix\n",
    "embeddings_index = {}\n",
    "f = open(GLOVE_DIR, encoding='utf8')\n",
    "print(f\"Loading Glove from: {GLOVE_DIR}\")\n",
    "for line in f:\n",
    "    values = line.split()\n",
    "    word = values[0]\n",
    "    embeddings_index[word] = np.asarray(values[1:], dtype='float32')\n",
    "f.close()\n",
    "print(\"Done.\\n Proceeding with Embedding Matrix...\")\n",
    "embedding_matrix = np.random.random((len(word_index) + 1, EMBEDDING_DIM))\n",
    "for word, i in tokenizer.word_index.items():\n",
    "    embedding_vector = embeddings_index.get(word)\n",
    "    if embedding_vector is not None:\n",
    "        embedding_matrix[i] = embedding_vector\n",
    "print(\"Completed!\")"
   ]
  },
  {
   "cell_type": "code",
   "execution_count": 44,
   "metadata": {},
   "outputs": [
    {
     "name": "stdout",
     "output_type": "stream",
     "text": [
      "Model: \"sequential_2\"\n",
      "_________________________________________________________________\n",
      " Layer (type)                Output Shape              Param #   \n",
      "=================================================================\n",
      " embeddings (Embedding)      (None, 250, 100)          28635600  \n",
      "                                                                 \n",
      " spatial_dropout1d_2 (Spatia  (None, 250, 100)         0         \n",
      " lDropout1D)                                                     \n",
      "                                                                 \n",
      " lstm_2 (LSTM)               (None, 100)               80400     \n",
      "                                                                 \n",
      " dense_4 (Dense)             (None, 100)               10100     \n",
      "                                                                 \n",
      " dropout_2 (Dropout)         (None, 100)               0         \n",
      "                                                                 \n",
      " dense_5 (Dense)             (None, 4)                 404       \n",
      "                                                                 \n",
      "=================================================================\n",
      "Total params: 28,726,504\n",
      "Trainable params: 90,904\n",
      "Non-trainable params: 28,635,600\n",
      "_________________________________________________________________\n",
      "None\n"
     ]
    }
   ],
   "source": [
    "use_glove = True # True for GloVe, False for Keras Tokenizer\n",
    "use_bi_lstm = True # True for Bi-LSTM, False for LSTM\n",
    "\n",
    "model = Sequential() \n",
    "if use_glove: \n",
    "    model.add(Embedding(len(tokenizer.word_index) + 1,\n",
    "        EMBEDDING_DIM,\n",
    "        weights = [embedding_matrix],\n",
    "        input_length = MAX_SEQUENCE_LENGTH,\n",
    "        trainable=False,\n",
    "        name = 'embeddings'))\n",
    "else: \n",
    "    model.add(Embedding(MAX_NB_WORDS, EMBEDDING_DIM, input_length=X.shape[1])) \n",
    "model.add(SpatialDropout1D(0.2))\n",
    "if use_bi_lstm: \n",
    "    model.add(Bidirectional(LSTM(100))),\n",
    "else: \n",
    "    model.add(LSTM(100, dropout=0.2))\n",
    "model.add(Dense(100, activation='relu')),\n",
    "model.add(Dropout(0.2))\n",
    "model.add(Dense(4, activation='softmax'))\n",
    "model.compile(loss='categorical_crossentropy', optimizer='adam', metrics=[\n",
    "    \"categorical_accuracy\", \n",
    "    tf.keras.metrics.Precision(), \n",
    "    tf.keras.metrics.Recall(), \n",
    "    tf.keras.metrics.AUC(),\n",
    "    tfa.metrics.F1Score(num_classes=4, average=\"micro\", name=\"f1_score_micro\"), \n",
    "    tfa.metrics.F1Score(num_classes=4, average=\"macro\", name=\"f1_score_macro\")\n",
    "])\n",
    "print(model.summary())"
   ]
  },
  {
   "cell_type": "code",
   "execution_count": 62,
   "metadata": {},
   "outputs": [
    {
     "name": "stdout",
     "output_type": "stream",
     "text": [
      "Epoch 1/5\n",
      "352/352 [==============================] - 35s 98ms/step - loss: 0.0695 - categorical_accuracy: 0.9753 - precision_2: 0.9770 - recall_2: 0.9737 - auc_2: 0.9986 - f1_score_micro: 0.9753 - f1_score_macro: 0.9720 - val_loss: 0.1484 - val_categorical_accuracy: 0.9408 - val_precision_2: 0.9433 - val_recall_2: 0.9388 - val_auc_2: 0.9956 - val_f1_score_micro: 0.9408 - val_f1_score_macro: 0.2424\n",
      "Epoch 2/5\n",
      "352/352 [==============================] - 34s 98ms/step - loss: 0.0639 - categorical_accuracy: 0.9774 - precision_2: 0.9787 - recall_2: 0.9759 - auc_2: 0.9989 - f1_score_micro: 0.9774 - f1_score_macro: 0.9747 - val_loss: 0.0611 - val_categorical_accuracy: 0.9820 - val_precision_2: 0.9827 - val_recall_2: 0.9804 - val_auc_2: 0.9993 - val_f1_score_micro: 0.9820 - val_f1_score_macro: 0.2477\n",
      "Epoch 3/5\n",
      "352/352 [==============================] - 35s 100ms/step - loss: 0.0575 - categorical_accuracy: 0.9793 - precision_2: 0.9807 - recall_2: 0.9783 - auc_2: 0.9991 - f1_score_micro: 0.9793 - f1_score_macro: 0.9767 - val_loss: 0.1320 - val_categorical_accuracy: 0.9480 - val_precision_2: 0.9487 - val_recall_2: 0.9472 - val_auc_2: 0.9965 - val_f1_score_micro: 0.9480 - val_f1_score_macro: 0.2433\n",
      "Epoch 4/5\n",
      "352/352 [==============================] - 34s 97ms/step - loss: 0.0538 - categorical_accuracy: 0.9810 - precision_2: 0.9820 - recall_2: 0.9797 - auc_2: 0.9992 - f1_score_micro: 0.9810 - f1_score_macro: 0.9786 - val_loss: 0.0944 - val_categorical_accuracy: 0.9640 - val_precision_2: 0.9639 - val_recall_2: 0.9632 - val_auc_2: 0.9983 - val_f1_score_micro: 0.9640 - val_f1_score_macro: 0.2454\n"
     ]
    }
   ],
   "source": [
    "epochs = 5\n",
    "batch_size = 64\n",
    "\n",
    "history = model.fit(X_train_rus, Y_train_rus, epochs=epochs, batch_size=batch_size,validation_split=0.1,callbacks=[EarlyStopping(monitor='val_f1_score_macro', patience=3, min_delta=0.0001)])"
   ]
  },
  {
   "cell_type": "code",
   "execution_count": 63,
   "metadata": {},
   "outputs": [
    {
     "name": "stdout",
     "output_type": "stream",
     "text": [
      "77/77 [==============================] - 5s 59ms/step - loss: 0.1090 - categorical_accuracy: 0.9666 - precision_2: 0.9680 - recall_2: 0.9652 - auc_2: 0.9965 - f1_score_micro: 0.9666 - f1_score_macro: 0.9649\n",
      "Eval loss: 0.10899791121482849\n",
      "Eval categorical_accuracy: 0.9666393995285034\n",
      "Eval precision: 0.9679803252220154\n",
      "Eval recall: 0.9652067422866821\n",
      "Eval auc: 0.9964520931243896\n",
      "Eval F1 (micro): 0.9666393995285034\n",
      "Eval F1 (macro): 0.964921772480011\n"
     ]
    }
   ],
   "source": [
    "results = model.evaluate(X_val, Y_val, batch_size=64)\n",
    "print('Eval loss:', results[0])\n",
    "print('Eval categorical_accuracy:', results[1])\n",
    "print('Eval precision:', results[2])\n",
    "print('Eval recall:', results[3])\n",
    "print('Eval auc:', results[4])\n",
    "print('Eval F1 (micro):', results[5])\n",
    "print('Eval F1 (macro):', results[6])"
   ]
  },
  {
   "cell_type": "code",
   "execution_count": 64,
   "metadata": {},
   "outputs": [
    {
     "name": "stdout",
     "output_type": "stream",
     "text": [
      "START predict\n",
      "94/94 [==============================] - 4s 43ms/step\n",
      "DONE predict\n",
      "START evaluate\n",
      "94/94 [==============================] - 6s 59ms/step - loss: 2.2681 - categorical_accuracy: 0.5183 - precision_2: 0.5256 - recall_2: 0.5127 - auc_2: 0.7707 - f1_score_micro: 0.5183 - f1_score_macro: 0.4864\n",
      "Test loss: 2.2680721282958984\n",
      "Test categorical_accuracy: 0.5183333158493042\n",
      "Test precision: 0.5256322622299194\n",
      "Test recall: 0.512666642665863\n",
      "Test auc: 0.7707145810127258\n",
      "Test F1 (micro): 0.5183333158493042\n",
      "Test F1 (macro): 0.48636072874069214\n"
     ]
    },
    {
     "data": {
      "image/png": "[encoded data removed]",
      "text/plain": [
       "<Figure size 640x480 with 1 Axes>"
      ]
     },
     "metadata": {},
     "output_type": "display_data"
    }
   ],
   "source": [
    "# predict\n",
    "print(\"START predict\")\n",
    "test_predictions = model.predict(X_test)\n",
    "test_result = np.argmax(test_predictions, axis=1)\n",
    "print(\"DONE predict\")\n",
    "\n",
    "# evaluate\n",
    "print(\"START evaluate\")\n",
    "test_results = model.evaluate(X_test, Y_test)\n",
    "print('Test loss:', test_results[0])\n",
    "print('Test categorical_accuracy:', test_results[1])\n",
    "print('Test precision:', test_results[2])\n",
    "print('Test recall:', test_results[3])\n",
    "print('Test auc:', test_results[4])\n",
    "print('Test F1 (micro):', test_results[5])\n",
    "print('Test F1 (macro):', test_results[6])\n",
    "\n",
    "draw_confusion_matrix(np.argmax(Y_test, axis=1), test_result)"
   ]
  },
  {
   "cell_type": "code",
   "execution_count": null,
   "metadata": {},
   "outputs": [],
   "source": []
  }
 ],
 "metadata": {
  "kernelspec": {
   "display_name": "tensor2.9",
   "language": "python",
   "name": "python3"
  },
  "language_info": {
   "codemirror_mode": {
    "name": "ipython",
    "version": 3
   },
   "file_extension": ".py",
   "mimetype": "text/x-python",
   "name": "python",
   "nbconvert_exporter": "python",
   "pygments_lexer": "ipython3",
   "version": "3.10.9"
  }
 },
 "nbformat": 4,
 "nbformat_minor": 2
}
